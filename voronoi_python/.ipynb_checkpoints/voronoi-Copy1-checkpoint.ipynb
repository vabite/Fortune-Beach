{
 "cells": [
  {
   "cell_type": "code",
   "execution_count": 956,
   "metadata": {
    "collapsed": true
   },
   "outputs": [],
   "source": [
    "#voronoi diagram 0.0"
   ]
  },
  {
   "cell_type": "code",
   "execution_count": 957,
   "metadata": {
    "collapsed": true
   },
   "outputs": [],
   "source": [
    "import math\n",
    "import numpy as np"
   ]
  },
  {
   "cell_type": "code",
   "execution_count": 958,
   "metadata": {
    "collapsed": false
   },
   "outputs": [],
   "source": [
    "def circumcenter(a, b, c):\n",
    "    d = (a.x - c.x) * (b.y - c.y) - (b.x - c.x) * (a.y - c.y)\n",
    "    if d==0: #tre punti allineati\n",
    "        return Point(math.inf, math.inf)\n",
    "    xc = (((a.x - c.x) * (a.x + c.x) + (a.y - c.y) * (a.y + c.y)) / 2 * \n",
    "          (b.y - c.y) - ((b.x - c.x) * (b.x + c.x) + (b.y - c.y) * (b.y + c.y)) / 2 * \n",
    "          (a.y - c.y))/d\n",
    "    yc = (((b.x - c.x) * (b.x + c.x) + (b.y - c.y) * (b.y + c.y)) / 2 * \n",
    "          (a.x - c.x) - ((a.x - c.x) * (a.x + c.x) + (a.y - c.y) * (a.y + c.y)) / 2 * \n",
    "          (b.x - c.x))/d\n",
    "    return Point(xc, yc)\n",
    "\n",
    "def circumbottom(a, b, c):\n",
    "    cc = circumcenter(a, b, c)\n",
    "    return Point(cc.x, cc.y-cc.dist_to_point(a)) #(cc.x, cc.y-r)\n",
    "\n",
    "def circumtop(a, b, c):\n",
    "    cc = circumcenter(a, b, c)\n",
    "    return Point(cc.x, cc.y+cc.dist_to_point(a)) #(cc.x, cc.y-r)\n",
    "\n",
    "def arc_cross_x(f1, f2, q):\n",
    "    if f1.y!=f2.y:\n",
    "        return (f1.y*f2.x-f1.x*f2.y+f1.x*q-f2.x*q-math.sqrt((f1.x*f1.x+f1.y*f1.y-2*f1.x*f2.x+f2.x*f2.x-2*f1.y*f2.y+f2.y*f2.y)*(f1.y*f2.y-f1.y*q-f2.y*q+q*q)))/(f1.y-f2.y)  \n",
    "    else:\n",
    "        (f1.x+f2.x)/2\n",
    "\n",
    "def distance(a, b):\n",
    "    return math.sqrt(math.pow((a.x - b.x), 2) + math.pow((a.y - b.y), 2))\n",
    "\n",
    "def go_to_i(alist, test):\n",
    "    i = 0\n",
    "    while i < len(alist) and test(alist[i]):\n",
    "        i += 1\n",
    "    return i"
   ]
  },
  {
   "cell_type": "code",
   "execution_count": 959,
   "metadata": {
    "collapsed": false
   },
   "outputs": [],
   "source": [
    "class Point(object):\n",
    "    \n",
    "    def __init__(self, x, y):\n",
    "        self.x = x\n",
    "        self.y = y\n",
    "        \n",
    "    def str_point(self):\n",
    "        return \"[\"+str(round(self.x,3))+\",\"+str(round(self.y,3))+\"]\"\n",
    "        \n",
    "    def is_x_greater(self, p):\n",
    "        return self.x > p.x\n",
    "    \n",
    "    def is_y_greater(self, p):\n",
    "        return self.y > p.y\n",
    "        \n",
    "    def delta_x(self, p):\n",
    "        return self.x-p.x\n",
    "    \n",
    "    def delta_y(self, p):\n",
    "        return self.y-p.y\n",
    "    \n",
    "    def dist_to_point(self, p):\n",
    "        return math.sqrt(math.pow(self.x - p.x, 2) + math.pow(self.y - p.y, 2))\n",
    "    \n",
    "    def dist_to_par(self, focus): #se la distanza punto parabola è infinita (direttrice parabola passante per punto e fuoco)\n",
    "        return math.pow(self.dist_to_point(focus), 2)/(2*abs(self.delta_y(focus))) if self.delta_y(focus)!=0 else math.inf\n",
    "    \n",
    "    def is_same_point(self, p):\n",
    "        return self.x == p.x and self.y == p.y\n",
    "        \n",
    "    def is_in(self, ps):\n",
    "        for p in ps:\n",
    "            if self.is_same_point(p):\n",
    "                return True\n",
    "        return False"
   ]
  },
  {
   "cell_type": "code",
   "execution_count": 960,
   "metadata": {
    "collapsed": true
   },
   "outputs": [],
   "source": [
    "class Segment(object):\n",
    "    \n",
    "    def __init__(self,  p1=None, p2=None, start=None, end=None):\n",
    "        self.start = start #punto iniziale del segmento\n",
    "        self.end = end #punto finale del segmento\n",
    "        self.p1 = p1 #uno dei due punti di cui l'oggetto è un segmento dell'asse\n",
    "        self.p2 = p2 #uno dei due punti di cui l'oggetto è un segmento dell'asse\n",
    "        \n",
    "    def str_segment(self):\n",
    "        return \"Segment. Start:\"+self.start.str_point()+\". End: \"+self.end.str_point()"
   ]
  },
  {
   "cell_type": "code",
   "execution_count": 961,
   "metadata": {
    "collapsed": false
   },
   "outputs": [],
   "source": [
    "class Beachline(object):\n",
    "    \n",
    "    def __init__(self, item):\n",
    "        self.item = item\n",
    "        self.parent = None\n",
    "        self.l = None\n",
    "        self.r = None\n",
    "        self.c_event=None\n",
    "        \n",
    "    def str_node(self, directions=[]):\n",
    "        cur_node=self\n",
    "        for d in directions:\n",
    "            cur_node=cur_node.l if d==\"l\" else cur_node.r\n",
    "        if isinstance(cur_node.item, Segment):\n",
    "            return \"Edge. Start at: \"+cur_node.item.start.str_point()#+\"; next arc1 focus: \"+cur_node.item.p1.str_point()+\"; next arc focus2: \"+cur_node.item.p2.str_point()\n",
    "        else:\n",
    "            return \"Arc. \"+cur_node.item.str_point()+\". Circle event: None\" if cur_node.c_event==None else \"Arc. \"+cur_node.item.str_point()+\". Event: \"+cur_node.c_event.str_event()\n",
    "        \n",
    "    def get_leaves(self):\n",
    "        cur_node=self\n",
    "        leaves=[]\n",
    "        while not cur_node.is_leaf():\n",
    "            cur_node=cur_node.l\n",
    "        while cur_node!=None:\n",
    "            leaves.append(cur_node)\n",
    "            cur_node=cur_node.get_rleaf()\n",
    "        return leaves\n",
    "              \n",
    "    def is_leaf(self):\n",
    "        return self.l==None\n",
    "    \n",
    "    def is_lchild(self):\n",
    "        return not self.is_root() and self.parent.l==self\n",
    "    \n",
    "    def is_rchild(self):\n",
    "        return not self.is_root() and self.parent.r==self\n",
    "                \n",
    "    def is_root(self):\n",
    "        return self.parent==None\n",
    "        \n",
    "    def add_rchild(self, item, event=None):\n",
    "        child = Beachline(item)\n",
    "        child.parent = self\n",
    "        self.r = child\n",
    "        \n",
    "    def add_lchild(self, item, event=None):\n",
    "        child = Beachline(item)\n",
    "        child.parent = self\n",
    "        self.l = child\n",
    "        \n",
    "    #def get_nearest_arc_node(self, new_site):\n",
    "        #cur_node = self\n",
    "        #while isinstance(cur_node.item, Segment): #se il nuovo sito è equidistante da p1 e p2 è automaricamente associato al figlio destro (non so se corretto)\n",
    "            #cur_node = cur_node.l if new_site.x < cur_node.item.p1.x else cur_node.r\n",
    "        #return cur_node\n",
    "    \n",
    "    def get_arc_node_on_site(self, new_site):\n",
    "        cur_node = self\n",
    "        while isinstance(cur_node.item, Segment): #se il nuovo sito è equidistante da p1 e p2 è automaricamente associato al figlio destro (non so se corretto)\n",
    "            cur_node = cur_node.l if new_site.x < arc_cross_x(cur_node.item.p1, cur_node.item.p2, new_site.y) else cur_node.r\n",
    "        return cur_node\n",
    "    \n",
    "    def get_lleaf(self, leaf=None):\n",
    "        cur_node=self if leaf==None else leaf #se non passo un argomento al metodo utilizza come foglia il nodo chiamante\n",
    "        while cur_node.is_lchild():\n",
    "            cur_node=cur_node.parent\n",
    "        if cur_node.is_root():\n",
    "            return None\n",
    "        cur_node=cur_node.parent.l\n",
    "        while not cur_node.is_leaf():\n",
    "            cur_node=cur_node.r\n",
    "        return cur_node\n",
    "    \n",
    "    def get_rleaf(self, leaf=None):\n",
    "        cur_node=self if leaf==None else leaf #se non passo un argomento al metodo utilizza come foglia il nodo chiamante\n",
    "        while cur_node.is_rchild():\n",
    "            cur_node=cur_node.parent\n",
    "        if cur_node.is_root():\n",
    "            return None\n",
    "        cur_node=cur_node.parent.r\n",
    "        while not cur_node.is_leaf():\n",
    "            cur_node=cur_node.l\n",
    "        return cur_node\n",
    "    \n",
    "    #def add_initial_arc(self, new_arc_site):\n",
    "            \n",
    "    #modifica la beach in modo che, dove prima c'era il sito arco intersecato, ora si ha sito arco intersecato,\n",
    "    #segmento con inizio in intersezione, nuovo sito, segmento con inizio in intersezione, sito arco intersecato\n",
    "    def add_arc(self, new_arc_site, crossed_arc_node):\n",
    "        crossed_arc_site = crossed_arc_node.item\n",
    "        #QUI SFRUTTA L'ORDINAMENTO IN Y DEGLI EVENTI: va aggiunto a new_arc_site.y un vettore di lung=new_arc_site.dist_to_par(crossed_arc_site) nel verso opposto a quello di sweep\n",
    "        #se la sl va verso y crescenti la y del circle event sarà cc.y-r\n",
    "        #se la sl va verso y decrescenti la y del circle event sarà cc.y+r\n",
    "        cross_point = Point(new_arc_site.x, new_arc_site.y-new_arc_site.dist_to_par(crossed_arc_site))\n",
    "        new_halfedge1 = Segment(p1=crossed_arc_site, p2=new_arc_site, start=cross_point)\n",
    "        new_halfedge2 = Segment(p1=new_arc_site, p2=crossed_arc_site, start=cross_point)\n",
    "        crossed_arc_node.item = new_halfedge1\n",
    "        crossed_arc_node.add_lchild(crossed_arc_site)\n",
    "        crossed_arc_node.add_rchild(new_halfedge2)\n",
    "        crossed_arc_node.r.add_lchild(new_arc_site)\n",
    "        crossed_arc_node.r.add_rchild(crossed_arc_site)\n",
    "        return crossed_arc_node\n",
    "     \n",
    "    def rm_arc(self, new_edge_start, dead_arc_node):\n",
    "        #salvataggi dei valori da ritornare prima dellaggiornamento dell'albero\n",
    "        live_lefter_arc_node = dead_arc_node.get_lleaf()\n",
    "        live_righter_arc_node = dead_arc_node.get_rleaf()\n",
    "        top_dead_edge=dead_arc_node.parent.parent.item\n",
    "        mid_dead_edge=dead_arc_node.parent.item\n",
    "        #aggiornamento dell'albero\n",
    "            #salvataggi dei riferimenti per nuovo assegnamento\n",
    "        top_dead_node = dead_arc_node.parent.parent\n",
    "        live_cut_branch = dead_arc_node.parent.l if dead_arc_node.is_rchild() else dead_arc_node.parent.r\n",
    "            #nuovo assegnamento\n",
    "        top_dead_node.item = Segment(p1=live_lefter_arc_node.item or None, p2=live_righter_arc_node.item or None, start=new_edge_start)\n",
    "        if dead_arc_node.parent.is_rchild():\n",
    "            top_dead_node.r=live_cut_branch #non usa metodo add_rchild perchè non aggiunge un nodo a partire da un item\n",
    "        else:\n",
    "            top_dead_node.l=live_cut_branch\n",
    "        live_cut_branch.parent=top_dead_node\n",
    "        print(top_dead_edge.start.str_point())\n",
    "        print(mid_dead_edge.start.str_point())\n",
    "        return live_lefter_arc_node, live_righter_arc_node, top_dead_edge, mid_dead_edge"
   ]
  },
  {
   "cell_type": "code",
   "execution_count": null,
   "metadata": {
    "collapsed": false
   },
   "outputs": [],
   "source": []
  },
  {
   "cell_type": "code",
   "execution_count": null,
   "metadata": {
    "collapsed": false
   },
   "outputs": [],
   "source": []
  },
  {
   "cell_type": "code",
   "execution_count": 962,
   "metadata": {
    "collapsed": false
   },
   "outputs": [],
   "source": [
    "first_arc_site = Point(5, 10)\n",
    "bl = Beachline(first_arc_site)"
   ]
  },
  {
   "cell_type": "code",
   "execution_count": 963,
   "metadata": {
    "collapsed": false
   },
   "outputs": [
    {
     "name": "stdout",
     "output_type": "stream",
     "text": [
      "5 10 None None None None\n"
     ]
    }
   ],
   "source": [
    "print(bl.item.x, bl.item.y, bl.parent, bl.l, bl.r, bl.c_event)"
   ]
  },
  {
   "cell_type": "code",
   "execution_count": 964,
   "metadata": {
    "collapsed": false
   },
   "outputs": [
    {
     "name": "stdout",
     "output_type": "stream",
     "text": [
      "Root. Segment with start point: [ 7 , 6.0 ]\n",
      "Root.r. Segment with start point: [ 7 , 6.0 ]\n",
      "Root.l. Point: [ 5 , 10 ]\n",
      "Root.r.r. Point: [ 5 , 10 ]\n",
      "Root.r.l. Point: [ 7 , 8 ]\n"
     ]
    }
   ],
   "source": [
    "second_site = Point(first_arc_site.x+2, first_arc_site.y-2) #così facendo, le halfedge sono costruite con start=[first_arc_site.x+2, first_arc_site.y]\n",
    "crossed_arc_node = bl.get_arc_node_on_site(second_site)\n",
    "bl.add_arc(second_site, crossed_arc_node)\n",
    "print(\"Root. Segment with start point: [\", bl.item.start.x, \",\", bl.item.start.y, \"]\") #1st-2nd site cross point\n",
    "print(\"Root.r. Segment with start point: [\", bl.r.item.start.x, \",\", bl.r.item.start.y, \"]\") #1st-2nd site cross point\n",
    "print(\"Root.l. Point: [\", bl.l.item.x, \",\", bl.l.item.y, \"]\") #1st site\n",
    "print(\"Root.r.r. Point: [\", bl.r.r.item.x, \",\", bl.r.r.item.y, \"]\") #1st site\n",
    "print(\"Root.r.l. Point: [\", bl.r.l.item.x, \",\", bl.r.l.item.y, \"]\") #2nd site"
   ]
  },
  {
   "cell_type": "code",
   "execution_count": 965,
   "metadata": {
    "collapsed": false,
    "scrolled": false
   },
   "outputs": [
    {
     "name": "stdout",
     "output_type": "stream",
     "text": [
      "Root. Segment with start point: [ 7 , 6.0 ]\n",
      "Root.r. Segment with start point: [ 7 , 6.0 ]\n",
      "Root.r.l. Segment with start point: [ 6 , 4.75 ]\n",
      "Root.r.l.r. Segment with start point: [ 6 , 4.75 ]\n",
      "Root.l. Point: [ 5 , 10 ]\n",
      "Root.r.r. Point: [ 5 , 10 ]\n",
      "Root.r.l.l. Point: [ 7 , 8 ]\n",
      "Root.r.l.r.r. Point: [ 7 , 8 ]\n",
      "Root.r.l.r.l. Point: [ 6 , 6 ]\n"
     ]
    }
   ],
   "source": [
    "third_site = Point(6, 6)\n",
    "crossed_arc_node = bl.get_arc_node_on_site(third_site)\n",
    "bl.add_arc(third_site, crossed_arc_node)\n",
    "print(\"Root. Segment with start point: [\", bl.item.start.x, \",\", bl.item.start.y, \"]\") #1st-2nd site cross point\n",
    "print(\"Root.r. Segment with start point: [\", bl.r.item.start.x, \",\", bl.r.item.start.y, \"]\") #1st-2nd site cross point\n",
    "print(\"Root.r.l. Segment with start point: [\", bl.r.l.item.start.x, \",\", bl.r.l.item.start.y, \"]\") #2nd-3rd site cross point\n",
    "print(\"Root.r.l.r. Segment with start point: [\", bl.r.l.r.item.start.x, \",\", bl.r.l.r.item.start.y, \"]\") #2nd-3rd site cross point\n",
    "print(\"Root.l. Point: [\", bl.l.item.x, \",\", bl.l.item.y, \"]\") #1st site\n",
    "print(\"Root.r.r. Point: [\", bl.r.r.item.x, \",\", bl.r.r.item.y, \"]\") #1st site\n",
    "print(\"Root.r.l.l. Point: [\", bl.r.l.l.item.x, \",\", bl.r.l.l.item.y, \"]\") #2nd site\n",
    "print(\"Root.r.l.r.r. Point: [\", bl.r.l.r.r.item.x, \",\", bl.r.l.r.r.item.y, \"]\") #2nd site\n",
    "print(\"Root.r.l.r.l. Point: [\", bl.r.l.r.l.item.x, \",\", bl.r.l.r.l.item.y, \"]\") #3rd site"
   ]
  },
  {
   "cell_type": "code",
   "execution_count": 966,
   "metadata": {
    "collapsed": false
   },
   "outputs": [
    {
     "name": "stdout",
     "output_type": "stream",
     "text": [
      "5 10\n",
      "7 8\n",
      "6 6\n",
      "7 8\n",
      "5 10\n",
      "None\n",
      "True\n",
      "True\n",
      "True\n",
      "True\n",
      "None\n"
     ]
    }
   ],
   "source": [
    "first_leaf = bl.l\n",
    "print(first_leaf.item.x, first_leaf.item.y)\n",
    "second_leaf = bl.get_rleaf(first_leaf)\n",
    "print(second_leaf.item.x, second_leaf.item.y) #2nd site\n",
    "third_leaf = bl.get_rleaf(second_leaf)\n",
    "print(third_leaf.item.x, third_leaf.item.y) #3rd site\n",
    "fourth_leaf = bl.get_rleaf(third_leaf)\n",
    "print(fourth_leaf.item.x, fourth_leaf.item.y) #2nd site\n",
    "fifth_leaf = bl.get_rleaf(fourth_leaf)\n",
    "print(fifth_leaf.item.x, fifth_leaf.item.y) #1st site\n",
    "sixth_leaf = bl.get_rleaf(fifth_leaf)\n",
    "print(sixth_leaf) #None\n",
    "print(fourth_leaf==fifth_leaf.get_lleaf())\n",
    "print(third_leaf==fourth_leaf.get_lleaf())\n",
    "print(second_leaf==third_leaf.get_lleaf())\n",
    "print(first_leaf==second_leaf.get_lleaf())\n",
    "print(first_leaf.get_lleaf())"
   ]
  },
  {
   "cell_type": "code",
   "execution_count": 967,
   "metadata": {
    "collapsed": false
   },
   "outputs": [
    {
     "name": "stdout",
     "output_type": "stream",
     "text": [
      "[7,6.0]\n",
      "[6,4.75]\n",
      "Root. Segment with start point: [ 7 , 6.0 ]\n",
      "Root.r. Segment with start point: [ 2 , 9 ]\n",
      "Root.r.l. Segment with start point: [ 6 , 4.75 ]\n",
      "Root.l. Point: [ 5 , 10 ]\n",
      "Root.r.r. Point: [ 5 , 10 ]\n",
      "Root.r.l.l. Point: [ 6 , 6 ]\n",
      "Root.r.l.r. Point: [ 7 , 8 ]\n"
     ]
    }
   ],
   "source": [
    "new_edge_start=Point(2,9)\n",
    "bl.rm_arc(new_edge_start, second_leaf) #second leaf è un figlio sinistro\n",
    "print(\"Root. Segment with start point: [\", bl.item.start.x, \",\", bl.item.start.y, \"]\") #1st-2nd site cross point\n",
    "print(\"Root.r. Segment with start point: [\", bl.r.item.start.x, \",\", bl.r.item.start.y, \"]\") #new_edge_start\n",
    "print(\"Root.r.l. Segment with start point: [\", bl.r.l.item.start.x, \",\", bl.r.l.item.start.y, \"]\") #2nd-3rd site cross point\n",
    "print(\"Root.l. Point: [\", bl.l.item.x, \",\", bl.l.item.y, \"]\") #1st site\n",
    "print(\"Root.r.r. Point: [\", bl.r.r.item.x, \",\", bl.r.r.item.y, \"]\") #1st site\n",
    "print(\"Root.r.l.l. Point: [\", bl.r.l.l.item.x, \",\", bl.r.l.l.item.y, \"]\") #3nd site\n",
    "print(\"Root.r.l.r. Point: [\", bl.r.l.r.item.x, \",\", bl.r.l.r.item.y, \"]\") #2nd site"
   ]
  },
  {
   "cell_type": "code",
   "execution_count": 968,
   "metadata": {
    "collapsed": false
   },
   "outputs": [
    {
     "name": "stdout",
     "output_type": "stream",
     "text": [
      "True\n",
      "[2,9]\n",
      "[6,4.75]\n",
      "Root. Segment with start point: [ 7 , 6.0 ]\n",
      "Root.r. Segment with start point: [ 3 , 4 ]\n",
      "Root.l. Point: [ 5 , 10 ]\n",
      "Root.r.r. Point: [ 5 , 10 ]\n",
      "Root.r.l. Point: [ 7 , 8 ]\n"
     ]
    }
   ],
   "source": [
    "nnew_edge_start=Point(3,4)\n",
    "print(fifth_leaf.is_rchild())\n",
    "bl.rm_arc(nnew_edge_start, third_leaf) #fifth leaf è un figlio destro\n",
    "print(\"Root. Segment with start point: [\", bl.item.start.x, \",\", bl.item.start.y, \"]\") #nnew_edge\n",
    "print(\"Root.r. Segment with start point: [\", bl.r.item.start.x, \",\", bl.r.item.start.y, \"]\") #2nd-3rd site cross point\n",
    "print(\"Root.l. Point: [\", bl.l.item.x, \",\", bl.l.item.y, \"]\") #1st site\n",
    "print(\"Root.r.r. Point: [\", bl.r.r.item.x, \",\", bl.r.r.item.y, \"]\") #2nd site\n",
    "print(\"Root.r.l. Point: [\", bl.r.l.item.x, \",\", bl.r.l.item.y, \"]\") #3rd site"
   ]
  },
  {
   "cell_type": "code",
   "execution_count": null,
   "metadata": {
    "collapsed": true
   },
   "outputs": [],
   "source": []
  },
  {
   "cell_type": "code",
   "execution_count": null,
   "metadata": {
    "collapsed": true
   },
   "outputs": [],
   "source": []
  },
  {
   "cell_type": "code",
   "execution_count": null,
   "metadata": {
    "collapsed": true
   },
   "outputs": [],
   "source": []
  },
  {
   "cell_type": "code",
   "execution_count": 969,
   "metadata": {
    "collapsed": false
   },
   "outputs": [],
   "source": [
    "class Event(object):\n",
    "    \n",
    "    def __init__(self, arc_site_or_nodes): #sites: tupla dei siti associati agli archi coinvolti nell'evento (ordinati)\n",
    "        if isinstance(arc_site_or_nodes, Point): \n",
    "            self.coord=arc_site_or_nodes\n",
    "            self.c_event_arc_node=None\n",
    "        else:#QUI SFRUTTA L'ORDINAMENTO IN Y DEGLI EVENTI: se sweep verso y crescenti uso circumtop, viceversa circumbottom\n",
    "            self.vertex_coord=circumcenter(arc_site_or_nodes[0].item, arc_site_or_nodes[1].item, arc_site_or_nodes[2].item)\n",
    "            self.coord=circumtop(arc_site_or_nodes[0].item, arc_site_or_nodes[1].item, arc_site_or_nodes[2].item) \n",
    "            self.c_event_arc_node=arc_site_or_nodes[1]\n",
    "            \n",
    "    def str_event(self):\n",
    "        if(self.c_event_arc_node==None): #site event\n",
    "            return \"Site event. Site: \"+self.coord.str_point()  \n",
    "        else: #circle event\n",
    "            return \"Circle event. Coord:\"+self.coord.str_point()+\". Arc site:\"+self.c_event_arc_node.item.str_point()\n",
    "    \n",
    "    def is_same_event(self, e):\n",
    "        return self.c_event_arc_node==e.c_event_arc_node and self.coord==e.coord\n",
    "    \n",
    "    def is_coord_y_greater(self, e):\n",
    "        return self.coord.y > e.coord.y\n",
    "    \n",
    "    #QUI DEFINISCE L'ORDINAMENTO IN Y DEGLI EVENTI: in base a come ordino gli eventi, la sl andrà verso y crescenti o decrescenti\n",
    "    #inserisce i nuovi circle come primi eventi a tale y. Penso sia giusto gestirli prima dei site event, in modo da avere la beach aggiornata\n",
    "    def add(self, es):  \n",
    "        es.insert(go_to_i(es, self.is_coord_y_greater), self)\n",
    "    \n",
    "    def rm(self, es):\n",
    "        i = go_to_i(es, self.is_coord_y_greater)\n",
    "        while True:\n",
    "            #se non esiste un altro evento alla stessa y elimina subito l'evento corrente, se no effettua il controllo\n",
    "            if i==len(es)-1 or self.coord.y != es[i+1].coord.y or self.is_same_event(es[i]): \n",
    "                return es.pop(i)\n",
    "            i+=1            "
   ]
  },
  {
   "cell_type": "code",
   "execution_count": 970,
   "metadata": {
    "collapsed": false
   },
   "outputs": [],
   "source": [
    "class Voronoi(object):\n",
    "    \n",
    "    def __init__(self, sites):\n",
    "        self.sites = sites  #siti di V, obj Point\n",
    "        self.edges = []\n",
    "        self.events = []\n",
    "        for site in sites:\n",
    "            Event(site).add(self.events)\n",
    "        self.beach = Beachline(self.events[0].coord)\n",
    "        \n",
    "    \n",
    "    #rimuove dalla lista degli eventi l'evento cicle il cui arco associato all'indice della beachline argomento è \n",
    "    #quello centrale\n",
    "    def rm_circle_event(self, arc_node):\n",
    "        if arc_node.c_event != None:\n",
    "            arc_node.c_event.rm(self.events)\n",
    "            arc_node.c_event = None\n",
    "        else:\n",
    "            return None\n",
    "    \n",
    "    #NB: un circle event è originato da tre siti di V adiacenti. In esso viene eliminato l'arco centrale. Da notare\n",
    "    #che l'arco centrale non è associabile a priori in modo banale ad uno dei tre punti\n",
    "    #Il metodo controlla gli archi interessati da un cambiamento della beachline e verifica se ci sono dei circle\n",
    "    #event loro associati. Se ci sono, aggiunge l'evento alla coda salvando i siti degli archi nell'ordine di comparsa\n",
    "    #e salvando un riferimento all'evento \n",
    "    def add_circle_event(self, arc_node, sweep_y):\n",
    "        lefter_arc_node = arc_node.get_lleaf()\n",
    "        righter_arc_node = arc_node.get_rleaf()\n",
    "        if lefter_arc_node==None or righter_arc_node==None:\n",
    "            return \"No event: first or last arc\"\n",
    "        if lefter_arc_node.item.is_same_point(righter_arc_node.item):\n",
    "            return \"No event: lefter arc site equals righter arc site\"\n",
    "        cc = circumcenter(lefter_arc_node.item, arc_node.item, righter_arc_node.item)\n",
    "        if cc.y==math.inf:\n",
    "            return \"No event: the three arcs sites are on the same line\"\n",
    "        #QUI SFRUTTA L'ORDINAMENTO IN Y DEGLI EVENTI: va preso l'estremo della circonferenza nella direzione di sweep\n",
    "        #se la sl va verso y crescenti la y del circle event sarà cc.y+r\n",
    "        #se la sl va verso y decrescenti la y del circle event sarà cc.y-r\n",
    "        event_point=Point(cc.x, cc.y+arc_node.item.dist_to_point(cc))\n",
    "        #QUI SFRUTTA L'ORDINAMENTO IN Y DEGLI EVENTI: un evento è sotto la sl se deve essere ancora incontrato durante lo sweep, e viceversa\n",
    "        #se la sl va verso y crescenti un evento è sotto la sl se ha y minore di quella della sl\n",
    "        #se la sl va verso y decrescenti un evento è sotto la sl se ha y maggiore di quella della sl\n",
    "        if event_point.y<sweep_y:\n",
    "            return \"No event: circle event coordinate below sweepline\"\n",
    "        arc_node.c_event = Event([lefter_arc_node, arc_node, righter_arc_node])\n",
    "        arc_node.c_event.add(self.events)\n",
    "        return arc_node.c_event.str_event()\n",
    "        \n",
    "    def manage_site_event(self):\n",
    "        event=self.events.pop(0) #tolgo subito l'evento gestito; facendolo dopo potrei rimuovere un circle event aggiunto\n",
    "        crossed_arc_node = self.beach.get_arc_node_on_site(event.coord)\n",
    "        self.rm_circle_event(crossed_arc_node)\n",
    "        new_branch_root = self.beach.add_arc(event.coord, crossed_arc_node)\n",
    "        self.add_circle_event(new_branch_root.l, event.coord.y)\n",
    "        self.add_circle_event(new_branch_root.r.r, event.coord.y)\n",
    "        \n",
    "    def manage_circle_event(self):\n",
    "        event=self.events.pop(0) #tolgo subito l'evento gestito; facendolo dopo potrei rimuovere un circle event aggiunto\n",
    "        print(event.str_event())\n",
    "        (lefter_arc_node, righter_arc_node, top_dead_edge, mid_dead_edge)=self.beach.rm_arc(event.vertex_coord, event.c_event_arc_node)\n",
    "        top_dead_edge.end = event.vertex_coord\n",
    "        self.edges.append(top_dead_edge)\n",
    "        mid_dead_edge.end = event.vertex_coord\n",
    "        self.edges.append(mid_dead_edge)\n",
    "        self.rm_circle_event(lefter_arc_node)\n",
    "        self.rm_circle_event(righter_arc_node)\n",
    "        self.add_circle_event(lefter_arc_node, event.coord.y)\n",
    "        self.add_circle_event(righter_arc_node, event.coord.y)"
   ]
  },
  {
   "cell_type": "code",
   "execution_count": 971,
   "metadata": {
    "collapsed": false
   },
   "outputs": [
    {
     "name": "stdout",
     "output_type": "stream",
     "text": [
      "sites: [5, 10] [7, 8] [6, 6]\n",
      "1st event site: 6 6\n",
      "2nd event site: 7 8\n",
      "3rd event site: 5 10\n",
      "1st beachline item: 6 6\n"
     ]
    }
   ],
   "source": [
    "v=Voronoi((first_leaf.item, second_leaf.item, third_leaf.item))\n",
    "print(\"sites:\", *[str([site.x, site.y]) for site in v.sites])\n",
    "print(\"1st event site:\", v.events[0].coord.x, v.events[0].coord.y) #3rd site\n",
    "print(\"2nd event site:\", v.events[1].coord.x, v.events[1].coord.y) #2nd site\n",
    "print(\"3rd event site:\", v.events[2].coord.x, v.events[2].coord.y) #1st site\n",
    "print(\"1st beachline item:\", v.beach.item.x, v.beach.item.y) #3rd site coordinates"
   ]
  },
  {
   "cell_type": "code",
   "execution_count": 972,
   "metadata": {
    "collapsed": false
   },
   "outputs": [
    {
     "name": "stdout",
     "output_type": "stream",
     "text": [
      "1st event site: 6 6\n",
      "2nd event site: 5 10 \n",
      "\n",
      "1st event site: 6 6\n",
      "2nd event site: 7 7\n",
      "3rd event site: 5 10\n"
     ]
    }
   ],
   "source": [
    "v.events[1].rm(v.events) #rimozione in mezzo alla coda\n",
    "print(\"1st event site:\", v.events[0].coord.x, v.events[0].coord.y) #3rd site\n",
    "print(\"2nd event site:\", v.events[1].coord.x, v.events[1].coord.y, \"\\n\") #1st site\n",
    "Event(Point(7, 7)).add(v.events) #aggiunta in mezzo alla coda\n",
    "print(\"1st event site:\", v.events[0].coord.x, v.events[0].coord.y) #3rd site\n",
    "print(\"2nd event site:\", v.events[1].coord.x, v.events[1].coord.y) #new_ev_1 site\n",
    "print(\"3rd event site:\", v.events[2].coord.x, v.events[2].coord.y) #1st site"
   ]
  },
  {
   "cell_type": "code",
   "execution_count": 973,
   "metadata": {
    "collapsed": false
   },
   "outputs": [
    {
     "name": "stdout",
     "output_type": "stream",
     "text": [
      "1st event site: 7 7\n",
      "2nd event site: 5 10 \n",
      "\n",
      "1st event site: 0 -1\n",
      "2nd event site: 7 7\n",
      "3rd event site: 5 10\n"
     ]
    }
   ],
   "source": [
    "v.events[0].rm(v.events) #rimozione a inizio coda\n",
    "print(\"1st event site:\", v.events[0].coord.x, v.events[0].coord.y) #new_ev_1 site\n",
    "print(\"2nd event site:\", v.events[1].coord.x, v.events[1].coord.y, \"\\n\") #1st site\n",
    "Event(Point(0, -1)).add(v.events) #aggiunta a inizio coda\n",
    "print(\"1st event site:\", v.events[0].coord.x, v.events[0].coord.y) #new_ev_2 site\n",
    "print(\"2nd event site:\", v.events[1].coord.x, v.events[1].coord.y) #new_ev_1 site\n",
    "print(\"3rd event site:\", v.events[2].coord.x, v.events[2].coord.y) #1st site"
   ]
  },
  {
   "cell_type": "code",
   "execution_count": 974,
   "metadata": {
    "collapsed": false
   },
   "outputs": [
    {
     "name": "stdout",
     "output_type": "stream",
     "text": [
      "1st event site: 0 -1\n",
      "2nd event site: 7 7 \n",
      "\n",
      "1st event site: 0 -1\n",
      "2nd event site: 7 7\n",
      "3rd event site: -6 9.3\n"
     ]
    }
   ],
   "source": [
    "v.events[2].rm(v.events) #rimozione a fondo coda\n",
    "print(\"1st event site:\", v.events[0].coord.x, v.events[0].coord.y) #new_ev_2_site\n",
    "print(\"2nd event site:\", v.events[1].coord.x, v.events[1].coord.y, \"\\n\") #new_ev_1 site\n",
    "Event(Point(-6, 9.3)).add(v.events) #aggiunta a fondo coda\n",
    "print(\"1st event site:\", v.events[0].coord.x, v.events[0].coord.y) #new_ev_2 site\n",
    "print(\"2nd event site:\", v.events[1].coord.x, v.events[1].coord.y) #new_ev_1 site\n",
    "print(\"3rd event site:\", v.events[2].coord.x, v.events[2].coord.y) #new_ev_3 site"
   ]
  },
  {
   "cell_type": "code",
   "execution_count": 975,
   "metadata": {
    "collapsed": false
   },
   "outputs": [
    {
     "name": "stdout",
     "output_type": "stream",
     "text": [
      "1st event site: 0 -1\n",
      "2nd event site: 7 7\n",
      "3rd event site: -5 9.3\n",
      "4th event site: -6 9.3\n"
     ]
    }
   ],
   "source": [
    "Event(Point(-5, 9.3)).add(v.events) #aggiunta alla stessa y \n",
    "print(\"1st event site:\", v.events[0].coord.x, v.events[0].coord.y) #new_ev_2 site\n",
    "print(\"2nd event site:\", v.events[1].coord.x, v.events[1].coord.y) #new_ev_1 site\n",
    "print(\"3rd event site:\", v.events[2].coord.x, v.events[2].coord.y) #new_ev_4 site\n",
    "print(\"4th event site:\", v.events[3].coord.x, v.events[2].coord.y) #new_ev_3 site"
   ]
  },
  {
   "cell_type": "code",
   "execution_count": 976,
   "metadata": {
    "collapsed": false
   },
   "outputs": [
    {
     "name": "stdout",
     "output_type": "stream",
     "text": [
      "1st event site: 0 -1\n",
      "2nd event site: 7 7\n",
      "3rd event site: -5 9.3\n"
     ]
    }
   ],
   "source": [
    "v.events[3].rm(v.events) #rimozione alla stessa y\n",
    "print(\"1st event site:\", v.events[0].coord.x, v.events[0].coord.y) #new_ev_2 site\n",
    "print(\"2nd event site:\", v.events[1].coord.x, v.events[1].coord.y) #new_ev_1 site\n",
    "print(\"3rd event site:\", v.events[2].coord.x, v.events[2].coord.y) #new_ev_4 site"
   ]
  },
  {
   "cell_type": "code",
   "execution_count": null,
   "metadata": {
    "collapsed": true
   },
   "outputs": [],
   "source": []
  },
  {
   "cell_type": "code",
   "execution_count": 977,
   "metadata": {
    "collapsed": false
   },
   "outputs": [
    {
     "data": {
      "text/plain": [
       "<__main__.Beachline at 0x1033e4908>"
      ]
     },
     "execution_count": 977,
     "metadata": {},
     "output_type": "execute_result"
    }
   ],
   "source": [
    "### controllo di add_circle_event\n",
    "v1=Voronoi([Point(0,2), Point(math.sqrt(2),math.sqrt(2)), Point(2,0)])\n",
    "new_site=v1.events[1].coord\n",
    "crossed_arc_node=v1.beach.get_arc_node_on_site(new_site)\n",
    "v1.beach.add_arc(new_site, crossed_arc_node)\n",
    "new_site=v1.events[2].coord\n",
    "crossed_arc_node=v1.beach.get_arc_node_on_site(new_site)\n",
    "v1.beach.add_arc(new_site, crossed_arc_node)\n",
    "#new_site=v1.events[3].coord\n",
    "#crossed_arc_node=v1.beach.get_arc_node_on_site(new_site)\n",
    "#v1.beach.add_arc(new_site, crossed_arc_node)"
   ]
  },
  {
   "cell_type": "code",
   "execution_count": 978,
   "metadata": {
    "collapsed": false,
    "scrolled": true
   },
   "outputs": [
    {
     "name": "stdout",
     "output_type": "stream",
     "text": [
      "Arc. [2,0]. Circle event: None\n",
      "Arc. [0,2]. Circle event: None\n",
      "Arc. [2,0]. Circle event: None\n",
      "Arc. [1.414,1.414]. Circle event: None\n",
      "Arc. [2,0]. Circle event: None\n"
     ]
    }
   ],
   "source": [
    "arc_nodes=v1.beach.get_leaves()\n",
    "for arc_node in arc_nodes:\n",
    "    print(arc_node.str_node([]))"
   ]
  },
  {
   "cell_type": "code",
   "execution_count": 979,
   "metadata": {
    "collapsed": false,
    "scrolled": false
   },
   "outputs": [
    {
     "name": "stdout",
     "output_type": "stream",
     "text": [
      "Before checking for events\n",
      "\n",
      "# Arc nodes\n",
      "Arc. [2,0]. Circle event: None\n",
      "Arc. [0,2]. Circle event: None\n",
      "Arc. [2,0]. Circle event: None\n",
      "Arc. [1.414,1.414]. Circle event: None\n",
      "Arc. [2,0]. Circle event: None\n",
      "\n",
      "# Event queue\n",
      "['Site event. Site: [2,0]', 'Site event. Site: [1.414,1.414]', 'Site event. Site: [0,2]']\n"
     ]
    }
   ],
   "source": [
    "print(\"Before checking for events\")\n",
    "print(\"\\n# Arc nodes\")\n",
    "for arc_node in v1.beach.get_leaves():\n",
    "    print(arc_node.str_node([]))\n",
    "print(\"\\n# Event queue\")\n",
    "print([event.str_event() for event in v1.events])"
   ]
  },
  {
   "cell_type": "code",
   "execution_count": 980,
   "metadata": {
    "collapsed": false
   },
   "outputs": [
    {
     "name": "stdout",
     "output_type": "stream",
     "text": [
      "\n",
      "While checking for circle events\n",
      "* No event: first or last arc\n",
      "Arc. [2,0]. Circle event: None\n",
      "* No event: lefter arc site equals righter arc site\n",
      "Arc. [0,2]. Circle event: None\n",
      "* Circle event. Coord:[0.0,2.0]. Arc site:[2,0]\n",
      "Arc. [2,0]. Event: Circle event. Coord:[0.0,2.0]. Arc site:[2,0]\n",
      "* No event: lefter arc site equals righter arc site\n",
      "Arc. [1.414,1.414]. Circle event: None\n",
      "* No event: first or last arc\n",
      "Arc. [2,0]. Circle event: None\n",
      "\n",
      " ['Site event. Site: [2,0]', 'Site event. Site: [1.414,1.414]', 'Circle event. Coord:[0.0,2.0]. Arc site:[2,0]', 'Site event. Site: [0,2]']\n"
     ]
    }
   ],
   "source": [
    "#non elimina gli archi intermedi anche una volta morti siccome non gestisco i circle event\n",
    "#nB: coordinate dei circle event non sono il centro della circonferenza ma il suo estremo\n",
    "print(\"\\nWhile checking for circle events\")\n",
    "sweep_y=1 #da tunare per verificare se l'evento viene scartato quando cade nel range già scorso\n",
    "for arc_node in v1.beach.get_leaves():\n",
    "    print(\"*\", v1.add_circle_event(arc_node, sweep_y))\n",
    "    print(arc_node.str_node([]))\n",
    "print(\"\\n\", [event.str_event() for event in v1.events])"
   ]
  },
  {
   "cell_type": "code",
   "execution_count": 981,
   "metadata": {
    "collapsed": false
   },
   "outputs": [
    {
     "name": "stdout",
     "output_type": "stream",
     "text": [
      "\n",
      "While checking for circle events\n",
      "\n",
      "Event queue before removal: \n",
      "['Site event. Site: [2,0]', 'Site event. Site: [1.414,1.414]', 'Circle event. Coord:[0.0,2.0]. Arc site:[2,0]', 'Site event. Site: [0,2]']\n",
      "\n",
      "Circle event before removal: Arc. [2,0]. Circle event: None\n",
      "Circle event after removal: Arc. [2,0]. Circle event: None\n",
      "\n",
      "Circle event before removal: Arc. [0,2]. Circle event: None\n",
      "Circle event after removal: Arc. [0,2]. Circle event: None\n",
      "\n",
      "Circle event before removal: Arc. [2,0]. Event: Circle event. Coord:[0.0,2.0]. Arc site:[2,0]\n",
      "Circle event after removal: Arc. [2,0]. Circle event: None\n",
      "\n",
      "Circle event before removal: Arc. [1.414,1.414]. Circle event: None\n",
      "Circle event after removal: Arc. [1.414,1.414]. Circle event: None\n",
      "\n",
      "Circle event before removal: Arc. [2,0]. Circle event: None\n",
      "Circle event after removal: Arc. [2,0]. Circle event: None\n",
      "\n",
      "Event queue after removal: \n",
      "['Site event. Site: [2,0]', 'Site event. Site: [1.414,1.414]', 'Site event. Site: [0,2]']\n"
     ]
    }
   ],
   "source": [
    "### controllo di rm_circle_event\n",
    "print(\"\\nWhile checking for circle events\")\n",
    "print(\"\\nEvent queue before removal: \")\n",
    "print([event.str_event() for event in v1.events])\n",
    "for arc_node in v1.beach.get_leaves():\n",
    "    print(\"\\nCircle event before removal: \"+arc_node.str_node([]))\n",
    "    v1.rm_circle_event(arc_node)\n",
    "    print(\"Circle event after removal: \"+arc_node.str_node([]))\n",
    "print(\"\\nEvent queue after removal: \")\n",
    "print([event.str_event() for event in v1.events])"
   ]
  },
  {
   "cell_type": "code",
   "execution_count": 982,
   "metadata": {
    "collapsed": false
   },
   "outputs": [],
   "source": [
    "v1=Voronoi([Point(0,0), Point(0,4), Point(3,4)])"
   ]
  },
  {
   "cell_type": "code",
   "execution_count": 983,
   "metadata": {
    "collapsed": false
   },
   "outputs": [
    {
     "name": "stdout",
     "output_type": "stream",
     "text": [
      "['Site event. Site: [0,0]', 'Site event. Site: [3,4]', 'Site event. Site: [0,4]']\n",
      "\n",
      "\n",
      "Arc. [0,0]. Circle event: None\n",
      "['Site event. Site: [3,4]', 'Site event. Site: [0,4]']\n",
      "\n",
      "\n",
      "Arc. [0,0]. Circle event: None\n",
      "Arc. [3,4]. Circle event: None\n",
      "Arc. [0,0]. Circle event: None\n",
      "['Site event. Site: [0,4]']\n",
      "\n",
      "\n",
      "Arc. [0,0]. Circle event: None\n",
      "Arc. [0,4]. Circle event: None\n",
      "Arc. [0,0]. Event: Circle event. Coord:[1.5,4.5]. Arc site:[0,0]\n",
      "Arc. [3,4]. Circle event: None\n",
      "Arc. [0,0]. Circle event: None\n",
      "['Circle event. Coord:[1.5,4.5]. Arc site:[0,0]']\n",
      "\n",
      "\n",
      "Circle event. Coord:[1.5,4.5]. Arc site:[0,0]\n",
      "[0,2.0]\n",
      "[0,2.0]\n",
      "Arc. [0,0]. Circle event: None\n",
      "Arc. [0,4]. Event: Circle event. Coord:[1.5,4.5]. Arc site:[0,4]\n",
      "Arc. [3,4]. Event: Circle event. Coord:[1.5,4.5]. Arc site:[3,4]\n",
      "Arc. [0,0]. Circle event: None\n",
      "['Circle event. Coord:[1.5,4.5]. Arc site:[3,4]', 'Circle event. Coord:[1.5,4.5]. Arc site:[0,4]']\n",
      "\n",
      "\n",
      "Circle event. Coord:[1.5,4.5]. Arc site:[3,4]\n",
      "[3,0.875]\n",
      "[3,0.875]\n",
      "Arc. [0,0]. Circle event: None\n",
      "Arc. [0,4]. Circle event: None\n",
      "Arc. [0,0]. Circle event: None\n",
      "[]\n",
      "\n",
      "\n"
     ]
    }
   ],
   "source": [
    "print([event.str_event() for event in v1.events])\n",
    "print(\"\\n\")\n",
    "\n",
    "v1.events.pop(0)\n",
    "for arc_node in v1.beach.get_leaves():\n",
    "    print(arc_node.str_node([]))\n",
    "print([event.str_event() for event in v1.events])\n",
    "print(\"\\n\")\n",
    "\n",
    "while v1.events != []:\n",
    "    if v1.events[0].c_event_arc_node==None:\n",
    "        v1.manage_site_event()\n",
    "    else:\n",
    "        v1.manage_circle_event()\n",
    "    for arc_node in v1.beach.get_leaves():\n",
    "        print(arc_node.str_node([]))\n",
    "    print([event.str_event() for event in v1.events])\n",
    "    print(\"\\n\")"
   ]
  },
  {
   "cell_type": "code",
   "execution_count": 984,
   "metadata": {
    "collapsed": false
   },
   "outputs": [
    {
     "name": "stdout",
     "output_type": "stream",
     "text": [
      "Segment. Start:[0,2.0]. End: [1.5,2.0]\n",
      "Segment. Start:[0,2.0]. End: [1.5,2.0]\n",
      "Segment. Start:[3,0.875]. End: [1.5,2.0]\n",
      "Segment. Start:[3,0.875]. End: [1.5,2.0]\n"
     ]
    },
    {
     "data": {
      "text/plain": [
       "[None, None, None, None]"
      ]
     },
     "execution_count": 984,
     "metadata": {},
     "output_type": "execute_result"
    }
   ],
   "source": [
    "[print(edge.str_segment()) for edge in v1.edges]"
   ]
  },
  {
   "cell_type": "code",
   "execution_count": 985,
   "metadata": {
    "collapsed": false
   },
   "outputs": [
    {
     "name": "stdout",
     "output_type": "stream",
     "text": [
      "Edge. Start at: [1.5,2.0]\n"
     ]
    }
   ],
   "source": [
    "print(v1.beach.l.str_node())"
   ]
  },
  {
   "cell_type": "code",
   "execution_count": null,
   "metadata": {
    "collapsed": false
   },
   "outputs": [],
   "source": []
  },
  {
   "cell_type": "code",
   "execution_count": null,
   "metadata": {
    "collapsed": false
   },
   "outputs": [],
   "source": []
  },
  {
   "cell_type": "markdown",
   "metadata": {},
   "source": [
    "## DA GESTIRE:\n",
    "\n",
    "### site event con nuovo sito con sulla verticale l'intersezione di due archi adiacenti \n",
    "vado a sezionare l'arco di destra (per convenzione. Avrei potuto sezionare il sinistro). Contestualmente si crea un\n",
    "circle event per l'arco fittizio creato (arco più a sinistra della terna creata). Come primo evento successivo\n",
    "gerstirò tale circle event aggiornando la beach\n",
    "\n",
    "### eventi alla stessa y (sia circle che site)\n",
    "penso sia meglio gestire prima i circle che i site, in modo da avere la\n",
    "beach aggiornata quando gestisco i site. \n",
    "Non penso più site event alla stessa y diano problemi, qualsiasi sia l'ordine con il quale sono gestiti\n",
    "\n",
    "* Non penso più circle events alla stessa y diano problemi, anche se questo non è ovvio. In particolare andrebbe investigato il caso in cui, eliminando un arco, aggiungo un circle event (che verrà eseguito come circle event successivo, coinvolgente un arco che deve essere eliminato da un circle event alla stessa y)\n",
    "\n",
    "### eventi alla stessa [x,y] sia circle che site\n",
    "site è stupido. L'utente non dovrebbe inserirne. Nel caso si possono eliminare siti uguali dall'input fornito\n",
    "\n",
    "* cirle event?\n",
    "\n",
    "### più siti iniziali alla stessa y\n",
    "* creo l'albero separatamente. Le foglie sono inserite controllando in quale intervallo di x cadono (e non quale è l'arco soprastante, non esistendo un arco soprastante. L'arco nel cui intervallo di x cade il nuovo sito è sostituito con un nodo a due figli. Il nodo è l'asse tra nuovo sito e sito adiacente (ci associo punto all'infinito o cosa?). Il figlio sinistro è il sito adiacente. Il figlio destro è il sito adiacente.\n",
    "\n",
    "### chiusura algoritmo\n",
    "* scandisco l'albero alla ricerca dei segmenti rimasti. Determino se sono semirette nel semipiano superiore oinferiore in base a se p1.x < p2.x o viceversa. In base a ciò decido quale intersezione con la box tenere. Tale intersezione è associata all'estremo vacante"
   ]
  },
  {
   "cell_type": "code",
   "execution_count": null,
   "metadata": {
    "collapsed": true
   },
   "outputs": [],
   "source": []
  },
  {
   "cell_type": "code",
   "execution_count": null,
   "metadata": {
    "collapsed": true
   },
   "outputs": [],
   "source": []
  }
 ],
 "metadata": {
  "kernelspec": {
   "display_name": "Python 3",
   "language": "python",
   "name": "python3"
  },
  "language_info": {
   "codemirror_mode": {
    "name": "ipython",
    "version": 3
   },
   "file_extension": ".py",
   "mimetype": "text/x-python",
   "name": "python",
   "nbconvert_exporter": "python",
   "pygments_lexer": "ipython3",
   "version": "3.5.1"
  }
 },
 "nbformat": 4,
 "nbformat_minor": 0
}
