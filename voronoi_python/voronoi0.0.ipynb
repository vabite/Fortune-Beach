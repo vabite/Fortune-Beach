{
 "cells": [
  {
   "cell_type": "markdown",
   "metadata": {
    "collapsed": true
   },
   "source": [
    "# Voronoi diagram 0.0"
   ]
  },
  {
   "cell_type": "code",
   "execution_count": 1,
   "metadata": {
    "collapsed": false
   },
   "outputs": [],
   "source": [
    "import numpy as np\n",
    "import matplotlib.pyplot as plt\n",
    "import time\n",
    "import sys\n",
    "from matplotlib import collections as mc\n",
    "from matplotlib.patches import Polygon\n",
    "from matplotlib.collections import PatchCollection\n",
    "from matplotlib.cm import jet\n",
    "from collections import defaultdict"
   ]
  },
  {
   "cell_type": "code",
   "execution_count": null,
   "metadata": {
    "collapsed": true
   },
   "outputs": [],
   "source": []
  },
  {
   "cell_type": "code",
   "execution_count": 2,
   "metadata": {
    "collapsed": false
   },
   "outputs": [],
   "source": [
    "class Ordering(object):\n",
    "\n",
    "    def go_to_i(alist, elem, comparison):\n",
    "        i = 0\n",
    "        while i < len(alist) and comparison(elem, alist[i]):\n",
    "            i += 1\n",
    "        return i\n",
    "    \n",
    "    def is_coord_y_greater(elem1, elem2):\n",
    "        return elem1.coord.y>elem2.coord.y"
   ]
  },
  {
   "cell_type": "code",
   "execution_count": null,
   "metadata": {
    "collapsed": true
   },
   "outputs": [],
   "source": []
  },
  {
   "cell_type": "code",
   "execution_count": 3,
   "metadata": {
    "collapsed": true
   },
   "outputs": [],
   "source": [
    "class Circle():\n",
    "    \n",
    "    def center(a, b, c):\n",
    "        d = (a.x - c.x) * (b.y - c.y) - (b.x - c.x) * (a.y - c.y)\n",
    "        if d==0:\n",
    "            return Point(np.inf, np.inf)\n",
    "        xc = (((a.x - c.x) * (a.x + c.x) + (a.y - c.y) * (a.y + c.y)) / 2 *\n",
    "              (b.y - c.y) - ((b.x - c.x) * (b.x + c.x) + (b.y - c.y) * (b.y + c.y)) / 2 *\n",
    "              (a.y - c.y))/d\n",
    "        yc = (((b.x - c.x) * (b.x + c.x) + (b.y - c.y) * (b.y + c.y)) / 2 *\n",
    "              (a.x - c.x) - ((a.x - c.x) * (a.x + c.x) + (a.y - c.y) * (a.y + c.y)) / 2 *\n",
    "              (b.x - c.x))/d\n",
    "        return Point(xc, yc)\n",
    "\n",
    "    def bottom(a, b, c):\n",
    "        cc = self.center(a, b, c)\n",
    "        return Point(cc.x, cc.y-cc.dist_to_point(a))\n",
    "\n",
    "    def top(a, b, c):\n",
    "        cc = self.center(a, b, c)\n",
    "        return Point(cc.x, cc.y+cc.dist_to_point(a))"
   ]
  },
  {
   "cell_type": "code",
   "execution_count": null,
   "metadata": {
    "collapsed": true
   },
   "outputs": [],
   "source": []
  },
  {
   "cell_type": "code",
   "execution_count": 4,
   "metadata": {
    "collapsed": true
   },
   "outputs": [],
   "source": [
    "class Parabol():\n",
    "    def cross_x(f1, f2, q):\n",
    "        if f1.y!=f2.y:\n",
    "            s1=(f1.y*f2.x-f1.x*f2.y+f1.x*q-f2.x*q+np.sqrt((f1.x*f1.x+f1.y*f1.y-2*f1.x*f2.x+f2.x*f2.x-2*f1.y*f2.y+f2.y*f2.y)*(f1.y*f2.y-f1.y*q-f2.y*q+q*q)))/(f1.y-f2.y)\n",
    "            s2=(f1.y*f2.x-f1.x*f2.y+f1.x*q-f2.x*q-np.sqrt((f1.x*f1.x+f1.y*f1.y-2*f1.x*f2.x+f2.x*f2.x-2*f1.y*f2.y+f2.y*f2.y)*(f1.y*f2.y-f1.y*q-f2.y*q+q*q)))/(f1.y-f2.y)\n",
    "            return [s1, s2] if s1<s2 else [s2, s1]\n",
    "        else:\n",
    "            return [(f1.x+f2.x)/2, (f1.x+f2.x)/2]\n",
    "\n",
    "    def y(f, q):\n",
    "        def y(x):\n",
    "            if q!=f.y:\n",
    "                return np.power((x - f.x),2)/(2*(abs(q-f.y)))+(q-f.y)/2\n",
    "            else:\n",
    "                return np.inf\n",
    "        return y"
   ]
  },
  {
   "cell_type": "code",
   "execution_count": null,
   "metadata": {
    "collapsed": true
   },
   "outputs": [],
   "source": []
  },
  {
   "cell_type": "code",
   "execution_count": 5,
   "metadata": {
    "collapsed": false
   },
   "outputs": [],
   "source": [
    "class Point(object):\n",
    "    \n",
    "    def __init__(self, x, y):\n",
    "        self.x = x\n",
    "        self.y = y\n",
    "        \n",
    "    def __str__(self):\n",
    "        return \"(%.2f,%.2f)\" % (self.x,self.y)\n",
    "\n",
    "    def __repr__(self):\n",
    "        return str(self)\n",
    "\n",
    "    def __eq__(self, other):\n",
    "        return isinstance(other, Point) and self.x==other.x and self.y==other.y  \n",
    "    \n",
    "    def __hash__(self):\n",
    "        return hash(str(self))\n",
    "        \n",
    "    def is_x_greater(self, p):\n",
    "        return self.x > p.x\n",
    "    \n",
    "    def is_y_greater(self, p):\n",
    "        return self.y > p.y\n",
    "        \n",
    "    def delta_x(self, p):\n",
    "        return self.x-p.x\n",
    "    \n",
    "    def delta_y(self, p):\n",
    "        return self.y-p.y\n",
    "    \n",
    "    def dist_to_point(self, p):\n",
    "        return np.sqrt(np.power(self.x - p.x, 2) + np.power(self.y - p.y, 2))\n",
    "    \n",
    "    def dist_to_par(self, focus): #se la distanza punto parabola è infinita (direttrice parabola passante per punto e fuoco)\n",
    "        return np.power(self.dist_to_point(focus), 2)/(2*abs(self.delta_y(focus))) if self.delta_y(focus)!=0 else np.inf\n",
    "        \n",
    "    def is_in(self, ps):\n",
    "        for p in ps:\n",
    "            if self==p:\n",
    "                return True\n",
    "        return False"
   ]
  },
  {
   "cell_type": "code",
   "execution_count": null,
   "metadata": {
    "collapsed": true
   },
   "outputs": [],
   "source": []
  },
  {
   "cell_type": "code",
   "execution_count": 6,
   "metadata": {
    "collapsed": false
   },
   "outputs": [
    {
     "name": "stdout",
     "output_type": "stream",
     "text": [
      "1st intersection: 1.67544467966 . Second intersection:  14.3245553203\n"
     ]
    }
   ],
   "source": [
    "print(\"1st intersection:\", Parabol.cross_x(Point(0,0), Point(4,2), 4)[0],\". Second intersection: \",Parabol.cross_x(Point(0,0), Point(4,2), 4)[1])"
   ]
  },
  {
   "cell_type": "code",
   "execution_count": 7,
   "metadata": {
    "collapsed": false
   },
   "outputs": [
    {
     "name": "stdout",
     "output_type": "stream",
     "text": [
      "Parabola with y = 2 and focus in (0.00,0.00) evaluated in x = 2 gives f(x) = 2.0\n"
     ]
    }
   ],
   "source": [
    "f=Point(0,0)\n",
    "q=2\n",
    "x=2\n",
    "print(\"Parabola with y =\", q, \"and focus in\",str(f),\"evaluated in x =\",x,\"gives f(x) =\", Parabol.y(f,q)(x))"
   ]
  },
  {
   "cell_type": "code",
   "execution_count": 8,
   "metadata": {
    "collapsed": false
   },
   "outputs": [],
   "source": [
    "class Segment(object):\n",
    "    \n",
    "    def __init__(self,  pl=None, pr=None, start=None, end=None):\n",
    "        self.start = start #punto iniziale del segmento\n",
    "        self.end = end #punto finale del segmento\n",
    "        self.pl = pl #uno dei due punti di cui l'oggetto è un segmento dell'asse\n",
    "        self.pr = pr #uno dei due punti di cui l'oggetto è un segmento dell'asse\n",
    "        \n",
    "    def __str__(self):\n",
    "        start = \"None\" if self.start==None else self.start\n",
    "        end = \"None\" if self.end==None else self.end\n",
    "        return \"(%s -> %s, left focus %s, right focus %s)\" % (start, end, self.pl, self.pr)\n",
    "    \n",
    "    def halfplane(self):\n",
    "        #QUI SFRUTTA L'ORDINAMENTO IN Y DEGLI EVENTI: i semisegmenti vengono specchiati rispetto a x se cambia il verso di sweep\n",
    "        #per sweep verso x positive. +: semipiano superiore e x+; -: semipiano inferiore e x-\n",
    "        #per sweep verso x negative. +: semipiano inferiore e x+; -: semipiano superiore e x- (possibile invertire la condizione)\n",
    "        #L'assegnazione di x+ e x- è stata scelta arbitrariamente\n",
    "        if self.pl.x<self.pr.x: #semipiano superiore\n",
    "            return 2\n",
    "        if self.pl.x>self.pr.x: #semipiano inferiore\n",
    "            return -2\n",
    "        if self.pl.x==self.pr.x and self.pl.y>self.pr.y: #asse x+\n",
    "            return 1\n",
    "        return -1 #asse x-\n",
    "    \n",
    "    def m(self): #y=mx+q ; m=-(pl.x-pr.x)/(pl.y-pr.y) ; q=(pl.y+pr.y)/2-m*(pl.x+pr.x)/2\n",
    "        return np.inf if self.pl.y==self.pr.y else -(self.pl.x-self.pr.x)/(self.pl.y-self.pr.y)\n",
    "    \n",
    "    def direction(self):\n",
    "        (m, hp)=(self.m(), self.halfplane())\n",
    "        return Point(1,m) if (hp*m>0 or (m==0 and hp>0)) else Point(-1,-m) \n",
    "    \n",
    "    def theta(self, rad=False):\n",
    "        theta = np.arctan2(self.direction().y, self.direction().x)\n",
    "        return np.degrees(theta) if rad==False else theta\n",
    "        \n",
    "    def y(self, x):\n",
    "        return self.m()*x+self.start.y-self.m()*self.start.x\n",
    "    \n",
    "    def get_intersection(s1, s2=None):\n",
    "        (s1_m, s2_m)=(s1.m(), s2.m())\n",
    "        (s1_hp, s2_hp)=(s1.halfplane(), s2.halfplane())\n",
    "        #print(str(s1_m), str(s2_m), str(s1_hp), str(s2_hp))\n",
    "        if (s1_hp*s1_m>0 or (s1_m==0 and s1_hp>0)): #semiretta semipiano dx \n",
    "            s1_vec=Point(1,s1_m) \n",
    "        else: #semiretta nel semipiano sx\n",
    "            s1_vec=Point(-1,-s1_m)\n",
    "        if (s2_hp*s2_m>0 or (s2_m==0 and s2_hp>0)): #semiretta semipiano dx \n",
    "            s2_vec=Point(1,s2_m) \n",
    "        else: #semiretta nel semipiano sx\n",
    "            s2_vec=Point(-1,-s2_m)\n",
    "        dx = s2.start.x - s1.start.x\n",
    "        dy = s2.start.y - s1.start.y\n",
    "        if s2_m==np.inf: #segmento 2 verticale\n",
    "            #print(\"Vertical:\", s2_hp*(s1_m*dx-dy), s1_vec.x*dx)\n",
    "            #1e10 sarebbe 0, ma è inserito uno scarto per approssimazioni calcoli con i float\n",
    "            #Tale approssimazione rende i confronti più robusti, ma nel caso in cui le rette\n",
    "            #partono dallo stesso start fa risultare che le stesse non si intersecano\n",
    "            if s2_hp*(s1_m*dx-dy)>=-1.0e-10 and s1_vec.x*dx>=-1.0e-10: \n",
    "                return Point(s2.start.x, s1.start.y+s1_m*(dx))\n",
    "            return None\n",
    "        if s1_m==np.inf: #segmento 1 verticale; stesse condizioni ma con s1->s2, dx->-dx, dy->-dy\n",
    "            #print(\"Vertical \",s1_hp*(s2_m*dx-dy), s2_vec.x*dx)\n",
    "            if s1_hp*(s2_m*dx-dy)<=1.0e-10 and s2_vec.x*dx<=1.0e-10:\n",
    "                return Point(s1.start.x, s2.start.y-s2_m*(dx))\n",
    "            return None\n",
    "        det = s2_vec.x * s1_vec.y - s2_vec.y * s1_vec.x #ritorna False se semirette //, anche se collineari\n",
    "        if det==0:\n",
    "            return None\n",
    "        u = (dy * s2_vec.x - dx * s2_vec.y) / det\n",
    "        v = (dy * s1_vec.x - dx * s1_vec.y) / det\n",
    "        #print(\"Not vertical \", str(u), str(v))\n",
    "        if (u>=-1e-10 and v>=1e-10) or (u>=1e-10 and v>=-1e-10):\n",
    "            return Point(s1.start.x+u*s1_vec.x, s1.start.y+u*s1_vec.y)\n",
    "        return None"
   ]
  },
  {
   "cell_type": "code",
   "execution_count": 9,
   "metadata": {
    "collapsed": false
   },
   "outputs": [
    {
     "name": "stdout",
     "output_type": "stream",
     "text": [
      "Cross point: (0.00,0.00)\n"
     ]
    }
   ],
   "source": [
    "s1=Segment(start=Point(0,0), pl=Point(1,0), pr=Point(0,1))\n",
    "s2=Segment(start=Point(0,0), pl=Point(1,0), pr=Point(-1,0))\n",
    "cross_point=s1.get_intersection(s2)\n",
    "if cross_point!=None:\n",
    "    print(\"Cross point:\", str(cross_point))"
   ]
  },
  {
   "cell_type": "code",
   "execution_count": null,
   "metadata": {
    "collapsed": false
   },
   "outputs": [],
   "source": []
  },
  {
   "cell_type": "code",
   "execution_count": 10,
   "metadata": {
    "collapsed": false
   },
   "outputs": [],
   "source": [
    "class Beachline(object):\n",
    "    \n",
    "    def __init__(self, item=None):\n",
    "        self.item = item\n",
    "        self.parent = None\n",
    "        self.l = None\n",
    "        self.r = None\n",
    "        self.c_event=None\n",
    "        \n",
    "    def str_node(self, directions=[]):\n",
    "        cur_node=self\n",
    "        for d in directions:\n",
    "            cur_node=cur_node.l if d==\"l\" else cur_node.r\n",
    "        if isinstance(cur_node.item, Segment):\n",
    "            return \"Edge. \"+str(cur_node.item)\n",
    "        else:\n",
    "            return \"Arc. \"+str(cur_node.item)+\". Circle event: None\" if cur_node.c_event==None else \"Arc. \"+str(cur_node.item)+\". Event: \"+str(cur_node.c_event)\n",
    "    \n",
    "    def str_tree(self, path=\"Path: root\"):\n",
    "        if self.item==None: #un po' inefficente fargli compiere l'operazione ad ogni iterazione\n",
    "            return \"Empty beachline.\\n\"\n",
    "        node_string=path+\". \"+self.str_node()+\"\\n\"\n",
    "        if not self.is_leaf():\n",
    "            node_string+=self.l.str_tree(path+\"->l\")\n",
    "            node_string+=self.r.str_tree(path+\"->r\")\n",
    "        return node_string\n",
    "    \n",
    "    def get_leaves(self):\n",
    "        cur_node=self\n",
    "        leaves=[]\n",
    "        while not cur_node.is_leaf():\n",
    "            cur_node=cur_node.l\n",
    "        while cur_node!=None:\n",
    "            leaves.append(cur_node)\n",
    "            cur_node=cur_node.get_rleaf_and_rparent()[0]\n",
    "        return leaves\n",
    "              \n",
    "    def is_leaf(self):\n",
    "        return self.l==None\n",
    "    \n",
    "    def is_lchild(self):\n",
    "        return not self.is_root() and self.parent.l==self\n",
    "    \n",
    "    def is_rchild(self):\n",
    "        return not self.is_root() and self.parent.r==self\n",
    "                \n",
    "    def is_root(self):\n",
    "        return self.parent==None\n",
    "        \n",
    "    def add_rchild(self, item, event=None):\n",
    "        child = Beachline(item)\n",
    "        child.parent = self\n",
    "        self.r = child\n",
    "        \n",
    "    def add_lchild(self, item, event=None):\n",
    "        child = Beachline(item)\n",
    "        child.parent = self\n",
    "        self.l = child\n",
    "        \n",
    "    def get_nearest_arc_node_by_x(self, new_site):\n",
    "        if self.item==None: #beachline vuota. In tal caso non esiste un sito più vicino\n",
    "            return None\n",
    "        else:\n",
    "            cur_node=self\n",
    "        while isinstance(cur_node.item, Segment): #essendo al primo passaggio, siteA.x!=siteB.x, per ogni sito\n",
    "            cur_node=cur_node.l if new_site.x<(cur_node.item.pl.x+cur_node.item.pr.x)/2 else cur_node.r\n",
    "        return cur_node\n",
    "    \n",
    "    def get_arc_node_on_site(self, new_site):\n",
    "        if self.item==None: #beachline vuota. In tal caso non esiste un arco sopra il sito aggiunto, Non dovrebbe verificarsi mai\n",
    "            return None\n",
    "        else:\n",
    "            cur_node=self\n",
    "        cur_node = self\n",
    "        while isinstance(cur_node.item, Segment): #se il nuovo sito è equidistante da pl e pr è automaticamente associato al figlio destro (non so se corretto)\n",
    "            #print(\"Intersection between\",str(cur_node.item.pl),\"and\",str(cur_node.item.pr),\"when q=\",str(new_site.y),\": \", str(Parabol.cross_x(cur_node.item.pl, cur_node.item.pr, new_site.y)))\n",
    "            sol=0 if cur_node.item.pl.y<cur_node.item.pr.y else 1\n",
    "            cur_node=cur_node.l if new_site.x<(Parabol.cross_x(cur_node.item.pl, cur_node.item.pr, new_site.y)[sol]) else cur_node.r\n",
    "        return cur_node\n",
    "    \n",
    "    def get_lleaf_and_lparent(self, leaf=None):\n",
    "        cur_node=self if leaf==None else leaf #se non passo un argomento al metodo utilizza come foglia il nodo chiamante\n",
    "        while cur_node.is_lchild():\n",
    "            cur_node=cur_node.parent\n",
    "        if cur_node.is_root():\n",
    "            return None, None\n",
    "        ledge=cur_node.parent\n",
    "        cur_node=cur_node.parent.l\n",
    "        while not cur_node.is_leaf():\n",
    "            cur_node=cur_node.r\n",
    "        return cur_node, ledge\n",
    "    \n",
    "    def get_rleaf_and_rparent(self, leaf=None):\n",
    "        cur_node=self if leaf==None else leaf #se non passo un argomento al metodo utilizza come foglia il nodo chiamante\n",
    "        while cur_node.is_rchild():\n",
    "            cur_node=cur_node.parent\n",
    "        if cur_node.is_root():\n",
    "            return None, None\n",
    "        redge=cur_node.parent\n",
    "        cur_node=cur_node.parent.r\n",
    "        while not cur_node.is_leaf():\n",
    "            cur_node=cur_node.l\n",
    "        return cur_node, redge  \n",
    "    \n",
    "    #Deve essere chiamato per aggiungere gli archi iniziali, cioè quagli archi associati ai primi eventi sito incontrati alla stessa y\n",
    "    #Non necessario se l'algoritmo è chiuso aggiungendo 4 punti a rombo sufficientemente distanti dal range di visualizzazione (1 solo primo \n",
    "    #evento sito alla y iniziale)\n",
    "    #Ha all'incirca l'effetto cumulato di arr_arc seguito da rm_arc, senza la parte di gestione degli eventi cerchio. Introduce una \n",
    "    #lieve asimmetria rispetto alla restante interfaccia in quanto non si fa passare il nodo del segmento modificato (come fa rm_arc),\n",
    "    #siccome tale dato non serve già al metodo più esterno che gestisce gli eventi sito\n",
    "    def add_start_arc(self, new_arc_site, nearest_arc_node=None): \n",
    "        if nearest_arc_node==None: #mi è stato passato il primo sito in assoluto\n",
    "            self.item=new_arc_site\n",
    "            return\n",
    "        nearest_arc_site=nearest_arc_node.item\n",
    "        if new_arc_site.x<nearest_arc_site.x: #nuovo sito inserito come figlio sx; sito più vicino in x come figlio dx\n",
    "            #aggiornamento nodo segmento che tracciava l'asse tra i due siti fra cui è stato inserito il nuovo sito\n",
    "            top_updated_edge_node=nearest_arc_node.get_lleaf_and_lparent()[1]\n",
    "            if top_updated_edge_node!=None: #se il sito inserito non è quello più a sx\n",
    "                top_updated_edge_node.item.pr=new_arc_site\n",
    "                top_updated_edge_node.item.start.x=(new_arc_site.x+top_updated_edge_node.item.pl.x)/2\n",
    "            #costruzione del nuovo ramo\n",
    "            new_edge=Segment(pl=new_arc_site, pr=nearest_arc_site, start=Point((new_arc_site.x+nearest_arc_site.x)/2, -np.inf))\n",
    "            nearest_arc_node.item=new_edge\n",
    "            nearest_arc_node.add_lchild(new_arc_site)\n",
    "            nearest_arc_node.add_rchild(nearest_arc_site)\n",
    "        else: #nuovo sito inserito come figlio dx; sito più vicino in x come figlio sx\n",
    "            top_updated_edge_node=nearest_arc_node.get_rleaf_and_rparent()[1]\n",
    "            if top_updated_edge_node!=None:\n",
    "                top_updated_edge_node.item.pl=new_arc_site\n",
    "                top_updated_edge_node.item.start.x=(new_arc_site.x+top_updated_edge_node.item.pr.x)/2\n",
    "            new_edge=Segment(pl=nearest_arc_site, pr=new_arc_site, start=Point((new_arc_site.x+nearest_arc_site.x)/2, -np.inf))\n",
    "            nearest_arc_node.item=new_edge\n",
    "            nearest_arc_node.add_rchild(new_arc_site)\n",
    "            nearest_arc_node.add_lchild(nearest_arc_site)\n",
    "            \n",
    "    #modifica la beach in modo che, dove prima c'era il sito arco intersecato, ora si ha sito arco intersecato,\n",
    "    #segmento con inizio in intersezione, nuovo sito, segmento con inizio in intersezione, sito arco intersecato\n",
    "    def add_arc(self, new_arc_site, crossed_arc_node):\n",
    "        crossed_arc_site = crossed_arc_node.item\n",
    "        #QUI SFRUTTA L'ORDINAMENTO IN Y DEGLI EVENTI: va aggiunto a new_arc_site.y un vettore di lung=new_arc_site.dist_to_par(crossed_arc_site) nel verso opposto a quello di sweep\n",
    "        #se la sl va verso y crescenti la y del circle event sarà cc.y-r\n",
    "        #se la sl va verso y decrescenti la y del circle event sarà cc.y+r\n",
    "        cross_point = Point(new_arc_site.x, new_arc_site.y-new_arc_site.dist_to_par(crossed_arc_site))\n",
    "        new_lhalfedge=Segment(pl=crossed_arc_site, pr=new_arc_site, start=cross_point)\n",
    "        new_rhalfedge=Segment(pl=new_arc_site, pr=crossed_arc_site, start=cross_point)\n",
    "        crossed_arc_node.item = new_lhalfedge\n",
    "        crossed_arc_node.add_lchild(crossed_arc_site)\n",
    "        crossed_arc_node.add_rchild(new_rhalfedge)\n",
    "        crossed_arc_node.r.add_lchild(new_arc_site)\n",
    "        crossed_arc_node.r.add_rchild(crossed_arc_site)\n",
    "     \n",
    "    def rm_arc(self, new_edge_start, arcs_nodes, edges_nodes):#in realtà potrebbe calcolarseli tutti, ma mi sembrava più efficiente passarglieli siccome già noti\n",
    "        #salvataggi dei valori da ritornare prima dell'aggiornamento dell'albero\n",
    "        (live_larc_node, dead_arc_node, live_rarc_node)=(arcs_nodes[0], arcs_nodes[1], arcs_nodes[2])\n",
    "        #aggiornamento dell'albero\n",
    "            #salvataggi dei riferimenti per nuovo assegnamento\n",
    "        if dead_arc_node.is_rchild():\n",
    "            (live_cut_branch, mid_edge_node, top_edge_node)=(edges_nodes[0].l, edges_nodes[0], edges_nodes[1])  \n",
    "        else:\n",
    "            (live_cut_branch, mid_edge_node, top_edge_node)=(edges_nodes[1].r, edges_nodes[1], edges_nodes[0])  \n",
    "            #nuovo assegnamento\n",
    "        top_edge_node.item = Segment(pl=live_larc_node.item, pr=live_rarc_node.item, start=new_edge_start, end=None)\n",
    "        if mid_edge_node.is_rchild(): #aggiornamento puntatore padre->figlio\n",
    "            mid_edge_node.parent.r=live_cut_branch #non usa metodo add_rchild perchè non aggiunge un nodo a partire da un item\n",
    "        else:\n",
    "            mid_edge_node.parent.l=live_cut_branch\n",
    "        live_cut_branch.parent=mid_edge_node.parent #aggiornamento puntatore figlio->padre"
   ]
  },
  {
   "cell_type": "code",
   "execution_count": 11,
   "metadata": {
    "collapsed": false
   },
   "outputs": [
    {
     "name": "stdout",
     "output_type": "stream",
     "text": [
      "Empty beachline.\n",
      "\n",
      "Path: root. Arc. (0.00,0.00). Circle event: None\n",
      "\n",
      "Path: root. Edge. ((1.00,-inf) -> None, left focus (0.00,0.00), right focus (2.00,0.00))\n",
      "Path: root->l. Arc. (0.00,0.00). Circle event: None\n",
      "Path: root->r. Arc. (2.00,0.00). Circle event: None\n",
      "\n",
      "Path: root. Edge. ((0.50,-inf) -> None, left focus (0.00,0.00), right focus (1.00,0.00))\n",
      "Path: root->l. Arc. (0.00,0.00). Circle event: None\n",
      "Path: root->r. Edge. ((1.50,-inf) -> None, left focus (1.00,0.00), right focus (2.00,0.00))\n",
      "Path: root->r->l. Arc. (1.00,0.00). Circle event: None\n",
      "Path: root->r->r. Arc. (2.00,0.00). Circle event: None\n",
      "\n",
      "Path: root. Edge. ((0.50,-inf) -> None, left focus (0.00,0.00), right focus (1.00,0.00))\n",
      "Path: root->l. Edge. ((-1.00,-inf) -> None, left focus (-2.00,0.00), right focus (0.00,0.00))\n",
      "Path: root->l->l. Arc. (-2.00,0.00). Circle event: None\n",
      "Path: root->l->r. Arc. (0.00,0.00). Circle event: None\n",
      "Path: root->r. Edge. ((1.50,-inf) -> None, left focus (1.00,0.00), right focus (2.00,0.00))\n",
      "Path: root->r->l. Arc. (1.00,0.00). Circle event: None\n",
      "Path: root->r->r. Arc. (2.00,0.00). Circle event: None\n",
      "\n",
      "Path: root. Edge. ((0.50,-inf) -> None, left focus (0.00,0.00), right focus (1.00,0.00))\n",
      "Path: root->l. Edge. ((-0.55,-inf) -> None, left focus (-1.10,0.00), right focus (0.00,0.00))\n",
      "Path: root->l->l. Edge. ((-1.55,-inf) -> None, left focus (-2.00,0.00), right focus (-1.10,0.00))\n",
      "Path: root->l->l->l. Arc. (-2.00,0.00). Circle event: None\n",
      "Path: root->l->l->r. Arc. (-1.10,0.00). Circle event: None\n",
      "Path: root->l->r. Arc. (0.00,0.00). Circle event: None\n",
      "Path: root->r. Edge. ((1.50,-inf) -> None, left focus (1.00,0.00), right focus (2.00,0.00))\n",
      "Path: root->r->l. Arc. (1.00,0.00). Circle event: None\n",
      "Path: root->r->r. Arc. (2.00,0.00). Circle event: None\n",
      "\n"
     ]
    }
   ],
   "source": [
    "p1=Point(-2,0)\n",
    "p2=Point(-1.1,0)\n",
    "p3=Point(0,0)\n",
    "p4=Point(1,0)\n",
    "p5=Point(2,0)\n",
    "bl=Beachline()\n",
    "print(bl.str_tree())\n",
    "bl.add_start_arc(p3, bl.get_nearest_arc_node_by_x(p3))\n",
    "print(bl.str_tree())\n",
    "bl.add_start_arc(p5, bl.get_nearest_arc_node_by_x(p5))\n",
    "print(bl.str_tree())\n",
    "bl.add_start_arc(p4, bl.get_nearest_arc_node_by_x(p4))\n",
    "print(bl.str_tree())\n",
    "bl.add_start_arc(p1, bl.get_nearest_arc_node_by_x(p1))\n",
    "print(bl.str_tree())\n",
    "bl.add_start_arc(p2, bl.get_nearest_arc_node_by_x(p2))\n",
    "print(bl.str_tree())"
   ]
  },
  {
   "cell_type": "code",
   "execution_count": null,
   "metadata": {
    "collapsed": false
   },
   "outputs": [],
   "source": []
  },
  {
   "cell_type": "code",
   "execution_count": 12,
   "metadata": {
    "collapsed": false
   },
   "outputs": [],
   "source": [
    "first_arc_site = Point(5, 10)\n",
    "bl = Beachline(first_arc_site)"
   ]
  },
  {
   "cell_type": "code",
   "execution_count": 13,
   "metadata": {
    "collapsed": false
   },
   "outputs": [
    {
     "name": "stdout",
     "output_type": "stream",
     "text": [
      "5 10 None None None None\n"
     ]
    }
   ],
   "source": [
    "print(bl.item.x, bl.item.y, bl.parent, bl.l, bl.r, bl.c_event)"
   ]
  },
  {
   "cell_type": "code",
   "execution_count": 14,
   "metadata": {
    "collapsed": false
   },
   "outputs": [
    {
     "name": "stdout",
     "output_type": "stream",
     "text": [
      "Root. Segment with start point: [ 7 , 6.0 ]\n",
      "Root.r. Segment with start point: [ 7 , 6.0 ]\n",
      "Root.l. Point: [ 5 , 10 ]\n",
      "Root.r.r. Point: [ 5 , 10 ]\n",
      "Root.r.l. Point: [ 7 , 8 ]\n"
     ]
    }
   ],
   "source": [
    "second_site = Point(first_arc_site.x+2, first_arc_site.y-2) #così facendo, le halfedge sono costruite con start=[first_arc_site.x+2, first_arc_site.y]\n",
    "crossed_arc_node = bl.get_arc_node_on_site(second_site)\n",
    "bl.add_arc(second_site, crossed_arc_node)\n",
    "print(\"Root. Segment with start point: [\", bl.item.start.x, \",\", bl.item.start.y, \"]\") #1st-2nd site cross point\n",
    "print(\"Root.r. Segment with start point: [\", bl.r.item.start.x, \",\", bl.r.item.start.y, \"]\") #1st-2nd site cross point\n",
    "print(\"Root.l. Point: [\", bl.l.item.x, \",\", bl.l.item.y, \"]\") #1st site\n",
    "print(\"Root.r.r. Point: [\", bl.r.r.item.x, \",\", bl.r.r.item.y, \"]\") #1st site\n",
    "print(\"Root.r.l. Point: [\", bl.r.l.item.x, \",\", bl.r.l.item.y, \"]\") #2nd site"
   ]
  },
  {
   "cell_type": "code",
   "execution_count": 15,
   "metadata": {
    "collapsed": false,
    "scrolled": false
   },
   "outputs": [
    {
     "name": "stdout",
     "output_type": "stream",
     "text": [
      "Path: root. Edge. ((7.00,6.00) -> None, left focus (5.00,10.00), right focus (7.00,8.00))\n",
      "Path: root->l. Edge. ((6.00,3.88) -> None, left focus (5.00,10.00), right focus (6.00,6.00))\n",
      "Path: root->l->l. Arc. (5.00,10.00). Circle event: None\n",
      "Path: root->l->r. Edge. ((6.00,3.88) -> None, left focus (6.00,6.00), right focus (5.00,10.00))\n",
      "Path: root->l->r->l. Arc. (6.00,6.00). Circle event: None\n",
      "Path: root->l->r->r. Arc. (5.00,10.00). Circle event: None\n",
      "Path: root->r. Edge. ((7.00,6.00) -> None, left focus (7.00,8.00), right focus (5.00,10.00))\n",
      "Path: root->r->l. Arc. (7.00,8.00). Circle event: None\n",
      "Path: root->r->r. Arc. (5.00,10.00). Circle event: None\n",
      "\n"
     ]
    }
   ],
   "source": [
    "third_site = Point(6, 6)\n",
    "crossed_arc_node = bl.get_arc_node_on_site(third_site)\n",
    "bl.add_arc(third_site, crossed_arc_node)\n",
    "print(bl.str_tree())"
   ]
  },
  {
   "cell_type": "code",
   "execution_count": 16,
   "metadata": {
    "collapsed": false
   },
   "outputs": [
    {
     "name": "stdout",
     "output_type": "stream",
     "text": [
      "5 10\n",
      "6 6\n",
      "5 10\n",
      "7 8\n",
      "5 10\n",
      "None\n",
      "True\n",
      "True\n",
      "True\n",
      "True\n",
      "None\n"
     ]
    }
   ],
   "source": [
    "first_leaf = bl.l.l\n",
    "print(first_leaf.item.x, first_leaf.item.y)\n",
    "second_leaf = bl.get_rleaf_and_rparent(first_leaf)[0]\n",
    "print(second_leaf.item.x, second_leaf.item.y) #2nd site\n",
    "third_leaf = bl.get_rleaf_and_rparent(second_leaf)[0]\n",
    "print(third_leaf.item.x, third_leaf.item.y) #3rd site\n",
    "fourth_leaf = bl.get_rleaf_and_rparent(third_leaf)[0]\n",
    "print(fourth_leaf.item.x, fourth_leaf.item.y) #2nd site\n",
    "fifth_leaf = bl.get_rleaf_and_rparent(fourth_leaf)[0]\n",
    "print(fifth_leaf.item.x, fifth_leaf.item.y) #1st site\n",
    "sixth_leaf = bl.get_rleaf_and_rparent(fifth_leaf)[0]\n",
    "print(sixth_leaf) #None\n",
    "print(fourth_leaf==fifth_leaf.get_lleaf_and_lparent()[0])\n",
    "print(third_leaf==fourth_leaf.get_lleaf_and_lparent()[0])\n",
    "print(second_leaf==third_leaf.get_lleaf_and_lparent()[0])\n",
    "print(first_leaf==second_leaf.get_lleaf_and_lparent()[0])\n",
    "print(first_leaf.get_lleaf_and_lparent()[0]) #None"
   ]
  },
  {
   "cell_type": "code",
   "execution_count": 17,
   "metadata": {
    "collapsed": false
   },
   "outputs": [
    {
     "name": "stdout",
     "output_type": "stream",
     "text": [
      "Path: root. Edge. ((7.00,6.00) -> None, left focus (5.00,10.00), right focus (7.00,8.00))\n",
      "Path: root->l. Edge. ((2.00,9.00) -> None, left focus (5.00,10.00), right focus (5.00,10.00))\n",
      "Path: root->l->l. Arc. (5.00,10.00). Circle event: None\n",
      "Path: root->l->r. Arc. (5.00,10.00). Circle event: None\n",
      "Path: root->r. Edge. ((7.00,6.00) -> None, left focus (7.00,8.00), right focus (5.00,10.00))\n",
      "Path: root->r->l. Arc. (7.00,8.00). Circle event: None\n",
      "Path: root->r->r. Arc. (5.00,10.00). Circle event: None\n",
      "\n"
     ]
    }
   ],
   "source": [
    "new_edge_start=Point(2,9)\n",
    "(lleaf, ledge_node)=second_leaf.get_lleaf_and_lparent()\n",
    "(rleaf, redge_node)=second_leaf.get_rleaf_and_rparent()\n",
    "bl.rm_arc(new_edge_start, [lleaf,second_leaf,rleaf], [ledge_node, redge_node]) #second leaf è un figlio sinistro\n",
    "print(bl.str_tree())"
   ]
  },
  {
   "cell_type": "code",
   "execution_count": 18,
   "metadata": {
    "collapsed": false
   },
   "outputs": [
    {
     "name": "stdout",
     "output_type": "stream",
     "text": [
      "Path: root. Edge. ((2.00,9.00) -> None, left focus (5.00,10.00), right focus (7.00,8.00))\n",
      "Path: root->l. Arc. (5.00,10.00). Circle event: None\n",
      "Path: root->r. Edge. ((7.00,6.00) -> None, left focus (7.00,8.00), right focus (5.00,10.00))\n",
      "Path: root->r->l. Arc. (7.00,8.00). Circle event: None\n",
      "Path: root->r->r. Arc. (5.00,10.00). Circle event: None\n",
      "\n"
     ]
    }
   ],
   "source": [
    "nnew_edge_start=Point(3,4)\n",
    "(lleaf, ledge_node)=third_leaf.get_lleaf_and_lparent()\n",
    "(rleaf, redge_node)=third_leaf.get_rleaf_and_rparent()\n",
    "bl.rm_arc(new_edge_start, [lleaf,third_leaf,rleaf], [ledge_node, redge_node]) #fifth leaf è un figlio destro\n",
    "print(bl.str_tree())"
   ]
  },
  {
   "cell_type": "code",
   "execution_count": null,
   "metadata": {
    "collapsed": true
   },
   "outputs": [],
   "source": []
  },
  {
   "cell_type": "code",
   "execution_count": null,
   "metadata": {
    "collapsed": true
   },
   "outputs": [],
   "source": []
  },
  {
   "cell_type": "code",
   "execution_count": null,
   "metadata": {
    "collapsed": true
   },
   "outputs": [],
   "source": []
  },
  {
   "cell_type": "code",
   "execution_count": 19,
   "metadata": {
    "collapsed": false
   },
   "outputs": [],
   "source": [
    "class Event(object):\n",
    "    \n",
    "    def __init__(self, arc_site_or_nodes): #sites: tupla dei siti associati agli archi coinvolti nell'evento (ordinati)\n",
    "        if isinstance(arc_site_or_nodes, Point): \n",
    "            self.coord=arc_site_or_nodes\n",
    "            self.arcs_nodes=None\n",
    "        else:\n",
    "            self.arcs_nodes=[arc_site_or_nodes[0], arc_site_or_nodes[2], arc_site_or_nodes[4]]\n",
    "            self.edges_nodes=[arc_site_or_nodes[1], arc_site_or_nodes[3]]\n",
    "            self.vertex_coord=Circle.center(self.arcs_nodes[0].item, self.arcs_nodes[1].item, self.arcs_nodes[2].item)\n",
    "            #QUI SFRUTTA L'ORDINAMENTO IN Y DEGLI EVENTI: se sweep verso y crescenti uso circumtop, viceversa circumbottom\n",
    "            self.coord=Point(self.vertex_coord.x,self.vertex_coord.y+self.arcs_nodes[0].item.dist_to_point(self.vertex_coord))\n",
    "            \n",
    "    def __str__(self):\n",
    "        if(self.arcs_nodes==None): #site event\n",
    "            return \"Site event. Site: \"+str(self.coord)  \n",
    "        else: #circle event\n",
    "            return \"Circle event. Coord:\"+str(self.coord)+\". Arc site:\"+str(self.arcs_nodes[1].item)\n",
    "    \n",
    "    def __eq__(self, e):\n",
    "        return isinstance(e, Event) and self.arcs_nodes==e.arcs_nodes and self.coord==e.coord\n",
    "    \n",
    "    #QUI DEFINISCE L'ORDINAMENTO IN Y DEGLI EVENTI: in base a come ordino gli eventi, la sl andrà verso y crescenti o decrescenti\n",
    "    #inserisce i nuovi circle come primi eventi a tale y. Penso sia giusto gestirli prima dei site event, in modo da avere la beach aggiornata\n",
    "    def add(self, es):\n",
    "        i=Ordering.go_to_i(es, self, Ordering.is_coord_y_greater)\n",
    "        es.insert(i, self)\n",
    "    \n",
    "    def rm(self, es):\n",
    "        i = Ordering.go_to_i(es, self, Ordering.is_coord_y_greater)\n",
    "        while True:\n",
    "            #se non esiste un altro evento alla stessa y elimina subito l'evento corrente, se no effettua il controllo\n",
    "            if i==len(es)-1 or self.coord.y != es[i+1].coord.y or self==es[i]: \n",
    "                return es.pop(i)\n",
    "            i+=1            "
   ]
  },
  {
   "cell_type": "code",
   "execution_count": null,
   "metadata": {
    "collapsed": true
   },
   "outputs": [],
   "source": []
  },
  {
   "cell_type": "code",
   "execution_count": 20,
   "metadata": {
    "collapsed": false
   },
   "outputs": [],
   "source": [
    "class Voronoi(object):\n",
    "    \n",
    "    def __init__(self, sites):\n",
    "        self.sites=sites  #siti di V, obj Point\n",
    "        self.events=[]\n",
    "        self.iterations=0 #inserito per il calcolo delle iterazioni, ma non necessario alla creazione del diagramma\n",
    "        for site in sites:\n",
    "            Event(site).add(self.events)\n",
    "        self.beach=Beachline()\n",
    "        self.edges=[]\n",
    "             \n",
    "    \n",
    "    #rimuove dalla lista degli eventi l'evento cicle il cui arco associato all'indice della beachline argomento è \n",
    "    #quello centrale\n",
    "    def rm_circle_event(self, arc_node):\n",
    "        if arc_node.c_event != None:\n",
    "            arc_node.c_event.rm(self.events)\n",
    "            arc_node.c_event = None\n",
    "    \n",
    "    #NB: un circle event è originato da tre siti di V adiacenti. In esso viene eliminato l'arco centrale. Da notare\n",
    "    #che l'arco centrale non è associabile a priori in modo banale ad uno dei tre punti\n",
    "    #Il metodo controlla gli archi interessati da un cambiamento della beachline e verifica se ci sono dei circle\n",
    "    #event loro associati. Se ci sono, aggiunge l'evento alla coda salvando i siti degli archi nell'ordine di comparsa\n",
    "    #e salvando un riferimento all'evento \n",
    "    def add_circle_event(self, arc_node, sweep_y):\n",
    "        larc_node, ledge_node = arc_node.get_lleaf_and_lparent()\n",
    "        rarc_node, redge_node = arc_node.get_rleaf_and_rparent()\n",
    "        if larc_node==None or rarc_node==None:\n",
    "            return #\"No event: first or last arc\"\n",
    "        if larc_node.item==rarc_node.item:\n",
    "            return #\"No event: lefter arc site equals righter arc site\"\n",
    "        cc = Circle.center(larc_node.item, arc_node.item, rarc_node.item)\n",
    "        if cc.y==np.inf:\n",
    "            return #\"No event: the three arcs sites are on the same line\"\n",
    "        #QUI SFRUTTA L'ORDINAMENTO IN Y DEGLI EVENTI: va preso l'estremo della circonferenza nella direzione di sweep\n",
    "        #se la sl va verso y crescenti la y del circle event sarà cc.y+r\n",
    "        #se la sl va verso y decrescenti la y del circle event sarà cc.y-r\n",
    "        event_point=Point(cc.x, cc.y+arc_node.item.dist_to_point(cc))\n",
    "        #QUI SFRUTTA L'ORDINAMENTO IN Y DEGLI EVENTI: un evento è sotto la sl se deve essere ancora incontrato durante lo sweep, e viceversa\n",
    "        #se la sl va verso y crescenti un evento è sotto la sl se ha y minore di quella della sl\n",
    "        #se la sl va verso y decrescenti un evento è sotto la sl se ha y maggiore di quella della sl\n",
    "        if event_point.y<sweep_y-1e-10:\n",
    "            return #\"No event: circle event y\", event_point.y ,\"is below sweepline y\",sweep_y\n",
    "        if ledge_node.item.get_intersection(redge_node.item)==None:\n",
    "            return #\"Edges do not cross\"\n",
    "        arc_node.c_event = Event([larc_node, ledge_node, arc_node, redge_node, rarc_node])\n",
    "        arc_node.c_event.add(self.events)\n",
    "        #return arc_node.c_event\n",
    "    \n",
    "    def manage_start_site_event(self):\n",
    "        event=self.events.pop(0)\n",
    "        self.beach.add_start_arc(event.coord, self.beach.get_nearest_arc_node_by_x(event.coord))\n",
    "    \n",
    "    def manage_site_event(self):\n",
    "        event=self.events.pop(0) #tolgo subito l'evento gestito; facendolo dopo potrei rimuovere un circle event aggiunto\n",
    "        crossed_arc_node=self.beach.get_arc_node_on_site(event.coord)\n",
    "        rarc_node=crossed_arc_node.get_rleaf_and_rparent()[0]\n",
    "        larc_node=crossed_arc_node.get_lleaf_and_lparent()[0]\n",
    "        #rimozione evento dal nodo che diventerà radice del ramo aggiunto all'albero binario\n",
    "        self.rm_circle_event(crossed_arc_node)\n",
    "        #eliminazione eventi associati a foglia destra e sinistra nella vecchia configurazione. Necessaria perchè gli eventi in\n",
    "        #esse immagazzinati hanno un riferimento al nodo dell'arco intersecato, che ora diventerà il nodo segmento radice\n",
    "        if larc_node!=None:\n",
    "            self.rm_circle_event(larc_node)\n",
    "        if rarc_node!=None:\n",
    "            self.rm_circle_event(rarc_node)\n",
    "        self.beach.add_arc(event.coord, crossed_arc_node)\n",
    "        #aggiornamento degli eventi associati a foglia destra e sinistra nella vecchia configurazione. In tale modo sono assegnati\n",
    "        #all'oggetto evento i riferimenti ai nodi arco aggiornati\n",
    "        if larc_node!=None:\n",
    "            self.add_circle_event(larc_node, event.coord.y)\n",
    "        if rarc_node!=None:\n",
    "            self.add_circle_event(rarc_node, event.coord.y)\n",
    "        #controllo esistenza ed eventuale aggiunta eventi di cerchio dei due archi in cui è diviso l'arco intersecato\n",
    "        self.add_circle_event(crossed_arc_node.l, event.coord.y)\n",
    "        self.add_circle_event(crossed_arc_node.r.r, event.coord.y)\n",
    "        \n",
    "    def manage_circle_event(self):\n",
    "        event=self.events.pop(0) #tolgo subito l'evento gestito; facendolo dopo potrei rimuovere un circle event aggiunto\n",
    "        (dead_edgeA, dead_edgeB)=(event.edges_nodes[0].item, event.edges_nodes[1].item)\n",
    "        (dead_edgeA.end, dead_edgeB.end)=(event.vertex_coord, event.vertex_coord) \n",
    "        self.beach.rm_arc(event.vertex_coord, event.arcs_nodes, event.edges_nodes)\n",
    "        self.edges.append(dead_edgeA)\n",
    "        self.edges.append(dead_edgeB)\n",
    "        self.rm_circle_event(event.arcs_nodes[0])\n",
    "        self.rm_circle_event(event.arcs_nodes[2])\n",
    "        self.add_circle_event(event.arcs_nodes[0], event.coord.y)\n",
    "        self.add_circle_event(event.arcs_nodes[2], event.coord.y)\n",
    "\n",
    "    #se eseguito al temine di run() estrae le semirette presenti nell'albero ad algorimo terminato. Le semirette (segmenti non t\n",
    "    #terminati) sono quelli presenti a inizio lista edges con start.y=-np.inf (associate ai siti con stessa y gestiti nei primi step)\n",
    "    #e quelli presenti nell'albero ad algoritmo terminato \n",
    "    def extract_edges(self, root=None):\n",
    "        root=self.beach if root==None else root\n",
    "        if not root.is_leaf():\n",
    "            self.edges.append(root.item)\n",
    "            self.extract_edges(root.l)\n",
    "            self.extract_edges(root.r)\n",
    "            \n",
    "    def run(self):\n",
    "        first_y=self.events[0].coord.y\n",
    "        self.iterations+=1\n",
    "        while self.events!=[] and self.events[0].coord.y==first_y:\n",
    "            self.manage_start_site_event()\n",
    "            self.iterations+=1\n",
    "        while self.events!=[]:\n",
    "            self.manage_site_event() if self.events[0].arcs_nodes==None else self.manage_circle_event()\n",
    "            self.iterations+=1\n",
    "        #self.extract_edges()\n",
    "            \n",
    "    def plot_edges(self, x_range=(-1, 1), y_range=(-1,1), file_name=\"voronoi_edges.png\"):\n",
    "        self.run()\n",
    "        lines = [[(edge.start.x, edge.start.y),(edge.end.x, edge.end.y)] for edge in self.edges]\n",
    "        lc = mc.LineCollection(lines)\n",
    "        fig, ax = plt.subplots()\n",
    "        ax.axis([*x_range, *y_range])\n",
    "        ax.add_collection(lc)\n",
    "        ax.margins(0.1)\n",
    "        xs, ys = zip(*[[p.x,p.y] for p in self.sites])\n",
    "        ax.plot(xs, ys, 'ro')\n",
    "        fig.savefig(file_name)\n",
    "    \n",
    "    #non gestisce il caso di due singoli siti, non riuscendo ad associare essi un poligono (necessari almeno due segmenti associati\n",
    "    #a ciascun sito)\n",
    "    def plot_patches(self, x_range=(-1, 1), y_range=(-1,1), file_name=\"voronoi_patches.png\"): \n",
    "        self.run()\n",
    "        pts = self.sites\n",
    "        pts_dict = defaultdict(list)\n",
    "        patches = []\n",
    "        colors = []\n",
    "        for edge in self.edges:\n",
    "            pts_dict[edge.pl].append((edge.start, edge.end))\n",
    "            pts_dict[edge.pr].append((edge.start, edge.end))\n",
    "        for center, v_raw in pts_dict.items():\n",
    "            starts, ends = zip(*v_raw)\n",
    "            vertices = set(starts + ends)\n",
    "            vertices = sorted(vertices, key=lambda p: np.arctan2(p.y-center.y,p.x-center.x))\n",
    "            vertices = [(v.x, v.y) for v in vertices]\n",
    "            patches.append(Polygon(vertices, True))\n",
    "            colors.append(center.dist_to_point(Point(0,0)))\n",
    "        fig, ax = plt.subplots()\n",
    "        colors = 100*np.random.rand(len(patches))\n",
    "        pc = PatchCollection(patches, cmap=jet, alpha=0.2)\n",
    "        pc.set_array(np.array(colors))\n",
    "        ax.axis([*x_range, *y_range])\n",
    "        ax.add_collection(pc)\n",
    "        ax.margins(0.1)\n",
    "        xs, ys = zip(*[(p.x, p.y) for p in pts])\n",
    "        ax.plot(xs, ys, 'ro', markersize=1)\n",
    "        fig.savefig(file_name)"
   ]
  },
  {
   "cell_type": "code",
   "execution_count": 21,
   "metadata": {
    "collapsed": false,
    "scrolled": false
   },
   "outputs": [
    {
     "name": "stdout",
     "output_type": "stream",
     "text": [
      "sites: [5, 10] [6, 6] [5, 10]\n",
      "1st event site: 6 6\n",
      "2nd event site: 5 10\n",
      "3rd event site: 5 10\n"
     ]
    }
   ],
   "source": [
    "#Test Voronoi: coda degli eventi\n",
    "v=Voronoi((first_leaf.item, second_leaf.item, third_leaf.item))\n",
    "print(\"sites:\", *[str([site.x, site.y]) for site in v.sites])\n",
    "print(\"1st event site:\", v.events[0].coord.x, v.events[0].coord.y) #3rd site\n",
    "print(\"2nd event site:\", v.events[1].coord.x, v.events[1].coord.y) #2nd site\n",
    "print(\"3rd event site:\", v.events[2].coord.x, v.events[2].coord.y) #1st site\n",
    "#print(\"Beachline after init (empty):\", v.beach.item) #None"
   ]
  },
  {
   "cell_type": "code",
   "execution_count": 22,
   "metadata": {
    "collapsed": false
   },
   "outputs": [
    {
     "name": "stdout",
     "output_type": "stream",
     "text": [
      "1st event site: 6 6\n",
      "2nd event site: 5 10 \n",
      "\n",
      "1st event site: 6 6\n",
      "2nd event site: 7 7\n",
      "3rd event site: 5 10\n"
     ]
    }
   ],
   "source": [
    "v.events[1].rm(v.events) #rimozione in mezzo alla coda\n",
    "print(\"1st event site:\", v.events[0].coord.x, v.events[0].coord.y) #3rd site\n",
    "print(\"2nd event site:\", v.events[1].coord.x, v.events[1].coord.y, \"\\n\") #1st site\n",
    "Event(Point(7, 7)).add(v.events) #aggiunta in mezzo alla coda\n",
    "print(\"1st event site:\", v.events[0].coord.x, v.events[0].coord.y) #3rd site\n",
    "print(\"2nd event site:\", v.events[1].coord.x, v.events[1].coord.y) #new_ev_1 site\n",
    "print(\"3rd event site:\", v.events[2].coord.x, v.events[2].coord.y) #1st site"
   ]
  },
  {
   "cell_type": "code",
   "execution_count": 23,
   "metadata": {
    "collapsed": false
   },
   "outputs": [
    {
     "name": "stdout",
     "output_type": "stream",
     "text": [
      "1st event site: 7 7\n",
      "2nd event site: 5 10 \n",
      "\n",
      "1st event site: 0 -1\n",
      "2nd event site: 7 7\n",
      "3rd event site: 5 10\n"
     ]
    }
   ],
   "source": [
    "v.events[0].rm(v.events) #rimozione a inizio coda\n",
    "print(\"1st event site:\", v.events[0].coord.x, v.events[0].coord.y) #new_ev_1 site\n",
    "print(\"2nd event site:\", v.events[1].coord.x, v.events[1].coord.y, \"\\n\") #1st site\n",
    "Event(Point(0, -1)).add(v.events) #aggiunta a inizio coda\n",
    "print(\"1st event site:\", v.events[0].coord.x, v.events[0].coord.y) #new_ev_2 site\n",
    "print(\"2nd event site:\", v.events[1].coord.x, v.events[1].coord.y) #new_ev_1 site\n",
    "print(\"3rd event site:\", v.events[2].coord.x, v.events[2].coord.y) #1st site"
   ]
  },
  {
   "cell_type": "code",
   "execution_count": 24,
   "metadata": {
    "collapsed": false
   },
   "outputs": [
    {
     "name": "stdout",
     "output_type": "stream",
     "text": [
      "1st event site: 0 -1\n",
      "2nd event site: 7 7 \n",
      "\n",
      "1st event site: 0 -1\n",
      "2nd event site: 7 7\n",
      "3rd event site: -6 9.3\n"
     ]
    }
   ],
   "source": [
    "v.events[2].rm(v.events) #rimozione a fondo coda\n",
    "print(\"1st event site:\", v.events[0].coord.x, v.events[0].coord.y) #new_ev_2_site\n",
    "print(\"2nd event site:\", v.events[1].coord.x, v.events[1].coord.y, \"\\n\") #new_ev_1 site\n",
    "Event(Point(-6, 9.3)).add(v.events) #aggiunta a fondo coda\n",
    "print(\"1st event site:\", v.events[0].coord.x, v.events[0].coord.y) #new_ev_2 site\n",
    "print(\"2nd event site:\", v.events[1].coord.x, v.events[1].coord.y) #new_ev_1 site\n",
    "print(\"3rd event site:\", v.events[2].coord.x, v.events[2].coord.y) #new_ev_3 site"
   ]
  },
  {
   "cell_type": "code",
   "execution_count": 25,
   "metadata": {
    "collapsed": false,
    "scrolled": true
   },
   "outputs": [
    {
     "name": "stdout",
     "output_type": "stream",
     "text": [
      "1st event site: 0 -1\n",
      "2nd event site: 7 7\n",
      "3rd event site: -5 9.3\n",
      "4th event site: -6 9.3\n"
     ]
    }
   ],
   "source": [
    "Event(Point(-5, 9.3)).add(v.events) #aggiunta alla stessa y \n",
    "print(\"1st event site:\", v.events[0].coord.x, v.events[0].coord.y) #new_ev_2 site\n",
    "print(\"2nd event site:\", v.events[1].coord.x, v.events[1].coord.y) #new_ev_1 site\n",
    "print(\"3rd event site:\", v.events[2].coord.x, v.events[2].coord.y) #new_ev_4 site\n",
    "print(\"4th event site:\", v.events[3].coord.x, v.events[2].coord.y) #new_ev_3 site"
   ]
  },
  {
   "cell_type": "code",
   "execution_count": 26,
   "metadata": {
    "collapsed": false
   },
   "outputs": [
    {
     "name": "stdout",
     "output_type": "stream",
     "text": [
      "1st event site: 0 -1\n",
      "2nd event site: 7 7\n",
      "3rd event site: -5 9.3\n"
     ]
    }
   ],
   "source": [
    "v.events[3].rm(v.events) #rimozione alla stessa y\n",
    "print(\"1st event site:\", v.events[0].coord.x, v.events[0].coord.y) #new_ev_2 site\n",
    "print(\"2nd event site:\", v.events[1].coord.x, v.events[1].coord.y) #new_ev_1 site\n",
    "print(\"3rd event site:\", v.events[2].coord.x, v.events[2].coord.y) #new_ev_4 site"
   ]
  },
  {
   "cell_type": "code",
   "execution_count": null,
   "metadata": {
    "collapsed": true
   },
   "outputs": [],
   "source": []
  },
  {
   "cell_type": "code",
   "execution_count": 27,
   "metadata": {
    "collapsed": false
   },
   "outputs": [
    {
     "name": "stdout",
     "output_type": "stream",
     "text": [
      "Path: root. Arc. (3.00,0.00). Circle event: None\n",
      "\n",
      "Path: root. Edge. ((2.50,-inf) -> None, left focus (2.00,0.00), right focus (3.00,0.00))\n",
      "Path: root->l. Arc. (2.00,0.00). Circle event: None\n",
      "Path: root->r. Arc. (3.00,0.00). Circle event: None\n",
      "\n",
      "Path: root. Edge. ((2.50,-inf) -> None, left focus (2.00,0.00), right focus (3.00,0.00))\n",
      "Path: root->l. Edge. ((1.41,0.59) -> None, left focus (2.00,0.00), right focus (1.41,1.41))\n",
      "Path: root->l->l. Arc. (2.00,0.00). Circle event: None\n",
      "Path: root->l->r. Edge. ((1.41,0.59) -> None, left focus (1.41,1.41), right focus (2.00,0.00))\n",
      "Path: root->l->r->l. Arc. (1.41,1.41). Circle event: None\n",
      "Path: root->l->r->r. Arc. (2.00,0.00). Circle event: None\n",
      "Path: root->r. Arc. (3.00,0.00). Circle event: None\n",
      "\n",
      "Path: root. Edge. ((2.50,-inf) -> None, left focus (2.00,0.00), right focus (3.00,0.00))\n",
      "Path: root->l. Edge. ((1.41,0.59) -> None, left focus (2.00,0.00), right focus (1.41,1.41))\n",
      "Path: root->l->l. Edge. ((0.00,-0.00) -> None, left focus (2.00,0.00), right focus (0.00,2.00))\n",
      "Path: root->l->l->l. Arc. (2.00,0.00). Circle event: None\n",
      "Path: root->l->l->r. Edge. ((0.00,-0.00) -> None, left focus (0.00,2.00), right focus (2.00,0.00))\n",
      "Path: root->l->l->r->l. Arc. (0.00,2.00). Circle event: None\n",
      "Path: root->l->l->r->r. Arc. (2.00,0.00). Circle event: None\n",
      "Path: root->l->r. Edge. ((1.41,0.59) -> None, left focus (1.41,1.41), right focus (2.00,0.00))\n",
      "Path: root->l->r->l. Arc. (1.41,1.41). Circle event: None\n",
      "Path: root->l->r->r. Arc. (2.00,0.00). Circle event: None\n",
      "Path: root->r. Arc. (3.00,0.00). Circle event: None\n",
      "\n"
     ]
    }
   ],
   "source": [
    "### controllo di add_start_arc e add_arc\n",
    "\n",
    "v1=Voronoi([Point(0,2), Point(np.sqrt(2),np.sqrt(2)), Point(2,0), Point(3,0)])\n",
    "first_site=v1.events[0].coord\n",
    "first_site_arc_node=v1.beach.get_nearest_arc_node_by_x(first_site)\n",
    "v1.beach.add_start_arc(first_site, first_site_arc_node)\n",
    "print(v1.beach.str_tree())\n",
    "\n",
    "second_site=v1.events[1].coord\n",
    "nearest_site_arc_node=v1.beach.get_nearest_arc_node_by_x(second_site)\n",
    "v1.beach.add_start_arc(second_site, nearest_site_arc_node)\n",
    "print(v1.beach.str_tree())\n",
    "\n",
    "third_site=v1.events[2].coord\n",
    "crossed_arc_node=v1.beach.get_arc_node_on_site(third_site)\n",
    "v1.beach.add_arc(third_site, crossed_arc_node)\n",
    "print(v1.beach.str_tree())\n",
    "\n",
    "fourth_site=v1.events[3].coord\n",
    "crossed_arc_node=v1.beach.get_arc_node_on_site(fourth_site)\n",
    "v1.beach.add_arc(fourth_site, crossed_arc_node)\n",
    "print(v1.beach.str_tree())"
   ]
  },
  {
   "cell_type": "code",
   "execution_count": 28,
   "metadata": {
    "collapsed": false,
    "scrolled": false
   },
   "outputs": [
    {
     "name": "stdout",
     "output_type": "stream",
     "text": [
      "Arc. (2.00,0.00). Circle event: None\n",
      "Arc. (0.00,2.00). Circle event: None\n",
      "Arc. (2.00,0.00). Circle event: None\n",
      "Arc. (1.41,1.41). Circle event: None\n",
      "Arc. (2.00,0.00). Circle event: None\n",
      "Arc. (3.00,0.00). Circle event: None\n"
     ]
    }
   ],
   "source": [
    "arc_nodes=v1.beach.get_leaves()\n",
    "for arc_node in arc_nodes:\n",
    "    print(arc_node.str_node([]))"
   ]
  },
  {
   "cell_type": "code",
   "execution_count": 29,
   "metadata": {
    "collapsed": false,
    "scrolled": false
   },
   "outputs": [
    {
     "name": "stdout",
     "output_type": "stream",
     "text": [
      "Before checking for events\n",
      "\n",
      "# Arc nodes\n",
      "Arc. (2.00,0.00). Circle event: None\n",
      "Arc. (0.00,2.00). Circle event: None\n",
      "Arc. (2.00,0.00). Circle event: None\n",
      "Arc. (1.41,1.41). Circle event: None\n",
      "Arc. (2.00,0.00). Circle event: None\n",
      "Arc. (3.00,0.00). Circle event: None\n",
      "\n",
      "# Event queue\n",
      "['Site event. Site: (3.00,0.00)', 'Site event. Site: (2.00,0.00)', 'Site event. Site: (1.41,1.41)', 'Site event. Site: (0.00,2.00)']\n"
     ]
    }
   ],
   "source": [
    "print(\"Before checking for events\")\n",
    "print(\"\\n# Arc nodes\")\n",
    "for arc_node in v1.beach.get_leaves():\n",
    "    print(arc_node.str_node([]))\n",
    "print(\"\\n# Event queue\")\n",
    "print([str(event) for event in v1.events])"
   ]
  },
  {
   "cell_type": "code",
   "execution_count": 30,
   "metadata": {
    "collapsed": false,
    "scrolled": false
   },
   "outputs": [
    {
     "name": "stdout",
     "output_type": "stream",
     "text": [
      "\n",
      "While checking for circle events\n",
      "* None\n",
      "Arc. (2.00,0.00). Circle event: None\n",
      "* None\n",
      "Arc. (0.00,2.00). Circle event: None\n",
      "* None\n",
      "Arc. (2.00,0.00). Event: Circle event. Coord:(0.00,2.00). Arc site:(2.00,0.00)\n",
      "* None\n",
      "Arc. (1.41,1.41). Circle event: None\n",
      "* None\n",
      "Arc. (2.00,0.00). Event: Circle event. Coord:(2.50,2.19). Arc site:(2.00,0.00)\n",
      "* None\n",
      "Arc. (3.00,0.00). Circle event: None\n",
      "\n",
      " ['Site event. Site: (3.00,0.00)', 'Site event. Site: (2.00,0.00)', 'Site event. Site: (1.41,1.41)', 'Circle event. Coord:(0.00,2.00). Arc site:(2.00,0.00)', 'Site event. Site: (0.00,2.00)', 'Circle event. Coord:(2.50,2.19). Arc site:(2.00,0.00)']\n"
     ]
    }
   ],
   "source": [
    "#non elimina gli archi intermedi anche una volta morti siccome non gestisco i circle event\n",
    "#nB: coordinate dei circle event non sono il centro della circonferenza ma il suo estremo\n",
    "print(\"\\nWhile checking for circle events\")\n",
    "sweep_y=1 #da tunare per verificare se l'evento viene scartato quando cade nel range già scorso\n",
    "for arc_node in v1.beach.get_leaves():\n",
    "    print(\"*\", v1.add_circle_event(arc_node, sweep_y))\n",
    "    print(arc_node.str_node())\n",
    "print(\"\\n\", [str(event) for event in v1.events])"
   ]
  },
  {
   "cell_type": "code",
   "execution_count": 31,
   "metadata": {
    "collapsed": false
   },
   "outputs": [
    {
     "name": "stdout",
     "output_type": "stream",
     "text": [
      "\n",
      "While checking for circle events\n",
      "\n",
      "Event queue before removal: \n",
      "['Site event. Site: (3.00,0.00)', 'Site event. Site: (2.00,0.00)', 'Site event. Site: (1.41,1.41)', 'Circle event. Coord:(0.00,2.00). Arc site:(2.00,0.00)', 'Site event. Site: (0.00,2.00)', 'Circle event. Coord:(2.50,2.19). Arc site:(2.00,0.00)']\n",
      "\n",
      "Circle event before removal: Arc. (2.00,0.00). Circle event: None\n",
      "Circle event after removal: Arc. (2.00,0.00). Circle event: None\n",
      "\n",
      "Circle event before removal: Arc. (0.00,2.00). Circle event: None\n",
      "Circle event after removal: Arc. (0.00,2.00). Circle event: None\n",
      "\n",
      "Circle event before removal: Arc. (2.00,0.00). Event: Circle event. Coord:(0.00,2.00). Arc site:(2.00,0.00)\n",
      "Circle event after removal: Arc. (2.00,0.00). Circle event: None\n",
      "\n",
      "Circle event before removal: Arc. (1.41,1.41). Circle event: None\n",
      "Circle event after removal: Arc. (1.41,1.41). Circle event: None\n",
      "\n",
      "Circle event before removal: Arc. (2.00,0.00). Event: Circle event. Coord:(2.50,2.19). Arc site:(2.00,0.00)\n",
      "Circle event after removal: Arc. (2.00,0.00). Circle event: None\n",
      "\n",
      "Circle event before removal: Arc. (3.00,0.00). Circle event: None\n",
      "Circle event after removal: Arc. (3.00,0.00). Circle event: None\n",
      "\n",
      "Event queue after removal: \n",
      "['Site event. Site: (3.00,0.00)', 'Site event. Site: (2.00,0.00)', 'Site event. Site: (1.41,1.41)', 'Site event. Site: (0.00,2.00)']\n"
     ]
    }
   ],
   "source": [
    "### controllo di rm_circle_event\n",
    "print(\"\\nWhile checking for circle events\")\n",
    "print(\"\\nEvent queue before removal: \")\n",
    "print([str(event) for event in v1.events])\n",
    "for arc_node in v1.beach.get_leaves():\n",
    "    print(\"\\nCircle event before removal: \"+arc_node.str_node([]))\n",
    "    v1.rm_circle_event(arc_node)\n",
    "    print(\"Circle event after removal: \"+arc_node.str_node([]))\n",
    "print(\"\\nEvent queue after removal: \")\n",
    "print([str(event) for event in v1.events])"
   ]
  },
  {
   "cell_type": "code",
   "execution_count": null,
   "metadata": {
    "collapsed": false
   },
   "outputs": [],
   "source": [
    "\n"
   ]
  },
  {
   "cell_type": "code",
   "execution_count": 32,
   "metadata": {
    "collapsed": true
   },
   "outputs": [],
   "source": [
    "v_two_points=[Point(0,-1), Point(0,1)]\n",
    "v_four_points=[Point(0,0), Point(0,1), Point(0,2), Point(0,3)]\n",
    "v_triangle=[Point(0,0), Point(1,1), Point(-1,1)]\n",
    "v_square=[Point(0,-1), Point(1,0), Point(-1,0), Point(0,1)]\n",
    "v_centered_square=[Point(0,0), Point(0,-1), Point(1,0), Point(-1,0), Point(0,1)]\n",
    "v_cross=[Point(0,-1), Point(1,0), Point(-1,0), Point(0,2)]\n",
    "v_octagon=[Point(0,-2), Point(-np.sqrt(2),-np.sqrt(2)), Point(np.sqrt(2),-np.sqrt(2)), Point(-2,0), Point(2,0),Point(-np.sqrt(2),np.sqrt(2)), Point(np.sqrt(2),np.sqrt(2)), Point(0,2)]\n",
    "v_centered_octagon=[Point(0,0), Point(0,-2), Point(-np.sqrt(2),-np.sqrt(2)), Point(np.sqrt(2),-np.sqrt(2)), Point(-2,0), Point(2,0),Point(-np.sqrt(2),np.sqrt(2)), Point(np.sqrt(2),np.sqrt(2)), Point(0,2)]"
   ]
  },
  {
   "cell_type": "code",
   "execution_count": 33,
   "metadata": {
    "collapsed": true
   },
   "outputs": [],
   "source": [
    "h_two_points=[Point(0,0), Point(1,0)]\n",
    "h_four_points=[Point(0,0), Point(1,0), Point(2,0), Point(3,0)]\n",
    "h_triangle=[Point(-1,-1), Point(1,-1), Point(0,1)]\n",
    "h_square=[Point(-1,-1), Point(1,-1), Point(-1,1), Point(1,1)]\n",
    "h_centered_square=[Point(-1,-1), Point(1,-1), Point(-1,1), Point(1,1), Point(0,0)]\n",
    "x1=np.cos(np.pi/8); y1=np.sin(np.pi/8);x2=np.cos(3*np.pi/8);y2=np.sin(3*np.pi/8)\n",
    "h_octagon=[Point(x1,y1), Point(x2,y2), Point(-x1,y1), Point(-x2,y2), Point(-x1,-y1), Point(-x2,-y2), Point(x1,-y1), Point(x2,-y2)]\n",
    "h_centered_octagon=[Point(0,0), Point(x1,y1), Point(x2,y2), Point(-x1,y1), Point(-x2,y2), Point(-x1,-y1), Point(-x2,-y2), Point(x1,-y1), Point(x2,-y2)]"
   ]
  },
  {
   "cell_type": "code",
   "execution_count": 34,
   "metadata": {
    "collapsed": false
   },
   "outputs": [],
   "source": [
    "(xmin, xmax, ymin, ymax) = (-2, 2, -2, 2)\n",
    "n_points=10\n",
    "xs = np.random.uniform(xmin, xmax, n_points)\n",
    "ys = np.random.uniform(ymin, ymax, n_points)\n",
    "random = [Point(x, y) for x, y in zip(xs, ys)]"
   ]
  },
  {
   "cell_type": "code",
   "execution_count": 35,
   "metadata": {
    "collapsed": false
   },
   "outputs": [],
   "source": [
    "#v2=Voronoi(v_two_points)\n",
    "#v2=Voronoi(v_four_points)\n",
    "#v2=Voronoi(v_triangle)\n",
    "#v2=Voronoi(v_square)\n",
    "#v2=Voronoi(v_centered_square)\n",
    "#v2=Voronoi(v_cross)\n",
    "#v2=Voronoi(v_octagon)\n",
    "#v2=Voronoi(v_centered_octagon)"
   ]
  },
  {
   "cell_type": "code",
   "execution_count": 36,
   "metadata": {
    "collapsed": false
   },
   "outputs": [],
   "source": [
    "#v2=Voronoi(h_two_points)\n",
    "#v2=Voronoi(h_four_points)\n",
    "#v2=Voronoi(h_triangle)\n",
    "#v2=Voronoi(h_square)\n",
    "#v2=Voronoi(h_centered_square)\n",
    "#v2=Voronoi(h_octagon)\n",
    "#v2=Voronoi(h_centered_octagon)"
   ]
  },
  {
   "cell_type": "code",
   "execution_count": null,
   "metadata": {
    "collapsed": true
   },
   "outputs": [],
   "source": []
  },
  {
   "cell_type": "code",
   "execution_count": 37,
   "metadata": {
    "collapsed": false
   },
   "outputs": [],
   "source": [
    "def main(sites, x_range=(-1,1), y_range=(-1,1)):\n",
    "    print(\"started\")\n",
    "    time0 = time.time()\n",
    "    xm=(x_range[1]-x_range[0])/2\n",
    "    ym=(y_range[1]-y_range[0])/2\n",
    "    diag=np.sqrt(np.power(x_range[1]-x_range[0], 2) + np.power(y_range[1]-y_range[0], 2))\n",
    "    closing_points=[Point(xm, y_range[0]-diag), Point(x_range[1]+diag, ym), Point(xm, y_range[1]+diag), Point(x_range[0]-diag, ym)]\n",
    "    [print(str(point)) for point in sites+closing_points]\n",
    "    v=Voronoi(sites+closing_points)\n",
    "    print(v.beach.str_tree())\n",
    "    #v.plot_patches(x_range, y_range)\n",
    "    v.plot_edges(x_range, y_range, file_name=\"voronoi_segments.png\")\n",
    "    time1 = time.time()\n",
    "    print(\"ended\")\n",
    "    print(\"it took %.4f seconds and %s iterations\" % (time1 - time0, v.iterations))"
   ]
  },
  {
   "cell_type": "code",
   "execution_count": 38,
   "metadata": {
    "collapsed": false
   },
   "outputs": [
    {
     "name": "stdout",
     "output_type": "stream",
     "text": [
      "started\n",
      "(0.00,-2.00)\n",
      "(-1.41,-1.41)\n",
      "(1.41,-1.41)\n",
      "(-2.00,0.00)\n",
      "(2.00,0.00)\n",
      "(-1.41,1.41)\n",
      "(1.41,1.41)\n",
      "(0.00,2.00)\n",
      "(5.00,-19.14)\n",
      "(19.14,5.00)\n",
      "(5.00,19.14)\n",
      "(-19.14,5.00)\n",
      "Empty beachline.\n",
      "\n",
      "ended\n",
      "it took 0.1937 seconds and 27 iterations\n"
     ]
    }
   ],
   "source": [
    "x_range=[-5, 5]\n",
    "y_range=[-5, 5]\n",
    "points=v_octagon\n",
    "main(points, x_range, y_range)"
   ]
  },
  {
   "cell_type": "code",
   "execution_count": null,
   "metadata": {
    "collapsed": false
   },
   "outputs": [],
   "source": []
  },
  {
   "cell_type": "code",
   "execution_count": null,
   "metadata": {
    "collapsed": false
   },
   "outputs": [],
   "source": []
  },
  {
   "cell_type": "code",
   "execution_count": null,
   "metadata": {
    "collapsed": false
   },
   "outputs": [],
   "source": []
  },
  {
   "cell_type": "markdown",
   "metadata": {},
   "source": [
    "## GESTITI:\n",
    "\n",
    "### site event con nuovo sito con sulla verticale l'intersezione di due archi adiacenti \n",
    "Vado a sezionare coon il nuovo arco pc uno dei due archi soprastanti pl, pr (destro o sinistro, in base al confronto implementato. Non è importante quale dei due. Supponendo di intersecare l'arco destro la beachline va da pl, pr --> pl, pr', pc, pr''). Contestualmente si crea un circle event per l'arco fittizio creato . Come primo evento successivo gerstirò tale circle event aggiornando la beach (Nell'esempio eliminerò pr', andando da pl, pr', pc, pr''-> pl, pc, pr'').\n",
    "\n",
    "### eventi alla stessa y (sia circle che site)\n",
    "Penso sia meglio gestire prima i circle che i site, in modo da avere la beach aggiornata quando gestisco i site. \n",
    "Non penso più site event alla stessa y diano problemi, qualsiasi sia l'ordine con il quale sono gestiti\n",
    "Non penso più circle event alla stessa y diano problemi, anche se questo non è ovvio. In particolare andrebbe investigato il caso in cui, eliminando un arco, aggiungo un circle event (che verrà eseguito come circle event successivo, coinvolgente un arco che deve essere eliminato da un circle event alla stessa y)\n",
    "\n",
    "### eventi alla stessa [x,y] sia circle che site\n",
    "Site event: è stupido. L'utente non dovrebbe inserirne. Nel caso si possono eliminare siti uguali dall'input fornito\n",
    "Cirle event: non dovrebbero dare problemi neanche questi, anche se meno ovvio.\n",
    "\n",
    "### più siti iniziali alla stessa y\n",
    "* Possibile cereare il relativo albero separatamente. Le foglie sono inserite controllando quale è il sito più vicino in x (e non quale è l'arco soprastante, non esistendo ancora un arco soprastante. Se equisistante da due siti adiacenti effettuo l'assegnazione a uno dei due. Non è importante a quale dei due). L'arco che cade più vicino in x al nuovo sito è sostituito con un nodo segmento a due figli (nuovo sito figlio destro e sito più vicino figlio sinistro se il nuovo sito si trova a destra del sito più vicino, e viceversa). Il nodo padre è il segmento tra nuovo sito e sito adiacente (ci associo punto all'infinito o cosa?). Dovrò anche aggiornare il nodo a monte assegnato al segmento tra il sito più vicino e il sito che precedentemente gli stava a dx (se nuovo sito a destra del sito più vicino. Ora il sito di destra è il nuovo sito) o a sx (se nuovo sito a sinistra del sito più vicino. Ora il sito di sinistra è il nuovo sito).\n",
    "\n",
    "### chiusura algoritmo\n",
    "* Metodo 1: estraggo i nodi segmenti rimasti nell'albero a termine algoritmo. Tronco i nodi che vanno all'infinito in modo che rimangano nella box e associo i vari segmenti in cui è diviso il bordo della box ai diversi siti. In teoria i segmenti che vanno all'infinito sono solo quelli all'inizio della lista delle edges (aggiunti al primo step dell'algoritmo per le coppie di siti alla stessa y) e quelli rimasti nell'albero al termine dell'algoritmo (segmenti semi infiniti)\n",
    "* Metodo 2: aggiungo ai siti del diagramma di Voronoi quattro punti distanti a sufficienza dai quattro bordi della box di visualizzazione da non influenzare il diagramma visualizzato (dovrebbe essere sufficiente (xm, ymax+diag),(xm, ymin-diag),(xmin-diag, ym),(xmax+diag, ym) dove:  \n",
    "    - xmin, xmax, ymin, ymax sono le coordinate dei lati della box, \n",
    "    - xm=(xax-xmin)/2, ym=(ymax-ymin)/2 sono le coordinate dei punti medi dei lati della box\n",
    "    - diag è la diagonale della box\n",
    "    Questo metodo automaticamente risolve anche i problemi legati a \n",
    "    - più punti iniziali alla stessa y (non ci sono se i punti sono disposti a rombo)\n",
    "    - estrazione e troncamento dei segmenti non terminati (gli unici presenti sono fuori dal range di visualizzazione in quanto legati ai quattro assi di simmetria tra i punti aggiunti) \n",
    "\n",
    "## CAMBIAMENTI\n",
    "\n",
    "### ottimizzazioni\n",
    "* gestione puntatori in add_arc\n",
    "* gestione condizione intersezione in get_intersection\n",
    "* assegnamento hash univoco ai punti\n",
    "* assegnamento colori diversi a celle adiacenti"
   ]
  },
  {
   "cell_type": "code",
   "execution_count": null,
   "metadata": {
    "collapsed": true
   },
   "outputs": [],
   "source": []
  }
 ],
 "metadata": {
  "kernelspec": {
   "display_name": "Python 3",
   "language": "python",
   "name": "python3"
  },
  "language_info": {
   "codemirror_mode": {
    "name": "ipython",
    "version": 3
   },
   "file_extension": ".py",
   "mimetype": "text/x-python",
   "name": "python",
   "nbconvert_exporter": "python",
   "pygments_lexer": "ipython3",
   "version": "3.5.1"
  }
 },
 "nbformat": 4,
 "nbformat_minor": 0
}
