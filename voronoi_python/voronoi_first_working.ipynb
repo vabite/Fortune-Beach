{
 "cells": [
  {
   "cell_type": "code",
   "execution_count": 655,
   "metadata": {
    "collapsed": true
   },
   "outputs": [],
   "source": [
    "#voronoi diagram 0.0"
   ]
  },
  {
   "cell_type": "code",
   "execution_count": 656,
   "metadata": {
    "collapsed": true
   },
   "outputs": [],
   "source": [
    "import math\n",
    "import numpy as np"
   ]
  },
  {
   "cell_type": "code",
   "execution_count": 657,
   "metadata": {
    "collapsed": false
   },
   "outputs": [],
   "source": [
    "def circumcenter(a, b, c):\n",
    "    if isinstance(a, Segment):\n",
    "        print(\"a is\", a.str_segment())\n",
    "    if isinstance(b, Segment):\n",
    "        print(\"b is\", b.str_segment())\n",
    "    if isinstance(c, Segment):\n",
    "        print(\"c is\", c.str_segment())\n",
    "    d = (a.x - c.x) * (b.y - c.y) - (b.x - c.x) * (a.y - c.y)\n",
    "    if d==0: #tre punti allineati\n",
    "        return Point(math.inf, math.inf)\n",
    "    xc = (((a.x - c.x) * (a.x + c.x) + (a.y - c.y) * (a.y + c.y)) / 2 * \n",
    "          (b.y - c.y) - ((b.x - c.x) * (b.x + c.x) + (b.y - c.y) * (b.y + c.y)) / 2 * \n",
    "          (a.y - c.y))/d\n",
    "    yc = (((b.x - c.x) * (b.x + c.x) + (b.y - c.y) * (b.y + c.y)) / 2 * \n",
    "          (a.x - c.x) - ((a.x - c.x) * (a.x + c.x) + (a.y - c.y) * (a.y + c.y)) / 2 * \n",
    "          (b.x - c.x))/d\n",
    "    return Point(xc, yc)\n",
    "\n",
    "def circumbottom(a, b, c):\n",
    "    cc = circumcenter(a, b, c)\n",
    "    return Point(cc.x, cc.y-cc.dist_to_point(a)) #(cc.x, cc.y-r)\n",
    "\n",
    "def circumtop(a, b, c):\n",
    "    cc = circumcenter(a, b, c)\n",
    "    return Point(cc.x, cc.y+cc.dist_to_point(a)) #(cc.x, cc.y-r)\n",
    "\n",
    "def arc_cross_x(f1, f2, q):\n",
    "    if f1.y!=f2.y:\n",
    "        s1=(f1.y*f2.x-f1.x*f2.y+f1.x*q-f2.x*q+math.sqrt((f1.x*f1.x+f1.y*f1.y-2*f1.x*f2.x+f2.x*f2.x-2*f1.y*f2.y+f2.y*f2.y)*(f1.y*f2.y-f1.y*q-f2.y*q+q*q)))/(f1.y-f2.y)  \n",
    "        s2=(f1.y*f2.x-f1.x*f2.y+f1.x*q-f2.x*q-math.sqrt((f1.x*f1.x+f1.y*f1.y-2*f1.x*f2.x+f2.x*f2.x-2*f1.y*f2.y+f2.y*f2.y)*(f1.y*f2.y-f1.y*q-f2.y*q+q*q)))/(f1.y-f2.y)  \n",
    "        return [s1, s2] if s1<s2 else [s2, s1]\n",
    "    else:\n",
    "        return [(f1.x+f2.x)/2, (f1.x+f2.x)/2]\n",
    "\n",
    "def parabola_y(f, q, x):\n",
    "    if q!=f.y:\n",
    "        return math.pow((x - f.x),2)/(2*(abs(q-f.y)))+(q-f.y)/2\n",
    "    else:\n",
    "        return math.inf\n",
    "\n",
    "def distance(a, b):\n",
    "    return math.sqrt(math.pow((a.x - b.x), 2) + math.pow((a.y - b.y), 2))\n",
    "\n",
    "def go_to_i(alist, test):\n",
    "    i = 0\n",
    "    while i < len(alist) and test(alist[i]):\n",
    "        i += 1\n",
    "    return i\n"
   ]
  },
  {
   "cell_type": "code",
   "execution_count": 658,
   "metadata": {
    "collapsed": false
   },
   "outputs": [
    {
     "data": {
      "text/plain": [
       "[1.675444679663241, 14.32455532033676]"
      ]
     },
     "execution_count": 658,
     "metadata": {},
     "output_type": "execute_result"
    }
   ],
   "source": [
    "arc_cross_x(Point(0,0), Point(4,2), 4)"
   ]
  },
  {
   "cell_type": "code",
   "execution_count": 659,
   "metadata": {
    "collapsed": false
   },
   "outputs": [
    {
     "name": "stdout",
     "output_type": "stream",
     "text": [
      "2.0\n"
     ]
    }
   ],
   "source": [
    "f=Point(0,0)\n",
    "q=2\n",
    "print(str(parabola_y(f,q,2)))"
   ]
  },
  {
   "cell_type": "code",
   "execution_count": 660,
   "metadata": {
    "collapsed": false
   },
   "outputs": [],
   "source": [
    "class Point(object):\n",
    "    \n",
    "    def __init__(self, x, y):\n",
    "        self.x = x\n",
    "        self.y = y\n",
    "        \n",
    "    def str_point(self):\n",
    "        return \"[\"+str(round(self.x,3))+\",\"+str(round(self.y,3))+\"]\"\n",
    "        \n",
    "    def is_x_greater(self, p):\n",
    "        return self.x > p.x\n",
    "    \n",
    "    def is_y_greater(self, p):\n",
    "        return self.y > p.y\n",
    "        \n",
    "    def delta_x(self, p):\n",
    "        return self.x-p.x\n",
    "    \n",
    "    def delta_y(self, p):\n",
    "        return self.y-p.y\n",
    "    \n",
    "    def dist_to_point(self, p):\n",
    "        return math.sqrt(math.pow(self.x - p.x, 2) + math.pow(self.y - p.y, 2))\n",
    "    \n",
    "    def dist_to_par(self, focus): #se la distanza punto parabola è infinita (direttrice parabola passante per punto e fuoco)\n",
    "        return math.pow(self.dist_to_point(focus), 2)/(2*abs(self.delta_y(focus))) if self.delta_y(focus)!=0 else math.inf\n",
    "    \n",
    "    def is_same_point(self, p):\n",
    "        return self.x == p.x and self.y == p.y\n",
    "        \n",
    "    def is_in(self, ps):\n",
    "        for p in ps:\n",
    "            if self.is_same_point(p):\n",
    "                return True\n",
    "        return False"
   ]
  },
  {
   "cell_type": "code",
   "execution_count": 694,
   "metadata": {
    "collapsed": false
   },
   "outputs": [],
   "source": [
    "class Segment(object):\n",
    "    \n",
    "    def __init__(self,  pl=None, pr=None, start=None, end=None):\n",
    "        self.start = start #punto iniziale del segmento\n",
    "        self.end = end #punto finale del segmento\n",
    "        self.pl = pl #uno dei due punti di cui l'oggetto è un segmento dell'asse\n",
    "        self.pr = pr #uno dei due punti di cui l'oggetto è un segmento dell'asse\n",
    "        \n",
    "    def str_segment(self):\n",
    "        start=\"Start: None\" if self.start==None else \"Start: \"+self.start.str_point()\n",
    "        end=\"Theta: \"+str(self.theta()) if self.end==None else \"End: \"+self.end.str_point()\n",
    "        return start+\"; \"+end+\"; left arc focus: \"+self.pl.str_point()+\"; right arc focus: \"+self.pr.str_point()\n",
    "    \n",
    "    def halfplane(self):\n",
    "        #QUI SFRUTTA L'ORDINAMENTO IN Y DEGLI EVENTI: i semisegmenti vengono specchiati rispetto a x se cambia il verso di sweep\n",
    "        #per sweep verso x positive. +: semipiano superiore e x+; -: semipiano inferiore e x-\n",
    "        #per sweep verso x negative. +: semipiano inferiore e x+; -: semipiano superiore e x- (possibile invertire la condizione)\n",
    "        #L'assegnazione di x+ e x- è stata scelta arbitrariamente\n",
    "        if self.pl.x<self.pr.x: #semipiano superiore\n",
    "            return 2\n",
    "        if self.pl.x>self.pr.x: #semipiano inferiore\n",
    "            return -2\n",
    "        if self.pl.x==self.pr.x and self.pl.y>self.pr.y: #asse x+\n",
    "            return 1\n",
    "        return -1 #asse x-\n",
    "    \n",
    "    def m(self): #y=mx+q ; m=-(pl.x-pr.x)/(pl.y-pr.y) ; q=(pl.y+pr.y)/2-m*(pl.x+pr.x)/2\n",
    "        return math.inf if self.pl.y==self.pr.y else -(self.pl.x-self.pr.x)/(self.pl.y-self.pr.y)\n",
    "    \n",
    "    def direction(self):\n",
    "        (m, hp)=(self.m(), self.halfplane())\n",
    "        return Point(1,m) if (hp*m>0 or (m==0 and hp>0)) else Point(-1,-m) \n",
    "    \n",
    "    def theta(self, rad=False):\n",
    "        theta = round(math.atan2(self.direction().y, self.direction().x), 3)\n",
    "        return round(theta*180/math.pi, 2) if rad==False else round(theta, 3)\n",
    "        \n",
    "    def y(self, x):\n",
    "        return self.m()*x+self.start.y-self.m()*self.start.x\n",
    "    \n",
    "    def get_intersection(self, s1, s2=None):\n",
    "        s2=self if s2==None else s2\n",
    "        (s1_m, s2_m)=(s1.m(), s2.m())\n",
    "        (s1_hp, s2_hp)=(s1.halfplane(), s2.halfplane())\n",
    "        #print(str(s1_m), str(s2_m), str(s1_hp), str(s2_hp))\n",
    "        if (s1_hp*s1_m>0 or (s1_m==0 and s1_hp>0)): #semiretta semipiano dx \n",
    "            s1_vec=Point(1,s1_m) \n",
    "        else: #semiretta nel semipiano sx\n",
    "            s1_vec=Point(-1,-s1_m)\n",
    "        if (s2_hp*s2_m>0 or (s2_m==0 and s2_hp>0)): #semiretta semipiano dx \n",
    "            s2_vec=Point(1,s2_m) \n",
    "        else: #semiretta nel semipiano sx\n",
    "            s2_vec=Point(-1,-s2_m)\n",
    "        dx = s2.start.x - s1.start.x\n",
    "        dy = s2.start.y - s1.start.y\n",
    "        if s2_m==math.inf: #segmento 2 verticale\n",
    "            print(\"Vertical:\", s2_hp*(s1_m*dx-dy), s1_vec.x*dx)\n",
    "            if s2_hp*(s1_m*dx-dy)>=-0.1e-10 and s1_vec.x*dx>=-0.1e-10:\n",
    "                return Point(s2.start.x, s1.start.y+s1_m*(dx))\n",
    "            return None\n",
    "        if s1_m==math.inf: #segmento 1 verticale; stesse condizioni ma con s1->s2, dx->-dx, dy->-dy\n",
    "            print(\"Vertical \",s1_hp*(s2_m*dx-dy), s2_vec.x*dx)\n",
    "            if s1_hp*(s2_m*dx-dy)<=1.0e-10 and s2_vec.x*dx<=1.0e-10:\n",
    "                return Point(s1.start.x, s2.start.y-s2_m*(dx))\n",
    "            return None\n",
    "        det = s2_vec.x * s1_vec.y - s2_vec.y * s1_vec.x\n",
    "        if det==0:\n",
    "            return None\n",
    "        u = (dy * s2_vec.x - dx * s2_vec.y) / det\n",
    "        v = (dy * s1_vec.x - dx * s1_vec.y) / det\n",
    "        print(\"Not vertical \", str(u), str(v))\n",
    "        if u>=0 and v>=0:\n",
    "            return Point(s1.start.x+u*s1_vec.x, s1.start.y+u*s1_vec.y)"
   ]
  },
  {
   "cell_type": "code",
   "execution_count": 695,
   "metadata": {
    "collapsed": false
   },
   "outputs": [],
   "source": [
    "s1=Segment(start=Point(0,0), pl=Point(1,0), pr=Point(0,1))\n",
    "s2=Segment(start=Point(0,0), pl=Point(1,0), pr=Point(-1,0))"
   ]
  },
  {
   "cell_type": "code",
   "execution_count": 696,
   "metadata": {
    "collapsed": false
   },
   "outputs": [
    {
     "name": "stdout",
     "output_type": "stream",
     "text": [
      "Vertical  -0.0 0\n",
      "<__main__.Point object at 0x104abb160>\n"
     ]
    }
   ],
   "source": [
    "print(str(s1.get_intersection(s2)))"
   ]
  },
  {
   "cell_type": "code",
   "execution_count": null,
   "metadata": {
    "collapsed": true
   },
   "outputs": [],
   "source": []
  },
  {
   "cell_type": "code",
   "execution_count": 697,
   "metadata": {
    "collapsed": false
   },
   "outputs": [],
   "source": [
    "def inters(self, s1, s2=None, s1_m=None, s2_m=None, hp1=None, hp2=None):\n",
    "    s2=self if s2==None else s2\n",
    "    if s1_m==None:\n",
    "        s1_m=s1.m()[0]\n",
    "    if s2_m==None:\n",
    "        s2_m=s2.m()[0]\n",
    "    if (hp1*s1_m>0 or (s1_m==0 and hp1>0)): #semiretta semipiano dx \n",
    "        s1_vec=Point(1,s1_m) \n",
    "    else: #semiretta nel semipiano sx\n",
    "        s1_vec=Point(-1,-s1_m)\n",
    "    if (hp2*s2_m>0 or (s2_m==0 and hp2>0)): #semiretta semipiano dx \n",
    "        s2_vec=Point(1,s2_m) \n",
    "    else: #semiretta nel semipiano sx\n",
    "        s2_vec=Point(-1,-s2_m)\n",
    "    dx = s2.start.x - s1.start.x\n",
    "    dy = s2.start.y - s1.start.y\n",
    "    if s2_m==math.inf: #segmento 2 verticale\n",
    "        #print(hp2*(s1_m*dx-dy), s1_vec.x*dx>=0)\n",
    "        if hp2*(s1_m*dx-dy)>=0 and s1_vec.x*dx>=0:\n",
    "            return Point(s2.start.x, s1.start.y+s1_m*(dx))\n",
    "        return None\n",
    "    if s1_m==math.inf: #segmento 1 verticale; stesse condizioni ma con s1->s2, dx->-dx, dy->-dy\n",
    "        #print(hp1*(s2_m*dx-dy), s2_vec.x*dx)\n",
    "        if hp1*(s2_m*dx-dy)<=0 and s2_vec.x*dx<=0:\n",
    "            return Point(s1.start.x, s2.start.y-s2_m*(dx))\n",
    "        return None\n",
    "    det = s2_vec.x * s1_vec.y - s2_vec.y * s1_vec.x\n",
    "    if det==0:\n",
    "        return None\n",
    "    u = (dy * s2_vec.x - dx * s2_vec.y) / det\n",
    "    v = (dy * s1_vec.x - dx * s1_vec.y) / det\n",
    "    print(str(u), str(v))\n",
    "    if u>=0 and v>=0:\n",
    "        return Point(s1.start.x+u*s1_vec.x, s1.start.y+u*s1_vec.y)\n",
    "    \n",
    "#inters=s1.inters(s1=s1, s2=s2, s1_m=1.5, s2_m=1, hp1=-2, hp2=-2)\n",
    "#if inters==None:\n",
    "#    print(\"No intersection\")\n",
    "#else:\n",
    "#    print(inters.str_point())\n",
    "#collineari e verticali"
   ]
  },
  {
   "cell_type": "code",
   "execution_count": null,
   "metadata": {
    "collapsed": true
   },
   "outputs": [],
   "source": []
  },
  {
   "cell_type": "code",
   "execution_count": null,
   "metadata": {
    "collapsed": true
   },
   "outputs": [],
   "source": []
  },
  {
   "cell_type": "code",
   "execution_count": null,
   "metadata": {
    "collapsed": true
   },
   "outputs": [],
   "source": []
  },
  {
   "cell_type": "code",
   "execution_count": 698,
   "metadata": {
    "collapsed": false
   },
   "outputs": [],
   "source": [
    "class Beachline(object):\n",
    "    \n",
    "    def __init__(self, item):\n",
    "        self.item = item\n",
    "        self.parent = None\n",
    "        self.l = None\n",
    "        self.r = None\n",
    "        self.c_event=None\n",
    "        \n",
    "    def str_node(self, directions=[]):\n",
    "        cur_node=self\n",
    "        for d in directions:\n",
    "            cur_node=cur_node.l if d==\"l\" else cur_node.r\n",
    "        if isinstance(cur_node.item, Segment):\n",
    "            return \"Edge. \"+cur_node.item.str_segment()\n",
    "        else:\n",
    "            return \"Arc. \"+cur_node.item.str_point()+\". Circle event: None\" if cur_node.c_event==None else \"Arc. \"+cur_node.item.str_point()+\". Event: \"+cur_node.c_event.str_event()\n",
    "    \n",
    "    def str_tree(self, path=\"Path: root\"):\n",
    "        node_string=path+\". \"+self.str_node()+\"\\n\"\n",
    "        if not self.is_leaf():\n",
    "            node_string+=self.l.str_tree(path+\"->l\")\n",
    "            node_string+=self.r.str_tree(path+\"->r\")\n",
    "        return node_string\n",
    "    \n",
    "    def get_leaves(self):\n",
    "        cur_node=self\n",
    "        leaves=[]\n",
    "        while not cur_node.is_leaf():\n",
    "            cur_node=cur_node.l\n",
    "        while cur_node!=None:\n",
    "            leaves.append(cur_node)\n",
    "            cur_node=cur_node.get_rleaf()[0]\n",
    "        return leaves\n",
    "              \n",
    "    def is_leaf(self):\n",
    "        return self.l==None\n",
    "    \n",
    "    def is_lchild(self):\n",
    "        return not self.is_root() and self.parent.l==self\n",
    "    \n",
    "    def is_rchild(self):\n",
    "        return not self.is_root() and self.parent.r==self\n",
    "                \n",
    "    def is_root(self):\n",
    "        return self.parent==None\n",
    "        \n",
    "    def add_rchild(self, item, event=None):\n",
    "        child = Beachline(item)\n",
    "        child.parent = self\n",
    "        self.r = child\n",
    "        \n",
    "    def add_lchild(self, item, event=None):\n",
    "        child = Beachline(item)\n",
    "        child.parent = self\n",
    "        self.l = child\n",
    "        \n",
    "    #def get_nearest_arc_node(self, new_site):\n",
    "        #cur_node = self\n",
    "        #while isinstance(cur_node.item, Segment): #se il nuovo sito è equidistante da pl e pr è automaricamente associato al figlio destro (non so se corretto)\n",
    "            #cur_node = cur_node.l if new_site.x < cur_node.item.pl.x else cur_node.r\n",
    "        #return cur_node\n",
    "    \n",
    "    def get_arc_node_on_site(self, new_site):\n",
    "        cur_node = self\n",
    "        while isinstance(cur_node.item, Segment): #se il nuovo sito è equidistante da pl e pr è automaticamente associato al figlio destro (non so se corretto)\n",
    "            print(\"Intersection between\",cur_node.item.pl.str_point(),\"and\",cur_node.item.pr.str_point(),\"when q=\",str(new_site.y),\": \", str(arc_cross_x(cur_node.item.pl, cur_node.item.pr, new_site.y)))\n",
    "            if cur_node.item.pl.y<cur_node.item.pr.y:\n",
    "                sol=0\n",
    "            else:\n",
    "                sol=1\n",
    "            cur_node = cur_node.l if new_site.x<(arc_cross_x(cur_node.item.pl, cur_node.item.pr, new_site.y)[sol]) else cur_node.r\n",
    "        return cur_node\n",
    "    \n",
    "    def get_lleaf(self, leaf=None):\n",
    "        cur_node=self if leaf==None else leaf #se non passo un argomento al metodo utilizza come foglia il nodo chiamante\n",
    "        while cur_node.is_lchild():\n",
    "            cur_node=cur_node.parent\n",
    "        if cur_node.is_root():\n",
    "            return [None,None]\n",
    "        ledge=cur_node.parent\n",
    "        cur_node=cur_node.parent.l\n",
    "        while not cur_node.is_leaf():\n",
    "            cur_node=cur_node.r\n",
    "        return cur_node, ledge\n",
    "    \n",
    "    def get_rleaf(self, leaf=None):\n",
    "        cur_node=self if leaf==None else leaf #se non passo un argomento al metodo utilizza come foglia il nodo chiamante\n",
    "        while cur_node.is_rchild():\n",
    "            cur_node=cur_node.parent\n",
    "        if cur_node.is_root():\n",
    "            return [None, None]\n",
    "        redge=cur_node.parent\n",
    "        cur_node=cur_node.parent.r\n",
    "        while not cur_node.is_leaf():\n",
    "            cur_node=cur_node.l\n",
    "        return cur_node, redge\n",
    "    \n",
    "    #def add_initial_arc(self, new_arc_site):\n",
    "            \n",
    "    #modifica la beach in modo che, dove prima c'era il sito arco intersecato, ora si ha sito arco intersecato,\n",
    "    #segmento con inizio in intersezione, nuovo sito, segmento con inizio in intersezione, sito arco intersecato\n",
    "    def add_arc(self, new_arc_site, crossed_arc_node):\n",
    "        crossed_arc_site = crossed_arc_node.item\n",
    "        #QUI SFRUTTA L'ORDINAMENTO IN Y DEGLI EVENTI: va aggiunto a new_arc_site.y un vettore di lung=new_arc_site.dist_to_par(crossed_arc_site) nel verso opposto a quello di sweep\n",
    "        #se la sl va verso y crescenti la y del circle event sarà cc.y-r\n",
    "        #se la sl va verso y decrescenti la y del circle event sarà cc.y+r\n",
    "        cross_point = Point(new_arc_site.x, new_arc_site.y-new_arc_site.dist_to_par(crossed_arc_site))\n",
    "        new_lhalfedge=Segment(pl=crossed_arc_site, pr=new_arc_site, start=cross_point)\n",
    "        new_rhalfedge=Segment(pl=new_arc_site, pr=crossed_arc_site, start=cross_point)\n",
    "        crossed_arc_node.item = new_lhalfedge\n",
    "        crossed_arc_node.add_lchild(crossed_arc_site)\n",
    "        crossed_arc_node.add_rchild(new_rhalfedge)\n",
    "        crossed_arc_node.r.add_lchild(new_arc_site)\n",
    "        crossed_arc_node.r.add_rchild(crossed_arc_site)\n",
    "        return crossed_arc_node\n",
    "     \n",
    "    def rm_arc(self, new_edge_start, arcs_nodes, edges_nodes):#in realtà potrebbe calcolarseli tutti, ma mi sembrava più efficiente passarglieli siccome già noti\n",
    "        #salvataggi dei valori da ritornare prima dellaggiornamento dell'albero\n",
    "        (live_larc_node, dead_arc_node, live_rarc_node)=(arcs_nodes[0], arcs_nodes[1], arcs_nodes[2])\n",
    "        #aggiornamento dell'albero\n",
    "            #salvataggi dei riferimenti per nuovo assegnamento\n",
    "        if dead_arc_node.is_rchild():\n",
    "            (live_cut_branch, mid_edge_node, top_edge_node)=(edges_nodes[0].l, edges_nodes[0], edges_nodes[1])  \n",
    "        else:\n",
    "            (live_cut_branch, mid_edge_node, top_edge_node)=(edges_nodes[1].r, edges_nodes[1], edges_nodes[0])  \n",
    "            #nuovo assegnamento\n",
    "        top_edge_node.item = Segment(pl=live_larc_node.item, pr=live_rarc_node.item, start=new_edge_start, end=None)\n",
    "        if mid_edge_node.is_rchild(): #aggiornamento puntatore padre->figlio\n",
    "            mid_edge_node.parent.r=live_cut_branch #non usa metodo add_rchild perchè non aggiunge un nodo a partire da un item\n",
    "        else:\n",
    "            mid_edge_node.parent.l=live_cut_branch\n",
    "        live_cut_branch.parent=mid_edge_node.parent #aggiornamento puntatore figlio->padre"
   ]
  },
  {
   "cell_type": "code",
   "execution_count": null,
   "metadata": {
    "collapsed": false
   },
   "outputs": [],
   "source": []
  },
  {
   "cell_type": "code",
   "execution_count": null,
   "metadata": {
    "collapsed": false
   },
   "outputs": [],
   "source": []
  },
  {
   "cell_type": "code",
   "execution_count": 699,
   "metadata": {
    "collapsed": false
   },
   "outputs": [],
   "source": [
    "first_arc_site = Point(5, 10)\n",
    "bl = Beachline(first_arc_site)"
   ]
  },
  {
   "cell_type": "code",
   "execution_count": 700,
   "metadata": {
    "collapsed": false
   },
   "outputs": [
    {
     "name": "stdout",
     "output_type": "stream",
     "text": [
      "5 10 None None None None\n"
     ]
    }
   ],
   "source": [
    "print(bl.item.x, bl.item.y, bl.parent, bl.l, bl.r, bl.c_event)"
   ]
  },
  {
   "cell_type": "code",
   "execution_count": 701,
   "metadata": {
    "collapsed": false
   },
   "outputs": [
    {
     "name": "stdout",
     "output_type": "stream",
     "text": [
      "Root. Segment with start point: [ 7 , 6.0 ]\n",
      "Root.r. Segment with start point: [ 7 , 6.0 ]\n",
      "Root.l. Point: [ 5 , 10 ]\n",
      "Root.r.r. Point: [ 5 , 10 ]\n",
      "Root.r.l. Point: [ 7 , 8 ]\n"
     ]
    }
   ],
   "source": [
    "second_site = Point(first_arc_site.x+2, first_arc_site.y-2) #così facendo, le halfedge sono costruite con start=[first_arc_site.x+2, first_arc_site.y]\n",
    "crossed_arc_node = bl.get_arc_node_on_site(second_site)\n",
    "bl.add_arc(second_site, crossed_arc_node)\n",
    "print(\"Root. Segment with start point: [\", bl.item.start.x, \",\", bl.item.start.y, \"]\") #1st-2nd site cross point\n",
    "print(\"Root.r. Segment with start point: [\", bl.r.item.start.x, \",\", bl.r.item.start.y, \"]\") #1st-2nd site cross point\n",
    "print(\"Root.l. Point: [\", bl.l.item.x, \",\", bl.l.item.y, \"]\") #1st site\n",
    "print(\"Root.r.r. Point: [\", bl.r.r.item.x, \",\", bl.r.r.item.y, \"]\") #1st site\n",
    "print(\"Root.r.l. Point: [\", bl.r.l.item.x, \",\", bl.r.l.item.y, \"]\") #2nd site"
   ]
  },
  {
   "cell_type": "code",
   "execution_count": 702,
   "metadata": {
    "collapsed": false,
    "scrolled": false
   },
   "outputs": [
    {
     "name": "stdout",
     "output_type": "stream",
     "text": [
      "Intersection between [5,10] and [7,8] when q= 6 :  [5.0, 13.0]\n",
      "Path: root. Edge. Start: [7,6.0]; Theta: 44.98; left arc focus: [5,10]; right arc focus: [7,8]\n",
      "Path: root->l. Edge. Start: [6,3.875]; Theta: 14.04; left arc focus: [5,10]; right arc focus: [6,6]\n",
      "Path: root->l->l. Arc. [5,10]. Circle event: None\n",
      "Path: root->l->r. Edge. Start: [6,3.875]; Theta: -165.99; left arc focus: [6,6]; right arc focus: [5,10]\n",
      "Path: root->l->r->l. Arc. [6,6]. Circle event: None\n",
      "Path: root->l->r->r. Arc. [5,10]. Circle event: None\n",
      "Path: root->r. Edge. Start: [7,6.0]; Theta: -134.99; left arc focus: [7,8]; right arc focus: [5,10]\n",
      "Path: root->r->l. Arc. [7,8]. Circle event: None\n",
      "Path: root->r->r. Arc. [5,10]. Circle event: None\n",
      "\n"
     ]
    }
   ],
   "source": [
    "third_site = Point(6, 6)\n",
    "crossed_arc_node = bl.get_arc_node_on_site(third_site)\n",
    "bl.add_arc(third_site, crossed_arc_node)\n",
    "print(bl.str_tree())"
   ]
  },
  {
   "cell_type": "code",
   "execution_count": 703,
   "metadata": {
    "collapsed": false
   },
   "outputs": [
    {
     "name": "stdout",
     "output_type": "stream",
     "text": [
      "5 10\n",
      "6 6\n",
      "5 10\n",
      "7 8\n",
      "5 10\n",
      "None\n",
      "True\n",
      "True\n",
      "True\n",
      "True\n",
      "None\n"
     ]
    }
   ],
   "source": [
    "first_leaf = bl.l.l\n",
    "print(first_leaf.item.x, first_leaf.item.y)\n",
    "second_leaf = bl.get_rleaf(first_leaf)[0]\n",
    "print(second_leaf.item.x, second_leaf.item.y) #2nd site\n",
    "third_leaf = bl.get_rleaf(second_leaf)[0]\n",
    "print(third_leaf.item.x, third_leaf.item.y) #3rd site\n",
    "fourth_leaf = bl.get_rleaf(third_leaf)[0]\n",
    "print(fourth_leaf.item.x, fourth_leaf.item.y) #2nd site\n",
    "fifth_leaf = bl.get_rleaf(fourth_leaf)[0]\n",
    "print(fifth_leaf.item.x, fifth_leaf.item.y) #1st site\n",
    "sixth_leaf = bl.get_rleaf(fifth_leaf)[0]\n",
    "print(sixth_leaf) #None\n",
    "print(fourth_leaf==fifth_leaf.get_lleaf()[0])\n",
    "print(third_leaf==fourth_leaf.get_lleaf()[0])\n",
    "print(second_leaf==third_leaf.get_lleaf()[0])\n",
    "print(first_leaf==second_leaf.get_lleaf()[0])\n",
    "print(first_leaf.get_lleaf()[0]) #None"
   ]
  },
  {
   "cell_type": "code",
   "execution_count": 704,
   "metadata": {
    "collapsed": false
   },
   "outputs": [
    {
     "name": "stdout",
     "output_type": "stream",
     "text": [
      "Path: root. Edge. Start: [7,6.0]; Theta: 44.98; left arc focus: [5,10]; right arc focus: [7,8]\n",
      "Path: root->l. Edge. Start: [2,9]; Theta: -90.01; left arc focus: [5,10]; right arc focus: [5,10]\n",
      "Path: root->l->l. Arc. [5,10]. Circle event: None\n",
      "Path: root->l->r. Arc. [5,10]. Circle event: None\n",
      "Path: root->r. Edge. Start: [7,6.0]; Theta: -134.99; left arc focus: [7,8]; right arc focus: [5,10]\n",
      "Path: root->r->l. Arc. [7,8]. Circle event: None\n",
      "Path: root->r->r. Arc. [5,10]. Circle event: None\n",
      "\n"
     ]
    }
   ],
   "source": [
    "new_edge_start=Point(2,9)\n",
    "(lleaf, ledge_node)=second_leaf.get_lleaf()\n",
    "(rleaf, redge_node)=second_leaf.get_rleaf()\n",
    "bl.rm_arc(new_edge_start, [lleaf,second_leaf,rleaf], [ledge_node, redge_node]) #second leaf è un figlio sinistro\n",
    "print(bl.str_tree())"
   ]
  },
  {
   "cell_type": "code",
   "execution_count": 705,
   "metadata": {
    "collapsed": false
   },
   "outputs": [
    {
     "name": "stdout",
     "output_type": "stream",
     "text": [
      "Path: root. Edge. Start: [2,9]; Theta: 44.98; left arc focus: [5,10]; right arc focus: [7,8]\n",
      "Path: root->l. Arc. [5,10]. Circle event: None\n",
      "Path: root->r. Edge. Start: [7,6.0]; Theta: -134.99; left arc focus: [7,8]; right arc focus: [5,10]\n",
      "Path: root->r->l. Arc. [7,8]. Circle event: None\n",
      "Path: root->r->r. Arc. [5,10]. Circle event: None\n",
      "\n"
     ]
    }
   ],
   "source": [
    "nnew_edge_start=Point(3,4)\n",
    "(lleaf, ledge_node)=third_leaf.get_lleaf()\n",
    "(rleaf, redge_node)=third_leaf.get_rleaf()\n",
    "bl.rm_arc(new_edge_start, [lleaf,third_leaf,rleaf], [ledge_node, redge_node]) #fifth leaf è un figlio destro\n",
    "print(bl.str_tree())"
   ]
  },
  {
   "cell_type": "code",
   "execution_count": null,
   "metadata": {
    "collapsed": true
   },
   "outputs": [],
   "source": []
  },
  {
   "cell_type": "code",
   "execution_count": null,
   "metadata": {
    "collapsed": true
   },
   "outputs": [],
   "source": []
  },
  {
   "cell_type": "code",
   "execution_count": null,
   "metadata": {
    "collapsed": true
   },
   "outputs": [],
   "source": []
  },
  {
   "cell_type": "code",
   "execution_count": 706,
   "metadata": {
    "collapsed": false
   },
   "outputs": [],
   "source": [
    "class Event(object):\n",
    "    \n",
    "    def __init__(self, arc_site_or_nodes): #sites: tupla dei siti associati agli archi coinvolti nell'evento (ordinati)\n",
    "        if isinstance(arc_site_or_nodes, Point): \n",
    "            self.coord=arc_site_or_nodes\n",
    "            self.nodes=None\n",
    "        else:\n",
    "            #print(\"In Event constructor I got\")\n",
    "            #print(arc_site_or_nodes[0].str_node())\n",
    "            #print(arc_site_or_nodes[1].str_node())\n",
    "            #print(arc_site_or_nodes[2].str_node())\n",
    "            #print(arc_site_or_nodes[3].str_node())\n",
    "            #print(arc_site_or_nodes[4].str_node())\n",
    "            self.nodes=[arc_site_or_nodes[0], arc_site_or_nodes[2], arc_site_or_nodes[4]]\n",
    "            self.edges=[arc_site_or_nodes[1], arc_site_or_nodes[3]]\n",
    "            self.vertex_coord=circumcenter(self.nodes[0].item, self.nodes[1].item, self.nodes[2].item)\n",
    "            #QUI SFRUTTA L'ORDINAMENTO IN Y DEGLI EVENTI: se sweep verso y crescenti uso circumtop, viceversa circumbottom\n",
    "            self.coord=Point(self.vertex_coord.x,self.vertex_coord.y+self.nodes[0].item.dist_to_point(self.vertex_coord))\n",
    "\n",
    "            \n",
    "    def str_event(self):\n",
    "        if(self.nodes==None): #site event\n",
    "            return \"Site event. Site: \"+self.coord.str_point()  \n",
    "        else: #circle event\n",
    "            return \"Circle event. Coord:\"+self.coord.str_point()+\". Arc site:\"+self.nodes[1].item.str_point()\n",
    "    \n",
    "    def is_same_event(self, e):\n",
    "        return self.nodes==e.nodes and self.coord==e.coord\n",
    "    \n",
    "    def is_coord_y_greater(self, e):\n",
    "        return self.coord.y > e.coord.y\n",
    "    \n",
    "    #QUI DEFINISCE L'ORDINAMENTO IN Y DEGLI EVENTI: in base a come ordino gli eventi, la sl andrà verso y crescenti o decrescenti\n",
    "    #inserisce i nuovi circle come primi eventi a tale y. Penso sia giusto gestirli prima dei site event, in modo da avere la beach aggiornata\n",
    "    def add(self, es):  \n",
    "        es.insert(go_to_i(es, self.is_coord_y_greater), self)\n",
    "    \n",
    "    def rm(self, es):\n",
    "        i = go_to_i(es, self.is_coord_y_greater)\n",
    "        while True:\n",
    "            #se non esiste un altro evento alla stessa y elimina subito l'evento corrente, se no effettua il controllo\n",
    "            if i==len(es)-1 or self.coord.y != es[i+1].coord.y or self.is_same_event(es[i]): \n",
    "                return es.pop(i)\n",
    "            i+=1            "
   ]
  },
  {
   "cell_type": "code",
   "execution_count": 707,
   "metadata": {
    "collapsed": false
   },
   "outputs": [],
   "source": [
    "class Voronoi(object):\n",
    "    \n",
    "    def __init__(self, sites):\n",
    "        self.sites = sites  #siti di V, obj Point\n",
    "        self.edges = []\n",
    "        self.events = []\n",
    "        for site in sites:\n",
    "            Event(site).add(self.events)\n",
    "        self.beach = Beachline(self.events[0].coord)     \n",
    "    \n",
    "    #rimuove dalla lista degli eventi l'evento cicle il cui arco associato all'indice della beachline argomento è \n",
    "    #quello centrale\n",
    "    def rm_circle_event(self, arc_node):\n",
    "        if arc_node.c_event != None:\n",
    "            arc_node.c_event.rm(self.events)\n",
    "            arc_node.c_event = None\n",
    "        else:\n",
    "            return None\n",
    "    \n",
    "    #NB: un circle event è originato da tre siti di V adiacenti. In esso viene eliminato l'arco centrale. Da notare\n",
    "    #che l'arco centrale non è associabile a priori in modo banale ad uno dei tre punti\n",
    "    #Il metodo controlla gli archi interessati da un cambiamento della beachline e verifica se ci sono dei circle\n",
    "    #event loro associati. Se ci sono, aggiunge l'evento alla coda salvando i siti degli archi nell'ordine di comparsa\n",
    "    #e salvando un riferimento all'evento \n",
    "    def add_circle_event(self, arc_node, sweep_y):\n",
    "        larc_node = arc_node.get_lleaf()[0]\n",
    "        rarc_node = arc_node.get_rleaf()[0]\n",
    "        ledge_node = arc_node.get_lleaf()[1]\n",
    "        redge_node = arc_node.get_rleaf()[1]\n",
    "        if larc_node==None or rarc_node==None:\n",
    "            print(\"No event: first or last arc\")\n",
    "            return \"No event: first or last arc\"\n",
    "        if larc_node.item.is_same_point(rarc_node.item):\n",
    "            print(\"No event: lefter arc site equals righter arc site\")\n",
    "            return \"No event: lefter arc site equals righter arc site\"\n",
    "        #print(\"Event added. I got\")\n",
    "        #print(larc_node.str_node())\n",
    "        #print(ledge_node.str_node())\n",
    "        #print(arc_node.str_node())\n",
    "        #print(redge_node.str_node())\n",
    "        #print(rarc_node.str_node())\n",
    "        cc = circumcenter(larc_node.item, arc_node.item, rarc_node.item)\n",
    "        if cc.y==math.inf:\n",
    "            print(\"No event: the three arcs sites are on the same line\")\n",
    "            return \"No event: the three arcs sites are on the same line\"\n",
    "        #QUI SFRUTTA L'ORDINAMENTO IN Y DEGLI EVENTI: va preso l'estremo della circonferenza nella direzione di sweep\n",
    "        #se la sl va verso y crescenti la y del circle event sarà cc.y+r\n",
    "        #se la sl va verso y decrescenti la y del circle event sarà cc.y-r\n",
    "        event_point=Point(cc.x, cc.y+arc_node.item.dist_to_point(cc))\n",
    "        #QUI SFRUTTA L'ORDINAMENTO IN Y DEGLI EVENTI: un evento è sotto la sl se deve essere ancora incontrato durante lo sweep, e viceversa\n",
    "        #se la sl va verso y crescenti un evento è sotto la sl se ha y minore di quella della sl\n",
    "        #se la sl va verso y decrescenti un evento è sotto la sl se ha y maggiore di quella della sl\n",
    "        if event_point.y<sweep_y:\n",
    "            print(\"No event: circle event coordinate below sweepline\")\n",
    "            return \"No event: circle event coordinate below sweepline\"\n",
    "        if ledge_node.item.get_intersection(redge_node.item)==None:\n",
    "            print(\"Edges do not cross\")\n",
    "            return \"Edges do not cross\"\n",
    "        arc_node.c_event = Event([larc_node, ledge_node, arc_node, redge_node, rarc_node])\n",
    "        arc_node.c_event.add(self.events)\n",
    "        return arc_node.c_event.str_event()\n",
    "        \n",
    "    def manage_site_event(self):\n",
    "        event=self.events.pop(0) #tolgo subito l'evento gestito; facendolo dopo potrei rimuovere un circle event aggiunto\n",
    "        crossed_arc_node = self.beach.get_arc_node_on_site(event.coord)\n",
    "        self.rm_circle_event(crossed_arc_node)\n",
    "        new_branch_root = self.beach.add_arc(event.coord, crossed_arc_node)\n",
    "        #print(\"Updating circle events in manage site events: \")\n",
    "        self.add_circle_event(new_branch_root.l, event.coord.y)\n",
    "        self.add_circle_event(new_branch_root.r.r, event.coord.y)\n",
    "        #print(\"Updated tree: \", self.beach.str_tree())\n",
    "        \n",
    "    def manage_circle_event(self):\n",
    "        event=self.events.pop(0) #tolgo subito l'evento gestito; facendolo dopo potrei rimuovere un circle event aggiunto\n",
    "        print(event.str_event())\n",
    "        print(\"Managing circle events I got\")\n",
    "        print(event.nodes[0].str_node())\n",
    "        print(event.nodes[1].str_node())\n",
    "        print(event.nodes[2].str_node())\n",
    "        print(event.edges[0].str_node())\n",
    "        print(event.edges[1].str_node())\n",
    "        #salvo dati dei segmenti prima di rm_arc che modifica i riferimenti agli elementi di event.edges\n",
    "        (dead_edgeA, dead_edgeB)=(event.edges[0].item, event.edges[1].item)\n",
    "        (dead_edgeA.end, dead_edgeB.end)=(event.vertex_coord, event.vertex_coord) \n",
    "        self.beach.rm_arc(event.vertex_coord, event.nodes, event.edges)\n",
    "        self.edges.append(dead_edgeA)\n",
    "        self.edges.append(dead_edgeB)\n",
    "        #print(\"Updating circle events in manage circle events: \")\n",
    "        self.rm_circle_event(event.nodes[0])\n",
    "        self.rm_circle_event(event.nodes[2])\n",
    "        self.add_circle_event(event.nodes[0], event.coord.y)\n",
    "        self.add_circle_event(event.nodes[2], event.coord.y)\n",
    "         #print(\"Updated tree: \", self.beach.str_tree())"
   ]
  },
  {
   "cell_type": "code",
   "execution_count": 708,
   "metadata": {
    "collapsed": false,
    "scrolled": true
   },
   "outputs": [
    {
     "name": "stdout",
     "output_type": "stream",
     "text": [
      "sites: [5, 10] [6, 6] [5, 10]\n",
      "1st event site: 6 6\n",
      "2nd event site: 5 10\n",
      "3rd event site: 5 10\n",
      "1st beachline item: 6 6\n"
     ]
    }
   ],
   "source": [
    "v=Voronoi((first_leaf.item, second_leaf.item, third_leaf.item))\n",
    "print(\"sites:\", *[str([site.x, site.y]) for site in v.sites])\n",
    "print(\"1st event site:\", v.events[0].coord.x, v.events[0].coord.y) #3rd site\n",
    "print(\"2nd event site:\", v.events[1].coord.x, v.events[1].coord.y) #2nd site\n",
    "print(\"3rd event site:\", v.events[2].coord.x, v.events[2].coord.y) #1st site\n",
    "print(\"1st beachline item:\", v.beach.item.x, v.beach.item.y) #3rd site coordinates"
   ]
  },
  {
   "cell_type": "code",
   "execution_count": 709,
   "metadata": {
    "collapsed": false
   },
   "outputs": [
    {
     "name": "stdout",
     "output_type": "stream",
     "text": [
      "1st event site: 6 6\n",
      "2nd event site: 5 10 \n",
      "\n",
      "1st event site: 6 6\n",
      "2nd event site: 7 7\n",
      "3rd event site: 5 10\n"
     ]
    }
   ],
   "source": [
    "v.events[1].rm(v.events) #rimozione in mezzo alla coda\n",
    "print(\"1st event site:\", v.events[0].coord.x, v.events[0].coord.y) #3rd site\n",
    "print(\"2nd event site:\", v.events[1].coord.x, v.events[1].coord.y, \"\\n\") #1st site\n",
    "Event(Point(7, 7)).add(v.events) #aggiunta in mezzo alla coda\n",
    "print(\"1st event site:\", v.events[0].coord.x, v.events[0].coord.y) #3rd site\n",
    "print(\"2nd event site:\", v.events[1].coord.x, v.events[1].coord.y) #new_ev_1 site\n",
    "print(\"3rd event site:\", v.events[2].coord.x, v.events[2].coord.y) #1st site"
   ]
  },
  {
   "cell_type": "code",
   "execution_count": 710,
   "metadata": {
    "collapsed": false
   },
   "outputs": [
    {
     "name": "stdout",
     "output_type": "stream",
     "text": [
      "1st event site: 7 7\n",
      "2nd event site: 5 10 \n",
      "\n",
      "1st event site: 0 -1\n",
      "2nd event site: 7 7\n",
      "3rd event site: 5 10\n"
     ]
    }
   ],
   "source": [
    "v.events[0].rm(v.events) #rimozione a inizio coda\n",
    "print(\"1st event site:\", v.events[0].coord.x, v.events[0].coord.y) #new_ev_1 site\n",
    "print(\"2nd event site:\", v.events[1].coord.x, v.events[1].coord.y, \"\\n\") #1st site\n",
    "Event(Point(0, -1)).add(v.events) #aggiunta a inizio coda\n",
    "print(\"1st event site:\", v.events[0].coord.x, v.events[0].coord.y) #new_ev_2 site\n",
    "print(\"2nd event site:\", v.events[1].coord.x, v.events[1].coord.y) #new_ev_1 site\n",
    "print(\"3rd event site:\", v.events[2].coord.x, v.events[2].coord.y) #1st site"
   ]
  },
  {
   "cell_type": "code",
   "execution_count": 711,
   "metadata": {
    "collapsed": false
   },
   "outputs": [
    {
     "name": "stdout",
     "output_type": "stream",
     "text": [
      "1st event site: 0 -1\n",
      "2nd event site: 7 7 \n",
      "\n",
      "1st event site: 0 -1\n",
      "2nd event site: 7 7\n",
      "3rd event site: -6 9.3\n"
     ]
    }
   ],
   "source": [
    "v.events[2].rm(v.events) #rimozione a fondo coda\n",
    "print(\"1st event site:\", v.events[0].coord.x, v.events[0].coord.y) #new_ev_2_site\n",
    "print(\"2nd event site:\", v.events[1].coord.x, v.events[1].coord.y, \"\\n\") #new_ev_1 site\n",
    "Event(Point(-6, 9.3)).add(v.events) #aggiunta a fondo coda\n",
    "print(\"1st event site:\", v.events[0].coord.x, v.events[0].coord.y) #new_ev_2 site\n",
    "print(\"2nd event site:\", v.events[1].coord.x, v.events[1].coord.y) #new_ev_1 site\n",
    "print(\"3rd event site:\", v.events[2].coord.x, v.events[2].coord.y) #new_ev_3 site"
   ]
  },
  {
   "cell_type": "code",
   "execution_count": 712,
   "metadata": {
    "collapsed": false,
    "scrolled": true
   },
   "outputs": [
    {
     "name": "stdout",
     "output_type": "stream",
     "text": [
      "1st event site: 0 -1\n",
      "2nd event site: 7 7\n",
      "3rd event site: -5 9.3\n",
      "4th event site: -6 9.3\n"
     ]
    }
   ],
   "source": [
    "Event(Point(-5, 9.3)).add(v.events) #aggiunta alla stessa y \n",
    "print(\"1st event site:\", v.events[0].coord.x, v.events[0].coord.y) #new_ev_2 site\n",
    "print(\"2nd event site:\", v.events[1].coord.x, v.events[1].coord.y) #new_ev_1 site\n",
    "print(\"3rd event site:\", v.events[2].coord.x, v.events[2].coord.y) #new_ev_4 site\n",
    "print(\"4th event site:\", v.events[3].coord.x, v.events[2].coord.y) #new_ev_3 site"
   ]
  },
  {
   "cell_type": "code",
   "execution_count": 713,
   "metadata": {
    "collapsed": false
   },
   "outputs": [
    {
     "name": "stdout",
     "output_type": "stream",
     "text": [
      "1st event site: 0 -1\n",
      "2nd event site: 7 7\n",
      "3rd event site: -5 9.3\n"
     ]
    }
   ],
   "source": [
    "v.events[3].rm(v.events) #rimozione alla stessa y\n",
    "print(\"1st event site:\", v.events[0].coord.x, v.events[0].coord.y) #new_ev_2 site\n",
    "print(\"2nd event site:\", v.events[1].coord.x, v.events[1].coord.y) #new_ev_1 site\n",
    "print(\"3rd event site:\", v.events[2].coord.x, v.events[2].coord.y) #new_ev_4 site"
   ]
  },
  {
   "cell_type": "code",
   "execution_count": null,
   "metadata": {
    "collapsed": true
   },
   "outputs": [],
   "source": []
  },
  {
   "cell_type": "code",
   "execution_count": 714,
   "metadata": {
    "collapsed": false
   },
   "outputs": [
    {
     "name": "stdout",
     "output_type": "stream",
     "text": [
      "Intersection between [2,0] and [1.414,1.414] when q= 2 :  [3.14018491736755e-16, 2.34314575050762]\n"
     ]
    },
    {
     "data": {
      "text/plain": [
       "<__main__.Beachline at 0x104d797f0>"
      ]
     },
     "execution_count": 714,
     "metadata": {},
     "output_type": "execute_result"
    }
   ],
   "source": [
    "### controllo di add_circle_event\n",
    "v1=Voronoi([Point(0,2), Point(math.sqrt(2),math.sqrt(2)), Point(2,0)])\n",
    "new_site=v1.events[1].coord\n",
    "crossed_arc_node=v1.beach.get_arc_node_on_site(new_site)\n",
    "v1.beach.add_arc(new_site, crossed_arc_node)\n",
    "new_site=v1.events[2].coord\n",
    "crossed_arc_node=v1.beach.get_arc_node_on_site(new_site)\n",
    "v1.beach.add_arc(new_site, crossed_arc_node)\n",
    "#new_site=v1.events[3].coord\n",
    "#crossed_arc_node=v1.beach.get_arc_node_on_site(new_site)\n",
    "#v1.beach.add_arc(new_site, crossed_arc_node)"
   ]
  },
  {
   "cell_type": "code",
   "execution_count": 715,
   "metadata": {
    "collapsed": false,
    "scrolled": false
   },
   "outputs": [
    {
     "name": "stdout",
     "output_type": "stream",
     "text": [
      "Arc. [2,0]. Circle event: None\n",
      "Arc. [0,2]. Circle event: None\n",
      "Arc. [2,0]. Circle event: None\n",
      "Arc. [1.414,1.414]. Circle event: None\n",
      "Arc. [2,0]. Circle event: None\n"
     ]
    }
   ],
   "source": [
    "arc_nodes=v1.beach.get_leaves()\n",
    "for arc_node in arc_nodes:\n",
    "    print(arc_node.str_node([]))"
   ]
  },
  {
   "cell_type": "code",
   "execution_count": 716,
   "metadata": {
    "collapsed": false,
    "scrolled": false
   },
   "outputs": [
    {
     "name": "stdout",
     "output_type": "stream",
     "text": [
      "Before checking for events\n",
      "\n",
      "# Arc nodes\n",
      "Arc. [2,0]. Circle event: None\n",
      "Arc. [0,2]. Circle event: None\n",
      "Arc. [2,0]. Circle event: None\n",
      "Arc. [1.414,1.414]. Circle event: None\n",
      "Arc. [2,0]. Circle event: None\n",
      "\n",
      "# Event queue\n",
      "['Site event. Site: [2,0]', 'Site event. Site: [1.414,1.414]', 'Site event. Site: [0,2]']\n"
     ]
    }
   ],
   "source": [
    "print(\"Before checking for events\")\n",
    "print(\"\\n# Arc nodes\")\n",
    "for arc_node in v1.beach.get_leaves():\n",
    "    print(arc_node.str_node([]))\n",
    "print(\"\\n# Event queue\")\n",
    "print([event.str_event() for event in v1.events])"
   ]
  },
  {
   "cell_type": "code",
   "execution_count": 717,
   "metadata": {
    "collapsed": false
   },
   "outputs": [
    {
     "name": "stdout",
     "output_type": "stream",
     "text": [
      "\n",
      "While checking for circle events\n",
      "No event: first or last arc\n",
      "* No event: first or last arc\n",
      "Arc. [2,0]. Circle event: None\n",
      "No event: lefter arc site equals righter arc site\n",
      "* No event: lefter arc site equals righter arc site\n",
      "Arc. [0,2]. Circle event: None\n",
      "Not vertical  1.4142135623730945 5.685807761901131e-16\n",
      "* Circle event. Coord:[0.0,2.0]. Arc site:[2,0]\n",
      "Arc. [2,0]. Event: Circle event. Coord:[0.0,2.0]. Arc site:[2,0]\n",
      "No event: lefter arc site equals righter arc site\n",
      "* No event: lefter arc site equals righter arc site\n",
      "Arc. [1.414,1.414]. Circle event: None\n",
      "No event: first or last arc\n",
      "* No event: first or last arc\n",
      "Arc. [2,0]. Circle event: None\n",
      "\n",
      " ['Site event. Site: [2,0]', 'Site event. Site: [1.414,1.414]', 'Circle event. Coord:[0.0,2.0]. Arc site:[2,0]', 'Site event. Site: [0,2]']\n"
     ]
    }
   ],
   "source": [
    "#non elimina gli archi intermedi anche una volta morti siccome non gestisco i circle event\n",
    "#nB: coordinate dei circle event non sono il centro della circonferenza ma il suo estremo\n",
    "print(\"\\nWhile checking for circle events\")\n",
    "sweep_y=1 #da tunare per verificare se l'evento viene scartato quando cade nel range già scorso\n",
    "for arc_node in v1.beach.get_leaves():\n",
    "    print(\"*\", v1.add_circle_event(arc_node, sweep_y))\n",
    "    print(arc_node.str_node([]))\n",
    "print(\"\\n\", [event.str_event() for event in v1.events])"
   ]
  },
  {
   "cell_type": "code",
   "execution_count": 718,
   "metadata": {
    "collapsed": false
   },
   "outputs": [
    {
     "name": "stdout",
     "output_type": "stream",
     "text": [
      "\n",
      "While checking for circle events\n",
      "\n",
      "Event queue before removal: \n",
      "['Site event. Site: [2,0]', 'Site event. Site: [1.414,1.414]', 'Circle event. Coord:[0.0,2.0]. Arc site:[2,0]', 'Site event. Site: [0,2]']\n",
      "\n",
      "Circle event before removal: Arc. [2,0]. Circle event: None\n",
      "Circle event after removal: Arc. [2,0]. Circle event: None\n",
      "\n",
      "Circle event before removal: Arc. [0,2]. Circle event: None\n",
      "Circle event after removal: Arc. [0,2]. Circle event: None\n",
      "\n",
      "Circle event before removal: Arc. [2,0]. Event: Circle event. Coord:[0.0,2.0]. Arc site:[2,0]\n",
      "Circle event after removal: Arc. [2,0]. Circle event: None\n",
      "\n",
      "Circle event before removal: Arc. [1.414,1.414]. Circle event: None\n",
      "Circle event after removal: Arc. [1.414,1.414]. Circle event: None\n",
      "\n",
      "Circle event before removal: Arc. [2,0]. Circle event: None\n",
      "Circle event after removal: Arc. [2,0]. Circle event: None\n",
      "\n",
      "Event queue after removal: \n",
      "['Site event. Site: [2,0]', 'Site event. Site: [1.414,1.414]', 'Site event. Site: [0,2]']\n"
     ]
    }
   ],
   "source": [
    "### controllo di rm_circle_event\n",
    "print(\"\\nWhile checking for circle events\")\n",
    "print(\"\\nEvent queue before removal: \")\n",
    "print([event.str_event() for event in v1.events])\n",
    "for arc_node in v1.beach.get_leaves():\n",
    "    print(\"\\nCircle event before removal: \"+arc_node.str_node([]))\n",
    "    v1.rm_circle_event(arc_node)\n",
    "    print(\"Circle event after removal: \"+arc_node.str_node([]))\n",
    "print(\"\\nEvent queue after removal: \")\n",
    "print([event.str_event() for event in v1.events])"
   ]
  },
  {
   "cell_type": "code",
   "execution_count": 732,
   "metadata": {
    "collapsed": false
   },
   "outputs": [],
   "source": [
    "v1=Voronoi([Point(0,-2), Point(-math.sqrt(2),-math.sqrt(2)), Point(math.sqrt(2),-math.sqrt(2)), Point(-2,0), Point(2,0),Point(-math.sqrt(2),math.sqrt(2)), Point(math.sqrt(2),math.sqrt(2)), Point(0,2)])"
   ]
  },
  {
   "cell_type": "code",
   "execution_count": 756,
   "metadata": {
    "collapsed": true
   },
   "outputs": [],
   "source": [
    "v1=Voronoi([Point(0,0), Point(0,2)])"
   ]
  },
  {
   "cell_type": "code",
   "execution_count": 757,
   "metadata": {
    "collapsed": false
   },
   "outputs": [
    {
     "data": {
      "text/plain": [
       "'[0.0,2.0]'"
      ]
     },
     "execution_count": 757,
     "metadata": {},
     "output_type": "execute_result"
    }
   ],
   "source": [
    "circumtop(Point(0,0), Point(1,1), Point(-1,1)).str_point()"
   ]
  },
  {
   "cell_type": "code",
   "execution_count": 758,
   "metadata": {
    "collapsed": false,
    "scrolled": false
   },
   "outputs": [
    {
     "name": "stdout",
     "output_type": "stream",
     "text": [
      "['Site event. Site: [0,0]', 'Site event. Site: [0,2]']\n",
      "\n",
      "\n",
      "Arc. [0,0]. Circle event: None\n",
      "['Site event. Site: [0,2]']\n",
      "\n",
      "\n",
      "No event: first or last arc\n",
      "No event: first or last arc\n",
      "Path: root. Edge. Start: [0,1.0]; Theta: 180.02; left arc focus: [0,0]; right arc focus: [0,2]\n",
      "Path: root->l. Arc. [0,0]. Circle event: None\n",
      "Path: root->r. Edge. Start: [0,1.0]; Theta: 0.0; left arc focus: [0,2]; right arc focus: [0,0]\n",
      "Path: root->r->l. Arc. [0,2]. Circle event: None\n",
      "Path: root->r->r. Arc. [0,0]. Circle event: None\n",
      "\n",
      "[]\n",
      "\n",
      "\n"
     ]
    }
   ],
   "source": [
    "print([event.str_event() for event in v1.events])\n",
    "print(\"\\n\")\n",
    "\n",
    "v1.events.pop(0)\n",
    "for arc_node in v1.beach.get_leaves():\n",
    "    print(arc_node.str_node([]))\n",
    "print([event.str_event() for event in v1.events])\n",
    "print(\"\\n\")\n",
    "\n",
    "while v1.events != []:\n",
    "#for i in range(3):\n",
    "    if v1.events[0].nodes==None:\n",
    "        v1.manage_site_event()\n",
    "    else:\n",
    "        v1.manage_circle_event()\n",
    "    print(v1.beach.str_tree())\n",
    "    print([event.str_event() for event in v1.events])\n",
    "    [print(edge.str_segment()) for edge in v1.edges]\n",
    "    print(\"\\n\")"
   ]
  },
  {
   "cell_type": "code",
   "execution_count": 759,
   "metadata": {
    "collapsed": false
   },
   "outputs": [
    {
     "name": "stdout",
     "output_type": "stream",
     "text": [
      "Path: root. Edge. Start: [0,1.0]; Theta: 180.02; left arc focus: [0,0]; right arc focus: [0,2]\n",
      "Path: root->l. Arc. [0,0]. Circle event: None\n",
      "Path: root->r. Edge. Start: [0,1.0]; Theta: 0.0; left arc focus: [0,2]; right arc focus: [0,0]\n",
      "Path: root->r->l. Arc. [0,2]. Circle event: None\n",
      "Path: root->r->r. Arc. [0,0]. Circle event: None\n",
      "\n"
     ]
    }
   ],
   "source": [
    "print(v1.beach.str_tree())"
   ]
  },
  {
   "cell_type": "code",
   "execution_count": 760,
   "metadata": {
    "collapsed": false
   },
   "outputs": [
    {
     "data": {
      "text/plain": [
       "[]"
      ]
     },
     "execution_count": 760,
     "metadata": {},
     "output_type": "execute_result"
    }
   ],
   "source": [
    "[print(edge.str_segment()) for edge in v1.edges]"
   ]
  },
  {
   "cell_type": "code",
   "execution_count": 761,
   "metadata": {
    "collapsed": false
   },
   "outputs": [],
   "source": [
    "#v1=Voronoi([Point(0,0), Point(1,1), Point(-1,1)])\n",
    "#v1=Voronoi([Point(0,0), Point(1,1), Point(-1,1), Point(0,3)])"
   ]
  },
  {
   "cell_type": "code",
   "execution_count": 693,
   "metadata": {
    "collapsed": false
   },
   "outputs": [],
   "source": [
    "#add_circle_event, Event, get_lleaf, get_rleaf"
   ]
  },
  {
   "cell_type": "code",
   "execution_count": null,
   "metadata": {
    "collapsed": false
   },
   "outputs": [],
   "source": []
  },
  {
   "cell_type": "markdown",
   "metadata": {},
   "source": [
    "## DA GESTIRE:\n",
    "\n",
    "### site event con nuovo sito con sulla verticale l'intersezione di due archi adiacenti \n",
    "vado a sezionare l'arco di destra (per convenzione. Avrei potuto sezionare il sinistro). Contestualmente si crea un\n",
    "circle event per l'arco fittizio creato (arco più a sinistra della terna creata). Come primo evento successivo\n",
    "gerstirò tale circle event aggiornando la beach\n",
    "\n",
    "### eventi alla stessa y (sia circle che site)\n",
    "penso sia meglio gestire prima i circle che i site, in modo da avere la\n",
    "beach aggiornata quando gestisco i site. \n",
    "Non penso più site event alla stessa y diano problemi, qualsiasi sia l'ordine con il quale sono gestiti\n",
    "\n",
    "* Non penso più circle events alla stessa y diano problemi, anche se questo non è ovvio. In particolare andrebbe investigato il caso in cui, eliminando un arco, aggiungo un circle event (che verrà eseguito come circle event successivo, coinvolgente un arco che deve essere eliminato da un circle event alla stessa y)\n",
    "\n",
    "### eventi alla stessa [x,y] sia circle che site\n",
    "site è stupido. L'utente non dovrebbe inserirne. Nel caso si possono eliminare siti uguali dall'input fornito\n",
    "\n",
    "* cirle event?\n",
    "\n",
    "### più siti iniziali alla stessa y\n",
    "* creo l'albero separatamente. Le foglie sono inserite controllando in quale intervallo di x cadono (e non quale è l'arco soprastante, non esistendo un arco soprastante. L'arco nel cui intervallo di x cade il nuovo sito è sostituito con un nodo a due figli. Il nodo è l'asse tra nuovo sito e sito adiacente (ci associo punto all'infinito o cosa?). Il figlio sinistro è il sito adiacente. Il figlio destro è il sito adiacente.\n",
    "\n",
    "### chiusura algoritmo\n",
    "* scandisco l'albero alla ricerca dei segmenti rimasti. Determino se sono semirette nel semipiano superiore o inferiore in base a se pl.x < pr.x o viceversa. In base a ciò decido quale intersezione con la box tenere. Tale intersezione è associata all'estremo vacante\n",
    "\n",
    "## CAMBIAMENTI\n",
    "\n",
    "### nomi\n",
    "event.nodes-->event.arcs_nodes  \n",
    "event.edges-->event.edges_nodes  \n",
    "beachline.get_lleaf-->beachline.get_lleaf_and_lparent  \n",
    "beachline.get_rleaf-->beachline.get_rleaf_and_rparent  "
   ]
  },
  {
   "cell_type": "code",
   "execution_count": null,
   "metadata": {
    "collapsed": true
   },
   "outputs": [],
   "source": []
  },
  {
   "cell_type": "code",
   "execution_count": null,
   "metadata": {
    "collapsed": true
   },
   "outputs": [],
   "source": []
  },
  {
   "cell_type": "code",
   "execution_count": null,
   "metadata": {
    "collapsed": true
   },
   "outputs": [],
   "source": []
  }
 ],
 "metadata": {
  "kernelspec": {
   "display_name": "Python 3",
   "language": "python",
   "name": "python3"
  },
  "language_info": {
   "codemirror_mode": {
    "name": "ipython",
    "version": 3
   },
   "file_extension": ".py",
   "mimetype": "text/x-python",
   "name": "python",
   "nbconvert_exporter": "python",
   "pygments_lexer": "ipython3",
   "version": "3.5.1"
  }
 },
 "nbformat": 4,
 "nbformat_minor": 0
}
