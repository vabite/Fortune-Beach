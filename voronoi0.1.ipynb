{
 "cells": [
  {
   "cell_type": "code",
   "execution_count": 965,
   "metadata": {
    "collapsed": true
   },
   "outputs": [],
   "source": [
    "import time\n",
    "import numpy as np\n",
    "import numpy as np\n",
    "import sys\n",
    "from matplotlib import collections as mc\n",
    "import matplotlib.pyplot as plt\n",
    "from collections import defaultdict"
   ]
  },
  {
   "cell_type": "code",
   "execution_count": 966,
   "metadata": {
    "collapsed": true
   },
   "outputs": [],
   "source": [
    "class Ordering(object):\n",
    "\n",
    "    def go_to_i(alist, elem, comparison):\n",
    "        i = 0\n",
    "        while i < len(alist) and comparison(elem, alist[i]):\n",
    "            i += 1\n",
    "        return i\n",
    "    \n",
    "    def is_coord_y_greater(elem1, elem2, approx=1.0e-10):\n",
    "        return elem1.coord.y>elem2.coord.y+approx"
   ]
  },
  {
   "cell_type": "code",
   "execution_count": 967,
   "metadata": {
    "collapsed": true
   },
   "outputs": [],
   "source": [
    "class Point(object):\n",
    "    \n",
    "    def __init__(self, x, y):\n",
    "        self.x = x\n",
    "        self.y = y\n",
    "        \n",
    "    def __eq__(self, other):\n",
    "        return isinstance(other, Point) and self.x==other.x and self.y==other.y  \n",
    "    \n",
    "    def __hash__(self):\n",
    "        return hash(str(self))\n",
    "    \n",
    "    def dist_to_point(self, p):\n",
    "        return np.sqrt(np.power(self.x - p.x, 2) + np.power(self.y - p.y, 2))\n",
    "    \n",
    "    def dist_to_par(self, focus):\n",
    "        return np.power(self.dist_to_point(focus), 2)/(2*abs(self.y-focus.y)) if self.dist_to_point(focus)!=0 else np.inf"
   ]
  },
  {
   "cell_type": "code",
   "execution_count": 968,
   "metadata": {
    "collapsed": true
   },
   "outputs": [],
   "source": [
    "class Circle():\n",
    "    \n",
    "    def center(a, b, c):\n",
    "        d = (a.x - c.x) * (b.y - c.y) - (b.x - c.x) * (a.y - c.y)\n",
    "        if d==0:\n",
    "            return Point(np.inf, np.inf)\n",
    "        xc=(((a.x-c.x)*(a.x+c.x)+(a.y-c.y)*(a.y+c.y))/2*(b.y-c.y)-((b.x-c.x)*(b.x+c.x)+(b.y-c.y)*(b.y+c.y))/2*(a.y-c.y))/d\n",
    "        yc=(((b.x-c.x)*(b.x+c.x)+(b.y-c.y)*(b.y+c.y))/2*(a.x-c.x)-((a.x-c.x)*(a.x+c.x)+(a.y-c.y)*(a.y+c.y))/2*(b.x-c.x))/d\n",
    "        return Point(xc,yc)"
   ]
  },
  {
   "cell_type": "code",
   "execution_count": 969,
   "metadata": {
    "collapsed": true
   },
   "outputs": [],
   "source": [
    "class Parabol():\n",
    "    \n",
    "    def cross_x(f1, f2, q):\n",
    "        if f1.y!=f2.y:\n",
    "            s1=(f1.y*f2.x-f1.x*f2.y+f1.x*q-f2.x*q+np.sqrt((f1.x*f1.x+f1.y*f1.y-2*f1.x*f2.x+f2.x*f2.x-2*f1.y*f2.y+f2.y*f2.y)*(f1.y*f2.y-f1.y*q-f2.y*q+q*q)))/(f1.y-f2.y)\n",
    "            s2=(f1.y*f2.x-f1.x*f2.y+f1.x*q-f2.x*q-np.sqrt((f1.x*f1.x+f1.y*f1.y-2*f1.x*f2.x+f2.x*f2.x-2*f1.y*f2.y+f2.y*f2.y)*(f1.y*f2.y-f1.y*q-f2.y*q+q*q)))/(f1.y-f2.y)\n",
    "            return (s1, s2) if s1<s2 else (s2, s1)\n",
    "        else:\n",
    "            return ((f1.x+f2.x)/2, (f1.x+f2.x)/2)"
   ]
  },
  {
   "cell_type": "code",
   "execution_count": 970,
   "metadata": {
    "collapsed": false
   },
   "outputs": [],
   "source": [
    "class Segment(object):\n",
    "    \n",
    "    def __init__(self,  pl=None, pr=None, start=None, end=None):\n",
    "        self.start=start\n",
    "        self.end=end\n",
    "        self.pl=pl \n",
    "        self.pr=pr\n",
    "        self.m=np.inf if self.pl.y==self.pr.y else -(self.pl.x-self.pr.x)/(self.pl.y-self.pr.y)\n",
    "        self.hp=1 if self.pl.x<self.pr.x or (self.pl.x==self.pr.x and self.pl.y>self.pr.y) else -1 #halfplane\n",
    "        self.vec=Point(1,self.m) if (self.hp*self.m>0 or (self.m==0 and self.hp>0)) else Point(-1,-self.m) #vector\n",
    "    \n",
    "    def does_intersect(self, s1, s2=None, approx=1.0e-10):\n",
    "        s2=self if s2==None else s2\n",
    "        (dx, dy) = (s2.start.x - s1.start.x, s2.start.y - s1.start.y)\n",
    "        if s2.m==np.inf:\n",
    "            return True if s2.hp*(s1.m*dx-dy)>=-approx and s1.vec.x*dx>=-approx else False\n",
    "        if s1.m==np.inf:\n",
    "            return True if s1.hp*(s2.m*dx-dy)<=approx and s2.vec.x*dx<=approx else False\n",
    "        det=s2.vec.x*s1.vec.y-s2.vec.y*s1.vec.x\n",
    "        if det==0:\n",
    "            return False\n",
    "        (u,v)=((dy*s2.vec.x-dx*s2.vec.y)/det,(dy*s1.vec.x-dx*s1.vec.y)/det)\n",
    "        return True if (u>=-approx and v>=approx) or (u>=approx and v>=-approx) else False"
   ]
  },
  {
   "cell_type": "code",
   "execution_count": 971,
   "metadata": {
    "collapsed": false
   },
   "outputs": [],
   "source": [
    "class Tree(object):\n",
    "    \n",
    "    def __init__(self, item=None, parent=None, l=None, r=None):\n",
    "        self.item=item\n",
    "        self.parent=parent\n",
    "        self.l=l\n",
    "        self.r=r\n",
    " \n",
    "    def is_root(self):\n",
    "        return self.parent==None\n",
    "    \n",
    "    def is_leaf(self):\n",
    "        return self.l==None\n",
    "    \n",
    "    def is_lchild(self):\n",
    "        return not self.is_root() and self.parent.l==self\n",
    "    \n",
    "    def is_rchild(self):\n",
    "        return not self.is_root() and self.parent.r==self\n",
    "        \n",
    "    def add_rchild(self, item, event=None):\n",
    "        self.r=Beachline(item=item, parent=self)\n",
    "        \n",
    "    def add_lchild(self, item, event=None):\n",
    "        self.l=Beachline(item=item, parent=self)\n",
    "        \n",
    "    def get_lleaf_and_lparent(self, leaf=None):\n",
    "        cur_node=self if leaf==None else leaf \n",
    "        while cur_node.is_lchild():\n",
    "            cur_node=cur_node.parent\n",
    "        if cur_node.is_root():\n",
    "            return None, None\n",
    "        lparent=cur_node.parent\n",
    "        cur_node=cur_node.parent.l\n",
    "        while not cur_node.is_leaf():\n",
    "            cur_node=cur_node.r\n",
    "        return cur_node, lparent\n",
    "    \n",
    "    def get_rleaf_and_rparent(self, leaf=None):\n",
    "        cur_node=self if leaf==None else leaf\n",
    "        while cur_node.is_rchild():\n",
    "            cur_node=cur_node.parent\n",
    "        if cur_node.is_root():\n",
    "            return None, None\n",
    "        rparent=cur_node.parent\n",
    "        cur_node=cur_node.parent.r\n",
    "        while not cur_node.is_leaf():\n",
    "            cur_node=cur_node.l\n",
    "        return cur_node, rparent "
   ]
  },
  {
   "cell_type": "code",
   "execution_count": 972,
   "metadata": {
    "collapsed": false
   },
   "outputs": [],
   "source": [
    "class Beachline(Tree):\n",
    "    \n",
    "    def __init__(self, item=None, parent=None, l=None, r=None, c_event=None):\n",
    "        super().__init__(item, parent, l, r)\n",
    "        self.c_event=c_event\n",
    "    \n",
    "    def get_arc_node_on_site(self, new_site):\n",
    "        cur_node=self\n",
    "        while isinstance(cur_node.item, Segment):\n",
    "            sol=0 if cur_node.item.pl.y<cur_node.item.pr.y else 1\n",
    "            cur_node=cur_node.l if new_site.x<(Parabol.cross_x(cur_node.item.pl, cur_node.item.pr, new_site.y)[sol]) else cur_node.r\n",
    "        return cur_node           \n",
    "\n",
    "    def add_arc(self, new_arc_site, crossed_arc_node):\n",
    "        crossed_arc_site = crossed_arc_node.item\n",
    "        cross_point = Point(new_arc_site.x, new_arc_site.y-new_arc_site.dist_to_par(crossed_arc_site))\n",
    "        new_lhalfedge=Segment(pl=crossed_arc_site, pr=new_arc_site, start=cross_point)\n",
    "        new_rhalfedge=Segment(pl=new_arc_site, pr=crossed_arc_site, start=cross_point)\n",
    "        crossed_arc_node.item = new_lhalfedge\n",
    "        crossed_arc_node.add_lchild(crossed_arc_site)\n",
    "        crossed_arc_node.add_rchild(new_rhalfedge)\n",
    "        crossed_arc_node.r.add_lchild(new_arc_site)\n",
    "        crossed_arc_node.r.add_rchild(crossed_arc_site)\n",
    "     \n",
    "    def rm_arc(self, new_edge_start, arcs_nodes, edges_nodes):\n",
    "        (live_larc_node, dead_arc_node, live_rarc_node)=arcs_nodes\n",
    "        if dead_arc_node.is_rchild():\n",
    "            (live_cut_branch, mid_edge_node, top_edge_node)=(edges_nodes[0].l, edges_nodes[0], edges_nodes[1])  \n",
    "        else:\n",
    "            (live_cut_branch, mid_edge_node, top_edge_node)=(edges_nodes[1].r, edges_nodes[1], edges_nodes[0])  \n",
    "        top_edge_node.item = Segment(pl=live_larc_node.item, pr=live_rarc_node.item, start=new_edge_start, end=None)\n",
    "        if mid_edge_node.is_rchild():\n",
    "            mid_edge_node.parent.r=live_cut_branch\n",
    "        else:\n",
    "            mid_edge_node.parent.l=live_cut_branch\n",
    "        live_cut_branch.parent=mid_edge_node.parent"
   ]
  },
  {
   "cell_type": "code",
   "execution_count": 973,
   "metadata": {
    "collapsed": true
   },
   "outputs": [],
   "source": [
    "class Event(object):\n",
    "    \n",
    "    def __init__(self, arc_site_or_nodes):\n",
    "        if isinstance(arc_site_or_nodes, Point): \n",
    "            self.coord=arc_site_or_nodes\n",
    "            self.arcs_nodes=None\n",
    "        else:\n",
    "            self.arcs_nodes=[arc_site_or_nodes[0], arc_site_or_nodes[2], arc_site_or_nodes[4]]\n",
    "            self.edges_nodes=[arc_site_or_nodes[1], arc_site_or_nodes[3]]\n",
    "            self.vertex_coord=Circle.center(self.arcs_nodes[0].item, self.arcs_nodes[1].item, self.arcs_nodes[2].item)\n",
    "            self.coord=Point(self.vertex_coord.x,self.vertex_coord.y+self.arcs_nodes[0].item.dist_to_point(self.vertex_coord))\n",
    "      \n",
    "    def __eq__(self, e):\n",
    "        return isinstance(e, Event) and self.arcs_nodes==e.arcs_nodes and self.coord==e.coord\n",
    "    \n",
    "    def add(self, es):\n",
    "        i=Ordering.go_to_i(es, self, Ordering.is_coord_y_greater)\n",
    "        es.insert(i, self)\n",
    "    \n",
    "    def rm(self, es):\n",
    "        i=Ordering.go_to_i(es, self, Ordering.is_coord_y_greater)\n",
    "        while True:\n",
    "            if i==len(es)-1 or self.coord.y != es[i+1].coord.y or self==es[i]: \n",
    "                return es.pop(i)\n",
    "            i+=1"
   ]
  },
  {
   "cell_type": "code",
   "execution_count": 974,
   "metadata": {
    "collapsed": false
   },
   "outputs": [],
   "source": [
    "class Voronoi(object):\n",
    "    \n",
    "    def __init__(self, sites):\n",
    "        self.sites=sites  #siti di V, obj Point\n",
    "        self.events=[]\n",
    "        self.iterations=0 #inserito per il calcolo delle iterazioni, ma non necessario alla creazione del diagramma\n",
    "        for site in sites:\n",
    "            Event(site).add(self.events)\n",
    "        self.beach=Beachline()\n",
    "        self.edges=[]    \n",
    "\n",
    "    def rm_circle_event(self, arc_node):\n",
    "        if arc_node.c_event != None:\n",
    "            arc_node.c_event.rm(self.events)\n",
    "            arc_node.c_event = None\n",
    "\n",
    "    def add_circle_event(self, arc_node, sweep_y, approx=1.0e-10):\n",
    "        larc_node, ledge_node = arc_node.get_lleaf_and_lparent()\n",
    "        rarc_node, redge_node = arc_node.get_rleaf_and_rparent()\n",
    "        if larc_node==None or rarc_node==None or larc_node.item==rarc_node.item or not ledge_node.item.does_intersect(redge_node.item):\n",
    "            return\n",
    "        cc = Circle.center(larc_node.item, arc_node.item, rarc_node.item)\n",
    "        if cc.y==np.inf:\n",
    "            return\n",
    "        event_coord=Point(cc.x, cc.y+arc_node.item.dist_to_point(cc))\n",
    "        if event_coord.y<sweep_y-approx:\n",
    "            return \n",
    "        arc_node.c_event=Event([larc_node, ledge_node, arc_node, redge_node, rarc_node])\n",
    "        arc_node.c_event.add(self.events)\n",
    "    \n",
    "    def manage_site_event(self):\n",
    "        event=self.events.pop(0)\n",
    "        crossed_arc_node=self.beach.get_arc_node_on_site(event.coord)\n",
    "        rarc_node=crossed_arc_node.get_rleaf_and_rparent()[0]\n",
    "        larc_node=crossed_arc_node.get_lleaf_and_lparent()[0]\n",
    "        self.rm_circle_event(crossed_arc_node)\n",
    "        if larc_node!=None:\n",
    "            self.rm_circle_event(larc_node)\n",
    "        if rarc_node!=None:\n",
    "            self.rm_circle_event(rarc_node)\n",
    "        self.beach.add_arc(event.coord, crossed_arc_node)\n",
    "        if larc_node!=None:\n",
    "            self.add_circle_event(larc_node, event.coord.y)\n",
    "        if rarc_node!=None:\n",
    "            self.add_circle_event(rarc_node, event.coord.y)\n",
    "        self.add_circle_event(crossed_arc_node.l, event.coord.y)\n",
    "        self.add_circle_event(crossed_arc_node.r.r, event.coord.y)\n",
    "        \n",
    "    def manage_circle_event(self):\n",
    "        event=self.events.pop(0)\n",
    "        (dead_edgeA, dead_edgeB)=(event.edges_nodes[0].item, event.edges_nodes[1].item)\n",
    "        (dead_edgeA.end, dead_edgeB.end)=(event.vertex_coord, event.vertex_coord) \n",
    "        self.beach.rm_arc(event.vertex_coord, event.arcs_nodes, event.edges_nodes)\n",
    "        self.edges.append(dead_edgeA)\n",
    "        self.edges.append(dead_edgeB)\n",
    "        self.rm_circle_event(event.arcs_nodes[0])\n",
    "        self.rm_circle_event(event.arcs_nodes[2])\n",
    "        self.add_circle_event(event.arcs_nodes[0], event.coord.y)\n",
    "        self.add_circle_event(event.arcs_nodes[2], event.coord.y)\n",
    "            \n",
    "    def run(self):\n",
    "        self.beach.item=self.events.pop(0).coord\n",
    "        self.iterations+=1\n",
    "        while self.events!=[]:\n",
    "            self.manage_site_event() if self.events[0].arcs_nodes==None else self.manage_circle_event()\n",
    "            self.iterations+=1\n",
    "            \n",
    "    def plot_edges(self, x_range, y_range, file_name=\"voronoi_ex.png\"):\n",
    "        self.run()\n",
    "        lines = [[(edge.start.x, edge.start.y),(edge.end.x, edge.end.y)] for edge in self.edges]\n",
    "        lc = mc.LineCollection(lines)\n",
    "        fig, ax = plt.subplots()\n",
    "        ax.axis([*x_range, *y_range])\n",
    "        ax.add_collection(lc)\n",
    "        ax.margins(0.1)\n",
    "        xs, ys = zip(*[[p.x,p.y] for p in self.sites])\n",
    "        ax.plot(xs, ys, 'ro')\n",
    "        fig.savefig(file_name)\n",
    "    \n",
    "    def plot_patches(self, x_range, y_range, file_name=\"voronoi_p.png\"): \n",
    "        self.run()\n",
    "        pts = self.sites\n",
    "        pts_dict = defaultdict(list)\n",
    "        patches = []\n",
    "        colors = []\n",
    "        for edge in self.edges:\n",
    "            pts_dict[edge.pl].append((edge.start, edge.end))\n",
    "            pts_dict[edge.pr].append((edge.start, edge.end))\n",
    "        for center, v_raw in pts_dict.items():\n",
    "            starts, ends = zip(*v_raw)\n",
    "            vertices = set(starts + ends)\n",
    "            vertices = sorted(vertices, key=lambda p: np.arctan2(p.y-center.y,p.x-center.x))\n",
    "            vertices = [(v.x, v.y) for v in vertices]\n",
    "            patches.append(Polygon(vertices, True))\n",
    "            colors.append(center.dist_to_point(Point(0,0)))\n",
    "        fig, ax = plt.subplots()\n",
    "        colors = 100*np.random.rand(len(patches))\n",
    "        pc = PatchCollection(patches, cmap=jet, alpha=0.2)\n",
    "        pc.set_array(np.array(colors))\n",
    "        ax.axis([*x_range, *y_range])\n",
    "        ax.add_collection(pc)\n",
    "        ax.margins(0.1)\n",
    "        xs, ys = zip(*[(p.x, p.y) for p in pts])\n",
    "        ax.plot(xs, ys, 'ro', markersize=1)\n",
    "        fig.savefig(file_name)"
   ]
  },
  {
   "cell_type": "code",
   "execution_count": 975,
   "metadata": {
    "collapsed": true
   },
   "outputs": [],
   "source": [
    "v_two_points=[Point(0,-1), Point(0,1)]\n",
    "v_four_points=[Point(0,0), Point(0,1), Point(0,2), Point(0,3)]\n",
    "v_triangle=[Point(0,0), Point(1,1), Point(-1,1)]\n",
    "v_square=[Point(0,-1), Point(1,0), Point(-1,0), Point(0,1)]\n",
    "v_centered_square=[Point(0,0), Point(0,-1), Point(1,0), Point(-1,0), Point(0,1)]\n",
    "v_cross=[Point(0,-1), Point(1,0), Point(-1,0), Point(0,2)]\n",
    "v_octagon=[Point(0,-2), Point(-np.sqrt(2),-np.sqrt(2)), Point(np.sqrt(2),-np.sqrt(2)), Point(-2,0), Point(2,0),Point(-np.sqrt(2),np.sqrt(2)), Point(np.sqrt(2),np.sqrt(2)), Point(0,2)]\n",
    "v_centered_octagon=[Point(0,0), Point(0,-2), Point(-np.sqrt(2),-np.sqrt(2)), Point(np.sqrt(2),-np.sqrt(2)), Point(-2,0), Point(2,0),Point(-np.sqrt(2),np.sqrt(2)), Point(np.sqrt(2),np.sqrt(2)), Point(0,2)]"
   ]
  },
  {
   "cell_type": "code",
   "execution_count": 976,
   "metadata": {
    "collapsed": true
   },
   "outputs": [],
   "source": [
    "h_two_points=[Point(0,0), Point(1,0)]\n",
    "h_four_points=[Point(0,0), Point(1,0), Point(2,0), Point(3,0)]\n",
    "h_triangle=[Point(-1,-1), Point(1,-1), Point(0,1)]\n",
    "h_square=[Point(-1,-1), Point(1,-1), Point(-1,1), Point(1,1)]\n",
    "h_centered_square=[Point(-1,-1), Point(1,-1), Point(-1,1), Point(1,1), Point(0,0)]\n",
    "x1=np.cos(np.pi/8); y1=np.sin(np.pi/8);x2=np.cos(3*np.pi/8);y2=np.sin(3*np.pi/8)\n",
    "h_octagon=[Point(x1,y1), Point(x2,y2), Point(-x1,y1), Point(-x2,y2), Point(-x1,-y1), Point(-x2,-y2), Point(x1,-y1), Point(x2,-y2)]\n",
    "h_centered_octagon=[Point(0,0), Point(x1,y1), Point(x2,y2), Point(-x1,y1), Point(-x2,y2), Point(-x1,-y1), Point(-x2,-y2), Point(x1,-y1), Point(x2,-y2)]"
   ]
  },
  {
   "cell_type": "code",
   "execution_count": 977,
   "metadata": {
    "collapsed": false
   },
   "outputs": [],
   "source": [
    "def main(sites, x_range=(-15,15), y_range=(-15,15)):\n",
    "    time0 = time.time()\n",
    "    (xm, ym)=((x_range[1]-x_range[0])/2, (y_range[1]-y_range[0])/2)\n",
    "    diag=np.sqrt(np.power(x_range[1]-x_range[0], 2) + np.power(y_range[1]-y_range[0], 2))\n",
    "    closing_points=[Point(xm, y_range[0]-diag), Point(x_range[1]+diag, ym), Point(xm, y_range[1]+diag), Point(x_range[0]-diag, ym)]\n",
    "    v=Voronoi(sites+closing_points)\n",
    "    v.plot_edges(x_range, y_range)\n",
    "    time1 = time.time()\n",
    "    print(\"Ended. It took %.4f seconds and %s iterations\" % (time1 - time0, v.iterations))"
   ]
  },
  {
   "cell_type": "code",
   "execution_count": 982,
   "metadata": {
    "collapsed": false
   },
   "outputs": [
    {
     "name": "stdout",
     "output_type": "stream",
     "text": [
      "Ended. It took 0.1648 seconds and 18 iterations\n"
     ]
    },
    {
     "name": "stderr",
     "output_type": "stream",
     "text": [
      "/Users/vabite/anaconda/envs/paths/lib/python3.5/site-packages/matplotlib/pyplot.py:516: RuntimeWarning: More than 20 figures have been opened. Figures created through the pyplot interface (`matplotlib.pyplot.figure`) are retained until explicitly closed and may consume too much memory. (To control this warning, see the rcParam `figure.max_open_warning`).\n",
      "  max_open_warning, RuntimeWarning)\n"
     ]
    }
   ],
   "source": [
    "main(h_four_points)"
   ]
  },
  {
   "cell_type": "code",
   "execution_count": null,
   "metadata": {
    "collapsed": true
   },
   "outputs": [],
   "source": []
  },
  {
   "cell_type": "code",
   "execution_count": null,
   "metadata": {
    "collapsed": true
   },
   "outputs": [],
   "source": []
  },
  {
   "cell_type": "code",
   "execution_count": null,
   "metadata": {
    "collapsed": true
   },
   "outputs": [],
   "source": []
  }
 ],
 "metadata": {
  "kernelspec": {
   "display_name": "Python 3",
   "language": "python",
   "name": "python3"
  },
  "language_info": {
   "codemirror_mode": {
    "name": "ipython",
    "version": 3
   },
   "file_extension": ".py",
   "mimetype": "text/x-python",
   "name": "python",
   "nbconvert_exporter": "python",
   "pygments_lexer": "ipython3",
   "version": "3.5.1"
  }
 },
 "nbformat": 4,
 "nbformat_minor": 0
}
